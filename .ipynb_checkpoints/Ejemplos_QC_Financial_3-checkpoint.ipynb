{
 "cells": [
  {
   "cell_type": "markdown",
   "metadata": {},
   "source": [
    "# Construcción y Uso de Una Curva Cero Cupón"
   ]
  },
  {
   "cell_type": "markdown",
   "metadata": {},
   "source": [
    "Se importa la versión de `QC_Financial` compilada para Python3."
   ]
  },
  {
   "cell_type": "code",
   "execution_count": 54,
   "metadata": {},
   "outputs": [],
   "source": [
    "from finrisk import QC_Financial_3 as Qcf"
   ]
  },
  {
   "cell_type": "markdown",
   "metadata": {},
   "source": [
    "Librerías adicionales."
   ]
  },
  {
   "cell_type": "code",
   "execution_count": 55,
   "metadata": {},
   "outputs": [],
   "source": [
    "import pandas as pd"
   ]
  },
  {
   "cell_type": "markdown",
   "metadata": {},
   "source": [
    "Para formateo de `pandas.DataFrames`."
   ]
  },
  {
   "cell_type": "code",
   "execution_count": 56,
   "metadata": {},
   "outputs": [],
   "source": [
    "format_dict = {'nominal': '{0:,.2f}', 'amort': '{0:,.2f}', 'interes': '{0:,.2f}', 'flujo': '{0:,.2f}', 'amortizacion': '{0:,.2f}',\n",
    "               'icp_inicial': '{0:,.2f}', 'icp_final': '{0:,.2f}',\n",
    "               'valor_tasa': '{0:,.4%}', 'spread': '{0:,.4%}', 'gearing': '{0:,.2f}',\n",
    "               'amort_moneda_pago': '{0:,.2f}', 'interes_moneda_pago': '{0:,.2f}', 'valor_indice_fx': '{0:,.2f}'}"
   ]
  },
  {
   "cell_type": "markdown",
   "metadata": {},
   "source": [
    "## Construcción de la Curva"
   ]
  },
  {
   "cell_type": "markdown",
   "metadata": {},
   "source": [
    "La construcción de una curva se hace en varios pasos."
   ]
  },
  {
   "cell_type": "markdown",
   "metadata": {},
   "source": [
    "### Vectores de Float e Int"
   ]
  },
  {
   "cell_type": "code",
   "execution_count": 57,
   "metadata": {},
   "outputs": [],
   "source": [
    "# Este es un vector de números enteros (grandes, de ahí la l (long))\n",
    "lvec = Qcf.long_vec()"
   ]
  },
  {
   "cell_type": "code",
   "execution_count": 58,
   "metadata": {},
   "outputs": [],
   "source": [
    "# Agregar un elemento\n",
    "lvec.append(1)"
   ]
  },
  {
   "cell_type": "code",
   "execution_count": 59,
   "metadata": {},
   "outputs": [],
   "source": [
    "# Este es un vector de números double.\n",
    "vec = Qcf.double_vec()"
   ]
  },
  {
   "cell_type": "code",
   "execution_count": 60,
   "metadata": {},
   "outputs": [],
   "source": [
    "# Agregar un elemento\n",
    "vec.append(.025)"
   ]
  },
  {
   "cell_type": "code",
   "execution_count": 61,
   "metadata": {},
   "outputs": [
    {
     "name": "stdout",
     "output_type": "stream",
     "text": [
      "Tasa: 2.50%\n"
     ]
    }
   ],
   "source": [
    "# Obtener ese elemento\n",
    "print(\"Tasa: {0:,.2%}\".format(vec[0]))"
   ]
  },
  {
   "cell_type": "markdown",
   "metadata": {},
   "source": [
    "### Objeto Curva"
   ]
  },
  {
   "cell_type": "markdown",
   "metadata": {},
   "source": [
    "Es simplemente un `long_vec` que representa las abscisas de la curva y un `double_vec` que representa las ordenadas. Ambos vectores deben tener el mismo largo. "
   ]
  },
  {
   "cell_type": "code",
   "execution_count": 62,
   "metadata": {},
   "outputs": [],
   "source": [
    "zcc = Qcf.QCCurve(lvec, vec)"
   ]
  },
  {
   "cell_type": "markdown",
   "metadata": {},
   "source": [
    "Un elemento de una curva se representa como un par abscisa, ordenada."
   ]
  },
  {
   "cell_type": "code",
   "execution_count": 63,
   "metadata": {},
   "outputs": [
    {
     "data": {
      "text/plain": [
       "<finrisk.QC_Financial_3.CurvePoint at 0x11ff806f0>"
      ]
     },
     "execution_count": 63,
     "metadata": {},
     "output_type": "execute_result"
    }
   ],
   "source": [
    "zcc.get_values_at(0)"
   ]
  },
  {
   "cell_type": "markdown",
   "metadata": {},
   "source": [
    "Se obtiene el plazo en una posición de la curva."
   ]
  },
  {
   "cell_type": "code",
   "execution_count": 64,
   "metadata": {},
   "outputs": [
    {
     "data": {
      "text/plain": [
       "1"
      ]
     },
     "execution_count": 64,
     "metadata": {},
     "output_type": "execute_result"
    }
   ],
   "source": [
    "zcc.get_values_at(0).tenor"
   ]
  },
  {
   "cell_type": "markdown",
   "metadata": {},
   "source": [
    "Se obtiene la tasa en una posición de la curva."
   ]
  },
  {
   "cell_type": "code",
   "execution_count": 65,
   "metadata": {},
   "outputs": [
    {
     "data": {
      "text/plain": [
       "0.025"
      ]
     },
     "execution_count": 65,
     "metadata": {},
     "output_type": "execute_result"
    }
   ],
   "source": [
    "zcc.get_values_at(0).value"
   ]
  },
  {
   "cell_type": "markdown",
   "metadata": {},
   "source": [
    "Se agrega un par (plazo, valor) a la curva."
   ]
  },
  {
   "cell_type": "code",
   "execution_count": 66,
   "metadata": {},
   "outputs": [],
   "source": [
    "zcc.set_pair(30, .026)"
   ]
  },
  {
   "cell_type": "markdown",
   "metadata": {},
   "source": [
    "Se verifica."
   ]
  },
  {
   "cell_type": "code",
   "execution_count": 67,
   "metadata": {},
   "outputs": [
    {
     "data": {
      "text/plain": [
       "30"
      ]
     },
     "execution_count": 67,
     "metadata": {},
     "output_type": "execute_result"
    }
   ],
   "source": [
    "# Plazo\n",
    "zcc.get_values_at(1).tenor"
   ]
  },
  {
   "cell_type": "code",
   "execution_count": 68,
   "metadata": {},
   "outputs": [
    {
     "data": {
      "text/plain": [
       "0.026"
      ]
     },
     "execution_count": 68,
     "metadata": {},
     "output_type": "execute_result"
    }
   ],
   "source": [
    "# Valor\n",
    "zcc.get_values_at(1).value"
   ]
  },
  {
   "cell_type": "markdown",
   "metadata": {},
   "source": [
    "Se agrega un par más."
   ]
  },
  {
   "cell_type": "code",
   "execution_count": 69,
   "metadata": {},
   "outputs": [],
   "source": [
    "zcc.set_pair(370, .03)"
   ]
  },
  {
   "cell_type": "markdown",
   "metadata": {},
   "source": [
    "Se itera sobre la curva mostrando sus valores"
   ]
  },
  {
   "cell_type": "code",
   "execution_count": 70,
   "metadata": {},
   "outputs": [
    {
     "name": "stdout",
     "output_type": "stream",
     "text": [
      "Tenor: 1 Valor: 2.5000%\n",
      "Tenor: 30 Valor: 2.6000%\n",
      "Tenor: 370 Valor: 3.0000%\n"
     ]
    }
   ],
   "source": [
    "for i in range(0, zcc.get_length()):\n",
    "    pair = zcc.get_values_at(i)\n",
    "    print(\"Tenor: {0:} Valor: {1:.4%}\".format(pair.tenor, pair.value))"
   ]
  },
  {
   "cell_type": "markdown",
   "metadata": {},
   "source": [
    "Se define un interpolador. En este caso, un interpolador lineal."
   ]
  },
  {
   "cell_type": "code",
   "execution_count": 71,
   "metadata": {},
   "outputs": [],
   "source": [
    "lin = Qcf.QCLinearInterpolator(zcc)"
   ]
  },
  {
   "cell_type": "markdown",
   "metadata": {},
   "source": [
    "Se hace una prueba."
   ]
  },
  {
   "cell_type": "code",
   "execution_count": 72,
   "metadata": {},
   "outputs": [
    {
     "name": "stdout",
     "output_type": "stream",
     "text": [
      "Tasa en 10 es igual a 2.5310%\n"
     ]
    }
   ],
   "source": [
    "print(\"Tasa en {0:} es igual a {1:.4%}\".format(10, lin.interpolate_at(10)))"
   ]
  },
  {
   "cell_type": "markdown",
   "metadata": {},
   "source": [
    "Para completar el proceso se define una fracción de año, un factor de capitalización y un tipo de tasa. Con estos objetos se termina de dar de alta una curva cero."
   ]
  },
  {
   "cell_type": "code",
   "execution_count": 73,
   "metadata": {},
   "outputs": [],
   "source": [
    "yf = Qcf.QCAct365()\n",
    "wf = Qcf.QCLinearWf()\n",
    "tasa = Qcf.QCInterestRate(.01, yf, wf)"
   ]
  },
  {
   "cell_type": "code",
   "execution_count": 74,
   "metadata": {},
   "outputs": [],
   "source": [
    "zz = Qcf.ZeroCouponCurve(lin, tasa)"
   ]
  },
  {
   "cell_type": "markdown",
   "metadata": {},
   "source": [
    "El interpolador permite obtener una tasa a cualquier plazo."
   ]
  },
  {
   "cell_type": "code",
   "execution_count": 75,
   "metadata": {},
   "outputs": [
    {
     "name": "stdout",
     "output_type": "stream",
     "text": [
      "Tasa en 365 es igual a 2.9941%\n"
     ]
    }
   ],
   "source": [
    "plazo = 365\n",
    "print(\"Tasa en {0:} es igual a {1:.4%}\".format(plazo, zz.get_rate_at(plazo)))"
   ]
  },
  {
   "cell_type": "code",
   "execution_count": 76,
   "metadata": {},
   "outputs": [
    {
     "data": {
      "text/plain": [
       "finrisk.QC_Financial_3.ZeroCouponCurve"
      ]
     },
     "execution_count": 76,
     "metadata": {},
     "output_type": "execute_result"
    }
   ],
   "source": [
    "type(zz)"
   ]
  },
  {
   "cell_type": "markdown",
   "metadata": {},
   "source": [
    "TODO: mostrar los otros métodos disponibles."
   ]
  },
  {
   "cell_type": "code",
   "execution_count": 77,
   "metadata": {},
   "outputs": [
    {
     "data": {
      "text/plain": [
       "0.9999315115403055"
      ]
     },
     "execution_count": 77,
     "metadata": {},
     "output_type": "execute_result"
    }
   ],
   "source": [
    "zz.get_discount_factor_at(1)"
   ]
  },
  {
   "cell_type": "markdown",
   "metadata": {},
   "source": [
    "## Valorizar"
   ]
  },
  {
   "cell_type": "markdown",
   "metadata": {},
   "source": [
    "Se da de alta un objeto `PresentValue`."
   ]
  },
  {
   "cell_type": "code",
   "execution_count": 78,
   "metadata": {},
   "outputs": [],
   "source": [
    "pv = Qcf.PresentValue()"
   ]
  },
  {
   "cell_type": "markdown",
   "metadata": {},
   "source": [
    "### Depósito a Plazo"
   ]
  },
  {
   "cell_type": "markdown",
   "metadata": {},
   "source": [
    "Se utilizará como instrumento un depósito a plazo en CLP o USD. Este instrumento se modela como un `SimpleCashflow`. Este, a su vez se construye con un monto, una fecha y una moneda."
   ]
  },
  {
   "cell_type": "code",
   "execution_count": 79,
   "metadata": {},
   "outputs": [],
   "source": [
    "# Con estas variables vamos a construir\n",
    "fecha_vcto = Qcf.QCDate(12, 1, 2020)\n",
    "monto = 10000000.0\n",
    "clp = Qcf.QCCLP()\n",
    "\n",
    "# Se construye el depósito\n",
    "depo = Qcf.SimpleCashflow(fecha_vcto, monto, clp)"
   ]
  },
  {
   "cell_type": "code",
   "execution_count": 80,
   "metadata": {},
   "outputs": [
    {
     "name": "stdout",
     "output_type": "stream",
     "text": [
      "Monto del depósito: 10,000,000\n"
     ]
    }
   ],
   "source": [
    "print(\"Monto del depósito: {0:,.0f}\".format(depo.amount()))"
   ]
  },
  {
   "cell_type": "markdown",
   "metadata": {},
   "source": [
    "Se define una fecha de valorización y se calcula el valor presente del depo."
   ]
  },
  {
   "cell_type": "code",
   "execution_count": 81,
   "metadata": {},
   "outputs": [
    {
     "name": "stdout",
     "output_type": "stream",
     "text": [
      "Valor presente depo: 0\n"
     ]
    }
   ],
   "source": [
    "fecha_hoy = Qcf.QCDate(17, 1, 2020)\n",
    "print(\"Valor presente depo: {0:,.0f}\".format(pv.pv(fecha_hoy, depo, zz)))"
   ]
  },
  {
   "cell_type": "markdown",
   "metadata": {},
   "source": [
    "Se verifica *a mano* el resultado."
   ]
  },
  {
   "cell_type": "code",
   "execution_count": 82,
   "metadata": {},
   "outputs": [
    {
     "name": "stdout",
     "output_type": "stream",
     "text": [
      "Plazo: -5\n"
     ]
    }
   ],
   "source": [
    "plazo = fecha_hoy.day_diff(fecha_vcto)\n",
    "print(\"Plazo:\", plazo)"
   ]
  },
  {
   "cell_type": "code",
   "execution_count": 83,
   "metadata": {},
   "outputs": [
    {
     "name": "stdout",
     "output_type": "stream",
     "text": [
      "Tasa: 2.5000%\n"
     ]
    }
   ],
   "source": [
    "tasa_int = zz.get_rate_at(plazo)\n",
    "print(\"Tasa: {0:,.4%}\".format(tasa_int))"
   ]
  },
  {
   "cell_type": "code",
   "execution_count": 84,
   "metadata": {},
   "outputs": [
    {
     "name": "stdout",
     "output_type": "stream",
     "text": [
      "Valor presente a mano: 10,003,383\n"
     ]
    }
   ],
   "source": [
    "valor_presente = monto * (1 + tasa_int)**(-plazo / 365)\n",
    "print(\"Valor presente a mano: {0:,.0f}\".format(valor_presente))"
   ]
  },
  {
   "cell_type": "markdown",
   "metadata": {},
   "source": [
    "### Fixed Rate Leg"
   ]
  },
  {
   "cell_type": "markdown",
   "metadata": {},
   "source": [
    "Construyamos una curva un poco más real."
   ]
  },
  {
   "cell_type": "code",
   "execution_count": 85,
   "metadata": {},
   "outputs": [
    {
     "data": {
      "text/html": [
       "<style  type=\"text/css\" >\n",
       "</style><table id=\"T_5dcbc0d4_3c82_11ea_8e83_acde48001122\" ><thead>    <tr>        <th class=\"blank level0\" ></th>        <th class=\"col_heading level0 col0\" >curva</th>        <th class=\"col_heading level0 col1\" >fecha</th>        <th class=\"col_heading level0 col2\" >plazo</th>        <th class=\"col_heading level0 col3\" >tasa</th>    </tr></thead><tbody>\n",
       "                <tr>\n",
       "                        <th id=\"T_5dcbc0d4_3c82_11ea_8e83_acde48001122level0_row0\" class=\"row_heading level0 row0\" >0</th>\n",
       "                        <td id=\"T_5dcbc0d4_3c82_11ea_8e83_acde48001122row0_col0\" class=\"data row0 col0\" >CAMARACLP</td>\n",
       "                        <td id=\"T_5dcbc0d4_3c82_11ea_8e83_acde48001122row0_col1\" class=\"data row0 col1\" >2020-01-17 00:00:00</td>\n",
       "                        <td id=\"T_5dcbc0d4_3c82_11ea_8e83_acde48001122row0_col2\" class=\"data row0 col2\" >3</td>\n",
       "                        <td id=\"T_5dcbc0d4_3c82_11ea_8e83_acde48001122row0_col3\" class=\"data row0 col3\" >1.7500%</td>\n",
       "            </tr>\n",
       "            <tr>\n",
       "                        <th id=\"T_5dcbc0d4_3c82_11ea_8e83_acde48001122level0_row1\" class=\"row_heading level0 row1\" >1</th>\n",
       "                        <td id=\"T_5dcbc0d4_3c82_11ea_8e83_acde48001122row1_col0\" class=\"data row1 col0\" >CAMARACLP</td>\n",
       "                        <td id=\"T_5dcbc0d4_3c82_11ea_8e83_acde48001122row1_col1\" class=\"data row1 col1\" >2020-01-17 00:00:00</td>\n",
       "                        <td id=\"T_5dcbc0d4_3c82_11ea_8e83_acde48001122row1_col2\" class=\"data row1 col2\" >4</td>\n",
       "                        <td id=\"T_5dcbc0d4_3c82_11ea_8e83_acde48001122row1_col3\" class=\"data row1 col3\" >1.7501%</td>\n",
       "            </tr>\n",
       "            <tr>\n",
       "                        <th id=\"T_5dcbc0d4_3c82_11ea_8e83_acde48001122level0_row2\" class=\"row_heading level0 row2\" >2</th>\n",
       "                        <td id=\"T_5dcbc0d4_3c82_11ea_8e83_acde48001122row2_col0\" class=\"data row2 col0\" >CAMARACLP</td>\n",
       "                        <td id=\"T_5dcbc0d4_3c82_11ea_8e83_acde48001122row2_col1\" class=\"data row2 col1\" >2020-01-17 00:00:00</td>\n",
       "                        <td id=\"T_5dcbc0d4_3c82_11ea_8e83_acde48001122row2_col2\" class=\"data row2 col2\" >95</td>\n",
       "                        <td id=\"T_5dcbc0d4_3c82_11ea_8e83_acde48001122row2_col3\" class=\"data row2 col3\" >1.7360%</td>\n",
       "            </tr>\n",
       "            <tr>\n",
       "                        <th id=\"T_5dcbc0d4_3c82_11ea_8e83_acde48001122level0_row3\" class=\"row_heading level0 row3\" >3</th>\n",
       "                        <td id=\"T_5dcbc0d4_3c82_11ea_8e83_acde48001122row3_col0\" class=\"data row3 col0\" >CAMARACLP</td>\n",
       "                        <td id=\"T_5dcbc0d4_3c82_11ea_8e83_acde48001122row3_col1\" class=\"data row3 col1\" >2020-01-17 00:00:00</td>\n",
       "                        <td id=\"T_5dcbc0d4_3c82_11ea_8e83_acde48001122row3_col2\" class=\"data row3 col2\" >186</td>\n",
       "                        <td id=\"T_5dcbc0d4_3c82_11ea_8e83_acde48001122row3_col3\" class=\"data row3 col3\" >1.7014%</td>\n",
       "            </tr>\n",
       "            <tr>\n",
       "                        <th id=\"T_5dcbc0d4_3c82_11ea_8e83_acde48001122level0_row4\" class=\"row_heading level0 row4\" >4</th>\n",
       "                        <td id=\"T_5dcbc0d4_3c82_11ea_8e83_acde48001122row4_col0\" class=\"data row4 col0\" >CAMARACLP</td>\n",
       "                        <td id=\"T_5dcbc0d4_3c82_11ea_8e83_acde48001122row4_col1\" class=\"data row4 col1\" >2020-01-17 00:00:00</td>\n",
       "                        <td id=\"T_5dcbc0d4_3c82_11ea_8e83_acde48001122row4_col2\" class=\"data row4 col2\" >278</td>\n",
       "                        <td id=\"T_5dcbc0d4_3c82_11ea_8e83_acde48001122row4_col3\" class=\"data row4 col3\" >1.7060%</td>\n",
       "            </tr>\n",
       "            <tr>\n",
       "                        <th id=\"T_5dcbc0d4_3c82_11ea_8e83_acde48001122level0_row5\" class=\"row_heading level0 row5\" >5</th>\n",
       "                        <td id=\"T_5dcbc0d4_3c82_11ea_8e83_acde48001122row5_col0\" class=\"data row5 col0\" >CAMARACLP</td>\n",
       "                        <td id=\"T_5dcbc0d4_3c82_11ea_8e83_acde48001122row5_col1\" class=\"data row5 col1\" >2020-01-17 00:00:00</td>\n",
       "                        <td id=\"T_5dcbc0d4_3c82_11ea_8e83_acde48001122row5_col2\" class=\"data row5 col2\" >370</td>\n",
       "                        <td id=\"T_5dcbc0d4_3c82_11ea_8e83_acde48001122row5_col3\" class=\"data row5 col3\" >1.7108%</td>\n",
       "            </tr>\n",
       "            <tr>\n",
       "                        <th id=\"T_5dcbc0d4_3c82_11ea_8e83_acde48001122level0_row6\" class=\"row_heading level0 row6\" >6</th>\n",
       "                        <td id=\"T_5dcbc0d4_3c82_11ea_8e83_acde48001122row6_col0\" class=\"data row6 col0\" >CAMARACLP</td>\n",
       "                        <td id=\"T_5dcbc0d4_3c82_11ea_8e83_acde48001122row6_col1\" class=\"data row6 col1\" >2020-01-17 00:00:00</td>\n",
       "                        <td id=\"T_5dcbc0d4_3c82_11ea_8e83_acde48001122row6_col2\" class=\"data row6 col2\" >551</td>\n",
       "                        <td id=\"T_5dcbc0d4_3c82_11ea_8e83_acde48001122row6_col3\" class=\"data row6 col3\" >1.7354%</td>\n",
       "            </tr>\n",
       "            <tr>\n",
       "                        <th id=\"T_5dcbc0d4_3c82_11ea_8e83_acde48001122level0_row7\" class=\"row_heading level0 row7\" >7</th>\n",
       "                        <td id=\"T_5dcbc0d4_3c82_11ea_8e83_acde48001122row7_col0\" class=\"data row7 col0\" >CAMARACLP</td>\n",
       "                        <td id=\"T_5dcbc0d4_3c82_11ea_8e83_acde48001122row7_col1\" class=\"data row7 col1\" >2020-01-17 00:00:00</td>\n",
       "                        <td id=\"T_5dcbc0d4_3c82_11ea_8e83_acde48001122row7_col2\" class=\"data row7 col2\" >735</td>\n",
       "                        <td id=\"T_5dcbc0d4_3c82_11ea_8e83_acde48001122row7_col3\" class=\"data row7 col3\" >1.8208%</td>\n",
       "            </tr>\n",
       "            <tr>\n",
       "                        <th id=\"T_5dcbc0d4_3c82_11ea_8e83_acde48001122level0_row8\" class=\"row_heading level0 row8\" >8</th>\n",
       "                        <td id=\"T_5dcbc0d4_3c82_11ea_8e83_acde48001122row8_col0\" class=\"data row8 col0\" >CAMARACLP</td>\n",
       "                        <td id=\"T_5dcbc0d4_3c82_11ea_8e83_acde48001122row8_col1\" class=\"data row8 col1\" >2020-01-17 00:00:00</td>\n",
       "                        <td id=\"T_5dcbc0d4_3c82_11ea_8e83_acde48001122row8_col2\" class=\"data row8 col2\" >1100</td>\n",
       "                        <td id=\"T_5dcbc0d4_3c82_11ea_8e83_acde48001122row8_col3\" class=\"data row8 col3\" >2.0122%</td>\n",
       "            </tr>\n",
       "            <tr>\n",
       "                        <th id=\"T_5dcbc0d4_3c82_11ea_8e83_acde48001122level0_row9\" class=\"row_heading level0 row9\" >9</th>\n",
       "                        <td id=\"T_5dcbc0d4_3c82_11ea_8e83_acde48001122row9_col0\" class=\"data row9 col0\" >CAMARACLP</td>\n",
       "                        <td id=\"T_5dcbc0d4_3c82_11ea_8e83_acde48001122row9_col1\" class=\"data row9 col1\" >2020-01-17 00:00:00</td>\n",
       "                        <td id=\"T_5dcbc0d4_3c82_11ea_8e83_acde48001122row9_col2\" class=\"data row9 col2\" >1465</td>\n",
       "                        <td id=\"T_5dcbc0d4_3c82_11ea_8e83_acde48001122row9_col3\" class=\"data row9 col3\" >2.2375%</td>\n",
       "            </tr>\n",
       "            <tr>\n",
       "                        <th id=\"T_5dcbc0d4_3c82_11ea_8e83_acde48001122level0_row10\" class=\"row_heading level0 row10\" >10</th>\n",
       "                        <td id=\"T_5dcbc0d4_3c82_11ea_8e83_acde48001122row10_col0\" class=\"data row10 col0\" >CAMARACLP</td>\n",
       "                        <td id=\"T_5dcbc0d4_3c82_11ea_8e83_acde48001122row10_col1\" class=\"data row10 col1\" >2020-01-17 00:00:00</td>\n",
       "                        <td id=\"T_5dcbc0d4_3c82_11ea_8e83_acde48001122row10_col2\" class=\"data row10 col2\" >1831</td>\n",
       "                        <td id=\"T_5dcbc0d4_3c82_11ea_8e83_acde48001122row10_col3\" class=\"data row10 col3\" >2.5178%</td>\n",
       "            </tr>\n",
       "            <tr>\n",
       "                        <th id=\"T_5dcbc0d4_3c82_11ea_8e83_acde48001122level0_row11\" class=\"row_heading level0 row11\" >11</th>\n",
       "                        <td id=\"T_5dcbc0d4_3c82_11ea_8e83_acde48001122row11_col0\" class=\"data row11 col0\" >CAMARACLP</td>\n",
       "                        <td id=\"T_5dcbc0d4_3c82_11ea_8e83_acde48001122row11_col1\" class=\"data row11 col1\" >2020-01-17 00:00:00</td>\n",
       "                        <td id=\"T_5dcbc0d4_3c82_11ea_8e83_acde48001122row11_col2\" class=\"data row11 col2\" >2196</td>\n",
       "                        <td id=\"T_5dcbc0d4_3c82_11ea_8e83_acde48001122row11_col3\" class=\"data row11 col3\" >2.7673%</td>\n",
       "            </tr>\n",
       "            <tr>\n",
       "                        <th id=\"T_5dcbc0d4_3c82_11ea_8e83_acde48001122level0_row12\" class=\"row_heading level0 row12\" >12</th>\n",
       "                        <td id=\"T_5dcbc0d4_3c82_11ea_8e83_acde48001122row12_col0\" class=\"data row12 col0\" >CAMARACLP</td>\n",
       "                        <td id=\"T_5dcbc0d4_3c82_11ea_8e83_acde48001122row12_col1\" class=\"data row12 col1\" >2020-01-17 00:00:00</td>\n",
       "                        <td id=\"T_5dcbc0d4_3c82_11ea_8e83_acde48001122row12_col2\" class=\"data row12 col2\" >2561</td>\n",
       "                        <td id=\"T_5dcbc0d4_3c82_11ea_8e83_acde48001122row12_col3\" class=\"data row12 col3\" >2.9890%</td>\n",
       "            </tr>\n",
       "            <tr>\n",
       "                        <th id=\"T_5dcbc0d4_3c82_11ea_8e83_acde48001122level0_row13\" class=\"row_heading level0 row13\" >13</th>\n",
       "                        <td id=\"T_5dcbc0d4_3c82_11ea_8e83_acde48001122row13_col0\" class=\"data row13 col0\" >CAMARACLP</td>\n",
       "                        <td id=\"T_5dcbc0d4_3c82_11ea_8e83_acde48001122row13_col1\" class=\"data row13 col1\" >2020-01-17 00:00:00</td>\n",
       "                        <td id=\"T_5dcbc0d4_3c82_11ea_8e83_acde48001122row13_col2\" class=\"data row13 col2\" >2926</td>\n",
       "                        <td id=\"T_5dcbc0d4_3c82_11ea_8e83_acde48001122row13_col3\" class=\"data row13 col3\" >3.2553%</td>\n",
       "            </tr>\n",
       "            <tr>\n",
       "                        <th id=\"T_5dcbc0d4_3c82_11ea_8e83_acde48001122level0_row14\" class=\"row_heading level0 row14\" >14</th>\n",
       "                        <td id=\"T_5dcbc0d4_3c82_11ea_8e83_acde48001122row14_col0\" class=\"data row14 col0\" >CAMARACLP</td>\n",
       "                        <td id=\"T_5dcbc0d4_3c82_11ea_8e83_acde48001122row14_col1\" class=\"data row14 col1\" >2020-01-17 00:00:00</td>\n",
       "                        <td id=\"T_5dcbc0d4_3c82_11ea_8e83_acde48001122row14_col2\" class=\"data row14 col2\" >3292</td>\n",
       "                        <td id=\"T_5dcbc0d4_3c82_11ea_8e83_acde48001122row14_col3\" class=\"data row14 col3\" >3.4683%</td>\n",
       "            </tr>\n",
       "            <tr>\n",
       "                        <th id=\"T_5dcbc0d4_3c82_11ea_8e83_acde48001122level0_row15\" class=\"row_heading level0 row15\" >15</th>\n",
       "                        <td id=\"T_5dcbc0d4_3c82_11ea_8e83_acde48001122row15_col0\" class=\"data row15 col0\" >CAMARACLP</td>\n",
       "                        <td id=\"T_5dcbc0d4_3c82_11ea_8e83_acde48001122row15_col1\" class=\"data row15 col1\" >2020-01-17 00:00:00</td>\n",
       "                        <td id=\"T_5dcbc0d4_3c82_11ea_8e83_acde48001122row15_col2\" class=\"data row15 col2\" >3657</td>\n",
       "                        <td id=\"T_5dcbc0d4_3c82_11ea_8e83_acde48001122row15_col3\" class=\"data row15 col3\" >3.6586%</td>\n",
       "            </tr>\n",
       "            <tr>\n",
       "                        <th id=\"T_5dcbc0d4_3c82_11ea_8e83_acde48001122level0_row16\" class=\"row_heading level0 row16\" >16</th>\n",
       "                        <td id=\"T_5dcbc0d4_3c82_11ea_8e83_acde48001122row16_col0\" class=\"data row16 col0\" >CAMARACLP</td>\n",
       "                        <td id=\"T_5dcbc0d4_3c82_11ea_8e83_acde48001122row16_col1\" class=\"data row16 col1\" >2020-01-17 00:00:00</td>\n",
       "                        <td id=\"T_5dcbc0d4_3c82_11ea_8e83_acde48001122row16_col2\" class=\"data row16 col2\" >4387</td>\n",
       "                        <td id=\"T_5dcbc0d4_3c82_11ea_8e83_acde48001122row16_col3\" class=\"data row16 col3\" >3.8867%</td>\n",
       "            </tr>\n",
       "            <tr>\n",
       "                        <th id=\"T_5dcbc0d4_3c82_11ea_8e83_acde48001122level0_row17\" class=\"row_heading level0 row17\" >17</th>\n",
       "                        <td id=\"T_5dcbc0d4_3c82_11ea_8e83_acde48001122row17_col0\" class=\"data row17 col0\" >CAMARACLP</td>\n",
       "                        <td id=\"T_5dcbc0d4_3c82_11ea_8e83_acde48001122row17_col1\" class=\"data row17 col1\" >2020-01-17 00:00:00</td>\n",
       "                        <td id=\"T_5dcbc0d4_3c82_11ea_8e83_acde48001122row17_col2\" class=\"data row17 col2\" >5483</td>\n",
       "                        <td id=\"T_5dcbc0d4_3c82_11ea_8e83_acde48001122row17_col3\" class=\"data row17 col3\" >4.2000%</td>\n",
       "            </tr>\n",
       "            <tr>\n",
       "                        <th id=\"T_5dcbc0d4_3c82_11ea_8e83_acde48001122level0_row18\" class=\"row_heading level0 row18\" >18</th>\n",
       "                        <td id=\"T_5dcbc0d4_3c82_11ea_8e83_acde48001122row18_col0\" class=\"data row18 col0\" >CAMARACLP</td>\n",
       "                        <td id=\"T_5dcbc0d4_3c82_11ea_8e83_acde48001122row18_col1\" class=\"data row18 col1\" >2020-01-17 00:00:00</td>\n",
       "                        <td id=\"T_5dcbc0d4_3c82_11ea_8e83_acde48001122row18_col2\" class=\"data row18 col2\" >7309</td>\n",
       "                        <td id=\"T_5dcbc0d4_3c82_11ea_8e83_acde48001122row18_col3\" class=\"data row18 col3\" >4.6607%</td>\n",
       "            </tr>\n",
       "    </tbody></table>"
      ],
      "text/plain": [
       "<pandas.io.formats.style.Styler at 0x11ff52250>"
      ]
     },
     "execution_count": 85,
     "metadata": {},
     "output_type": "execute_result"
    }
   ],
   "source": [
    "curva = pd.read_excel(\"20200117_curva_camara_clp.xlsx\")\n",
    "curva.style.format({\"tasa\":\"{0:,.4%}\"})"
   ]
  },
  {
   "cell_type": "markdown",
   "metadata": {},
   "source": [
    "Se un vector con los plazos (variable de tipo `long`) y un vector con las tasas (variable de tipo `double`)."
   ]
  },
  {
   "cell_type": "code",
   "execution_count": 86,
   "metadata": {},
   "outputs": [],
   "source": [
    "lvec1 = Qcf.long_vec()\n",
    "vec1 = Qcf.double_vec()\n",
    "for index, row in curva.iterrows():\n",
    "    lvec1.append(int(row['plazo']))\n",
    "    vec1.append(row['tasa'])"
   ]
  },
  {
   "cell_type": "markdown",
   "metadata": {},
   "source": [
    "Luego, con una curva, un interpolador y un objeto `QCInterestRate`(que indica la convención de las tasas de la curva) se construye una curva cupón cero."
   ]
  },
  {
   "cell_type": "code",
   "execution_count": 87,
   "metadata": {},
   "outputs": [],
   "source": [
    "zcc1 = Qcf.QCCurve(lvec1, vec1)\n",
    "lin1 = Qcf.QCLinearInterpolator(zcc1)\n",
    "zz1 = Qcf.ZeroCouponCurve(lin1, tasa)"
   ]
  },
  {
   "cell_type": "markdown",
   "metadata": {},
   "source": [
    "Se da de alta una pata fija a 5Y:"
   ]
  },
  {
   "cell_type": "code",
   "execution_count": 88,
   "metadata": {},
   "outputs": [],
   "source": [
    "# Se da de alta los parámetros requeridos\n",
    "rp = Qcf.RecPay.RECEIVE\n",
    "fecha_inicio = Qcf.QCDate(17, 1, 2020)\n",
    "fecha_final = Qcf.QCDate(17, 1, 2025) \n",
    "bus_adj_rule = Qcf.BusyAdjRules.MODFOLLOW\n",
    "periodicidad = Qcf.Tenor('6M')\n",
    "periodo_irregular = Qcf.StubPeriod.SHORTFRONT\n",
    "calendario = Qcf.BusinessCalendar(fecha_inicio, 20)\n",
    "lag_pago = 0\n",
    "nominal = 100000000.0\n",
    "amort_es_flujo = True\n",
    "valor_tasa_fija = .0209\n",
    "tasa_cupon = Qcf.QCInterestRate(valor_tasa_fija, Qcf.QCAct360(), Qcf.QCLinearWf())\n",
    "moneda = Qcf.QCCLP()\n",
    "es_bono = False\n",
    "\n",
    "# Se da de alta el objeto\n",
    "fixed_rate_leg = Qcf.LegFactory.build_bullet_fixed_rate_leg(rp,\n",
    "                                                            fecha_inicio,\n",
    "                                                            fecha_final,\n",
    "                                                            bus_adj_rule,\n",
    "                                                            periodicidad,\n",
    "                                                            periodo_irregular,\n",
    "                                                            calendario,\n",
    "                                                            lag_pago,\n",
    "                                                            nominal,\n",
    "                                                            amort_es_flujo,\n",
    "                                                            tasa_cupon,\n",
    "                                                            moneda,\n",
    "                                                            es_bono)"
   ]
  },
  {
   "cell_type": "code",
   "execution_count": 89,
   "metadata": {},
   "outputs": [
    {
     "data": {
      "text/html": [
       "<style  type=\"text/css\" >\n",
       "</style><table id=\"T_5dd02dcc_3c82_11ea_8e83_acde48001122\" ><thead>    <tr>        <th class=\"blank level0\" ></th>        <th class=\"col_heading level0 col0\" >fecha_inicial</th>        <th class=\"col_heading level0 col1\" >fecha_final</th>        <th class=\"col_heading level0 col2\" >fecha_pago</th>        <th class=\"col_heading level0 col3\" >nominal</th>        <th class=\"col_heading level0 col4\" >amortizacion</th>        <th class=\"col_heading level0 col5\" >interes</th>        <th class=\"col_heading level0 col6\" >amort_es_flujo</th>        <th class=\"col_heading level0 col7\" >flujo</th>        <th class=\"col_heading level0 col8\" >moneda</th>        <th class=\"col_heading level0 col9\" >valor_tasa</th>        <th class=\"col_heading level0 col10\" >tipo_tasa</th>    </tr></thead><tbody>\n",
       "                <tr>\n",
       "                        <th id=\"T_5dd02dcc_3c82_11ea_8e83_acde48001122level0_row0\" class=\"row_heading level0 row0\" >0</th>\n",
       "                        <td id=\"T_5dd02dcc_3c82_11ea_8e83_acde48001122row0_col0\" class=\"data row0 col0\" >2020-01-17</td>\n",
       "                        <td id=\"T_5dd02dcc_3c82_11ea_8e83_acde48001122row0_col1\" class=\"data row0 col1\" >2020-07-17</td>\n",
       "                        <td id=\"T_5dd02dcc_3c82_11ea_8e83_acde48001122row0_col2\" class=\"data row0 col2\" >2020-07-17</td>\n",
       "                        <td id=\"T_5dd02dcc_3c82_11ea_8e83_acde48001122row0_col3\" class=\"data row0 col3\" >100,000,000.00</td>\n",
       "                        <td id=\"T_5dd02dcc_3c82_11ea_8e83_acde48001122row0_col4\" class=\"data row0 col4\" >0.00</td>\n",
       "                        <td id=\"T_5dd02dcc_3c82_11ea_8e83_acde48001122row0_col5\" class=\"data row0 col5\" >1,056,611.11</td>\n",
       "                        <td id=\"T_5dd02dcc_3c82_11ea_8e83_acde48001122row0_col6\" class=\"data row0 col6\" >True</td>\n",
       "                        <td id=\"T_5dd02dcc_3c82_11ea_8e83_acde48001122row0_col7\" class=\"data row0 col7\" >1,056,611.11</td>\n",
       "                        <td id=\"T_5dd02dcc_3c82_11ea_8e83_acde48001122row0_col8\" class=\"data row0 col8\" >CLP</td>\n",
       "                        <td id=\"T_5dd02dcc_3c82_11ea_8e83_acde48001122row0_col9\" class=\"data row0 col9\" >2.0900%</td>\n",
       "                        <td id=\"T_5dd02dcc_3c82_11ea_8e83_acde48001122row0_col10\" class=\"data row0 col10\" >LinAct360</td>\n",
       "            </tr>\n",
       "            <tr>\n",
       "                        <th id=\"T_5dd02dcc_3c82_11ea_8e83_acde48001122level0_row1\" class=\"row_heading level0 row1\" >1</th>\n",
       "                        <td id=\"T_5dd02dcc_3c82_11ea_8e83_acde48001122row1_col0\" class=\"data row1 col0\" >2020-07-17</td>\n",
       "                        <td id=\"T_5dd02dcc_3c82_11ea_8e83_acde48001122row1_col1\" class=\"data row1 col1\" >2021-01-18</td>\n",
       "                        <td id=\"T_5dd02dcc_3c82_11ea_8e83_acde48001122row1_col2\" class=\"data row1 col2\" >2021-01-18</td>\n",
       "                        <td id=\"T_5dd02dcc_3c82_11ea_8e83_acde48001122row1_col3\" class=\"data row1 col3\" >100,000,000.00</td>\n",
       "                        <td id=\"T_5dd02dcc_3c82_11ea_8e83_acde48001122row1_col4\" class=\"data row1 col4\" >0.00</td>\n",
       "                        <td id=\"T_5dd02dcc_3c82_11ea_8e83_acde48001122row1_col5\" class=\"data row1 col5\" >1,074,027.78</td>\n",
       "                        <td id=\"T_5dd02dcc_3c82_11ea_8e83_acde48001122row1_col6\" class=\"data row1 col6\" >True</td>\n",
       "                        <td id=\"T_5dd02dcc_3c82_11ea_8e83_acde48001122row1_col7\" class=\"data row1 col7\" >1,074,027.78</td>\n",
       "                        <td id=\"T_5dd02dcc_3c82_11ea_8e83_acde48001122row1_col8\" class=\"data row1 col8\" >CLP</td>\n",
       "                        <td id=\"T_5dd02dcc_3c82_11ea_8e83_acde48001122row1_col9\" class=\"data row1 col9\" >2.0900%</td>\n",
       "                        <td id=\"T_5dd02dcc_3c82_11ea_8e83_acde48001122row1_col10\" class=\"data row1 col10\" >LinAct360</td>\n",
       "            </tr>\n",
       "            <tr>\n",
       "                        <th id=\"T_5dd02dcc_3c82_11ea_8e83_acde48001122level0_row2\" class=\"row_heading level0 row2\" >2</th>\n",
       "                        <td id=\"T_5dd02dcc_3c82_11ea_8e83_acde48001122row2_col0\" class=\"data row2 col0\" >2021-01-18</td>\n",
       "                        <td id=\"T_5dd02dcc_3c82_11ea_8e83_acde48001122row2_col1\" class=\"data row2 col1\" >2021-07-19</td>\n",
       "                        <td id=\"T_5dd02dcc_3c82_11ea_8e83_acde48001122row2_col2\" class=\"data row2 col2\" >2021-07-19</td>\n",
       "                        <td id=\"T_5dd02dcc_3c82_11ea_8e83_acde48001122row2_col3\" class=\"data row2 col3\" >100,000,000.00</td>\n",
       "                        <td id=\"T_5dd02dcc_3c82_11ea_8e83_acde48001122row2_col4\" class=\"data row2 col4\" >0.00</td>\n",
       "                        <td id=\"T_5dd02dcc_3c82_11ea_8e83_acde48001122row2_col5\" class=\"data row2 col5\" >1,056,611.11</td>\n",
       "                        <td id=\"T_5dd02dcc_3c82_11ea_8e83_acde48001122row2_col6\" class=\"data row2 col6\" >True</td>\n",
       "                        <td id=\"T_5dd02dcc_3c82_11ea_8e83_acde48001122row2_col7\" class=\"data row2 col7\" >1,056,611.11</td>\n",
       "                        <td id=\"T_5dd02dcc_3c82_11ea_8e83_acde48001122row2_col8\" class=\"data row2 col8\" >CLP</td>\n",
       "                        <td id=\"T_5dd02dcc_3c82_11ea_8e83_acde48001122row2_col9\" class=\"data row2 col9\" >2.0900%</td>\n",
       "                        <td id=\"T_5dd02dcc_3c82_11ea_8e83_acde48001122row2_col10\" class=\"data row2 col10\" >LinAct360</td>\n",
       "            </tr>\n",
       "            <tr>\n",
       "                        <th id=\"T_5dd02dcc_3c82_11ea_8e83_acde48001122level0_row3\" class=\"row_heading level0 row3\" >3</th>\n",
       "                        <td id=\"T_5dd02dcc_3c82_11ea_8e83_acde48001122row3_col0\" class=\"data row3 col0\" >2021-07-19</td>\n",
       "                        <td id=\"T_5dd02dcc_3c82_11ea_8e83_acde48001122row3_col1\" class=\"data row3 col1\" >2022-01-17</td>\n",
       "                        <td id=\"T_5dd02dcc_3c82_11ea_8e83_acde48001122row3_col2\" class=\"data row3 col2\" >2022-01-17</td>\n",
       "                        <td id=\"T_5dd02dcc_3c82_11ea_8e83_acde48001122row3_col3\" class=\"data row3 col3\" >100,000,000.00</td>\n",
       "                        <td id=\"T_5dd02dcc_3c82_11ea_8e83_acde48001122row3_col4\" class=\"data row3 col4\" >0.00</td>\n",
       "                        <td id=\"T_5dd02dcc_3c82_11ea_8e83_acde48001122row3_col5\" class=\"data row3 col5\" >1,056,611.11</td>\n",
       "                        <td id=\"T_5dd02dcc_3c82_11ea_8e83_acde48001122row3_col6\" class=\"data row3 col6\" >True</td>\n",
       "                        <td id=\"T_5dd02dcc_3c82_11ea_8e83_acde48001122row3_col7\" class=\"data row3 col7\" >1,056,611.11</td>\n",
       "                        <td id=\"T_5dd02dcc_3c82_11ea_8e83_acde48001122row3_col8\" class=\"data row3 col8\" >CLP</td>\n",
       "                        <td id=\"T_5dd02dcc_3c82_11ea_8e83_acde48001122row3_col9\" class=\"data row3 col9\" >2.0900%</td>\n",
       "                        <td id=\"T_5dd02dcc_3c82_11ea_8e83_acde48001122row3_col10\" class=\"data row3 col10\" >LinAct360</td>\n",
       "            </tr>\n",
       "            <tr>\n",
       "                        <th id=\"T_5dd02dcc_3c82_11ea_8e83_acde48001122level0_row4\" class=\"row_heading level0 row4\" >4</th>\n",
       "                        <td id=\"T_5dd02dcc_3c82_11ea_8e83_acde48001122row4_col0\" class=\"data row4 col0\" >2022-01-17</td>\n",
       "                        <td id=\"T_5dd02dcc_3c82_11ea_8e83_acde48001122row4_col1\" class=\"data row4 col1\" >2022-07-18</td>\n",
       "                        <td id=\"T_5dd02dcc_3c82_11ea_8e83_acde48001122row4_col2\" class=\"data row4 col2\" >2022-07-18</td>\n",
       "                        <td id=\"T_5dd02dcc_3c82_11ea_8e83_acde48001122row4_col3\" class=\"data row4 col3\" >100,000,000.00</td>\n",
       "                        <td id=\"T_5dd02dcc_3c82_11ea_8e83_acde48001122row4_col4\" class=\"data row4 col4\" >0.00</td>\n",
       "                        <td id=\"T_5dd02dcc_3c82_11ea_8e83_acde48001122row4_col5\" class=\"data row4 col5\" >1,056,611.11</td>\n",
       "                        <td id=\"T_5dd02dcc_3c82_11ea_8e83_acde48001122row4_col6\" class=\"data row4 col6\" >True</td>\n",
       "                        <td id=\"T_5dd02dcc_3c82_11ea_8e83_acde48001122row4_col7\" class=\"data row4 col7\" >1,056,611.11</td>\n",
       "                        <td id=\"T_5dd02dcc_3c82_11ea_8e83_acde48001122row4_col8\" class=\"data row4 col8\" >CLP</td>\n",
       "                        <td id=\"T_5dd02dcc_3c82_11ea_8e83_acde48001122row4_col9\" class=\"data row4 col9\" >2.0900%</td>\n",
       "                        <td id=\"T_5dd02dcc_3c82_11ea_8e83_acde48001122row4_col10\" class=\"data row4 col10\" >LinAct360</td>\n",
       "            </tr>\n",
       "            <tr>\n",
       "                        <th id=\"T_5dd02dcc_3c82_11ea_8e83_acde48001122level0_row5\" class=\"row_heading level0 row5\" >5</th>\n",
       "                        <td id=\"T_5dd02dcc_3c82_11ea_8e83_acde48001122row5_col0\" class=\"data row5 col0\" >2022-07-18</td>\n",
       "                        <td id=\"T_5dd02dcc_3c82_11ea_8e83_acde48001122row5_col1\" class=\"data row5 col1\" >2023-01-17</td>\n",
       "                        <td id=\"T_5dd02dcc_3c82_11ea_8e83_acde48001122row5_col2\" class=\"data row5 col2\" >2023-01-17</td>\n",
       "                        <td id=\"T_5dd02dcc_3c82_11ea_8e83_acde48001122row5_col3\" class=\"data row5 col3\" >100,000,000.00</td>\n",
       "                        <td id=\"T_5dd02dcc_3c82_11ea_8e83_acde48001122row5_col4\" class=\"data row5 col4\" >0.00</td>\n",
       "                        <td id=\"T_5dd02dcc_3c82_11ea_8e83_acde48001122row5_col5\" class=\"data row5 col5\" >1,062,416.67</td>\n",
       "                        <td id=\"T_5dd02dcc_3c82_11ea_8e83_acde48001122row5_col6\" class=\"data row5 col6\" >True</td>\n",
       "                        <td id=\"T_5dd02dcc_3c82_11ea_8e83_acde48001122row5_col7\" class=\"data row5 col7\" >1,062,416.67</td>\n",
       "                        <td id=\"T_5dd02dcc_3c82_11ea_8e83_acde48001122row5_col8\" class=\"data row5 col8\" >CLP</td>\n",
       "                        <td id=\"T_5dd02dcc_3c82_11ea_8e83_acde48001122row5_col9\" class=\"data row5 col9\" >2.0900%</td>\n",
       "                        <td id=\"T_5dd02dcc_3c82_11ea_8e83_acde48001122row5_col10\" class=\"data row5 col10\" >LinAct360</td>\n",
       "            </tr>\n",
       "            <tr>\n",
       "                        <th id=\"T_5dd02dcc_3c82_11ea_8e83_acde48001122level0_row6\" class=\"row_heading level0 row6\" >6</th>\n",
       "                        <td id=\"T_5dd02dcc_3c82_11ea_8e83_acde48001122row6_col0\" class=\"data row6 col0\" >2023-01-17</td>\n",
       "                        <td id=\"T_5dd02dcc_3c82_11ea_8e83_acde48001122row6_col1\" class=\"data row6 col1\" >2023-07-17</td>\n",
       "                        <td id=\"T_5dd02dcc_3c82_11ea_8e83_acde48001122row6_col2\" class=\"data row6 col2\" >2023-07-17</td>\n",
       "                        <td id=\"T_5dd02dcc_3c82_11ea_8e83_acde48001122row6_col3\" class=\"data row6 col3\" >100,000,000.00</td>\n",
       "                        <td id=\"T_5dd02dcc_3c82_11ea_8e83_acde48001122row6_col4\" class=\"data row6 col4\" >0.00</td>\n",
       "                        <td id=\"T_5dd02dcc_3c82_11ea_8e83_acde48001122row6_col5\" class=\"data row6 col5\" >1,050,805.56</td>\n",
       "                        <td id=\"T_5dd02dcc_3c82_11ea_8e83_acde48001122row6_col6\" class=\"data row6 col6\" >True</td>\n",
       "                        <td id=\"T_5dd02dcc_3c82_11ea_8e83_acde48001122row6_col7\" class=\"data row6 col7\" >1,050,805.56</td>\n",
       "                        <td id=\"T_5dd02dcc_3c82_11ea_8e83_acde48001122row6_col8\" class=\"data row6 col8\" >CLP</td>\n",
       "                        <td id=\"T_5dd02dcc_3c82_11ea_8e83_acde48001122row6_col9\" class=\"data row6 col9\" >2.0900%</td>\n",
       "                        <td id=\"T_5dd02dcc_3c82_11ea_8e83_acde48001122row6_col10\" class=\"data row6 col10\" >LinAct360</td>\n",
       "            </tr>\n",
       "            <tr>\n",
       "                        <th id=\"T_5dd02dcc_3c82_11ea_8e83_acde48001122level0_row7\" class=\"row_heading level0 row7\" >7</th>\n",
       "                        <td id=\"T_5dd02dcc_3c82_11ea_8e83_acde48001122row7_col0\" class=\"data row7 col0\" >2023-07-17</td>\n",
       "                        <td id=\"T_5dd02dcc_3c82_11ea_8e83_acde48001122row7_col1\" class=\"data row7 col1\" >2024-01-17</td>\n",
       "                        <td id=\"T_5dd02dcc_3c82_11ea_8e83_acde48001122row7_col2\" class=\"data row7 col2\" >2024-01-17</td>\n",
       "                        <td id=\"T_5dd02dcc_3c82_11ea_8e83_acde48001122row7_col3\" class=\"data row7 col3\" >100,000,000.00</td>\n",
       "                        <td id=\"T_5dd02dcc_3c82_11ea_8e83_acde48001122row7_col4\" class=\"data row7 col4\" >0.00</td>\n",
       "                        <td id=\"T_5dd02dcc_3c82_11ea_8e83_acde48001122row7_col5\" class=\"data row7 col5\" >1,068,222.22</td>\n",
       "                        <td id=\"T_5dd02dcc_3c82_11ea_8e83_acde48001122row7_col6\" class=\"data row7 col6\" >True</td>\n",
       "                        <td id=\"T_5dd02dcc_3c82_11ea_8e83_acde48001122row7_col7\" class=\"data row7 col7\" >1,068,222.22</td>\n",
       "                        <td id=\"T_5dd02dcc_3c82_11ea_8e83_acde48001122row7_col8\" class=\"data row7 col8\" >CLP</td>\n",
       "                        <td id=\"T_5dd02dcc_3c82_11ea_8e83_acde48001122row7_col9\" class=\"data row7 col9\" >2.0900%</td>\n",
       "                        <td id=\"T_5dd02dcc_3c82_11ea_8e83_acde48001122row7_col10\" class=\"data row7 col10\" >LinAct360</td>\n",
       "            </tr>\n",
       "            <tr>\n",
       "                        <th id=\"T_5dd02dcc_3c82_11ea_8e83_acde48001122level0_row8\" class=\"row_heading level0 row8\" >8</th>\n",
       "                        <td id=\"T_5dd02dcc_3c82_11ea_8e83_acde48001122row8_col0\" class=\"data row8 col0\" >2024-01-17</td>\n",
       "                        <td id=\"T_5dd02dcc_3c82_11ea_8e83_acde48001122row8_col1\" class=\"data row8 col1\" >2024-07-17</td>\n",
       "                        <td id=\"T_5dd02dcc_3c82_11ea_8e83_acde48001122row8_col2\" class=\"data row8 col2\" >2024-07-17</td>\n",
       "                        <td id=\"T_5dd02dcc_3c82_11ea_8e83_acde48001122row8_col3\" class=\"data row8 col3\" >100,000,000.00</td>\n",
       "                        <td id=\"T_5dd02dcc_3c82_11ea_8e83_acde48001122row8_col4\" class=\"data row8 col4\" >0.00</td>\n",
       "                        <td id=\"T_5dd02dcc_3c82_11ea_8e83_acde48001122row8_col5\" class=\"data row8 col5\" >1,056,611.11</td>\n",
       "                        <td id=\"T_5dd02dcc_3c82_11ea_8e83_acde48001122row8_col6\" class=\"data row8 col6\" >True</td>\n",
       "                        <td id=\"T_5dd02dcc_3c82_11ea_8e83_acde48001122row8_col7\" class=\"data row8 col7\" >1,056,611.11</td>\n",
       "                        <td id=\"T_5dd02dcc_3c82_11ea_8e83_acde48001122row8_col8\" class=\"data row8 col8\" >CLP</td>\n",
       "                        <td id=\"T_5dd02dcc_3c82_11ea_8e83_acde48001122row8_col9\" class=\"data row8 col9\" >2.0900%</td>\n",
       "                        <td id=\"T_5dd02dcc_3c82_11ea_8e83_acde48001122row8_col10\" class=\"data row8 col10\" >LinAct360</td>\n",
       "            </tr>\n",
       "            <tr>\n",
       "                        <th id=\"T_5dd02dcc_3c82_11ea_8e83_acde48001122level0_row9\" class=\"row_heading level0 row9\" >9</th>\n",
       "                        <td id=\"T_5dd02dcc_3c82_11ea_8e83_acde48001122row9_col0\" class=\"data row9 col0\" >2024-07-17</td>\n",
       "                        <td id=\"T_5dd02dcc_3c82_11ea_8e83_acde48001122row9_col1\" class=\"data row9 col1\" >2025-01-17</td>\n",
       "                        <td id=\"T_5dd02dcc_3c82_11ea_8e83_acde48001122row9_col2\" class=\"data row9 col2\" >2025-01-17</td>\n",
       "                        <td id=\"T_5dd02dcc_3c82_11ea_8e83_acde48001122row9_col3\" class=\"data row9 col3\" >100,000,000.00</td>\n",
       "                        <td id=\"T_5dd02dcc_3c82_11ea_8e83_acde48001122row9_col4\" class=\"data row9 col4\" >100,000,000.00</td>\n",
       "                        <td id=\"T_5dd02dcc_3c82_11ea_8e83_acde48001122row9_col5\" class=\"data row9 col5\" >1,068,222.22</td>\n",
       "                        <td id=\"T_5dd02dcc_3c82_11ea_8e83_acde48001122row9_col6\" class=\"data row9 col6\" >True</td>\n",
       "                        <td id=\"T_5dd02dcc_3c82_11ea_8e83_acde48001122row9_col7\" class=\"data row9 col7\" >101,068,222.22</td>\n",
       "                        <td id=\"T_5dd02dcc_3c82_11ea_8e83_acde48001122row9_col8\" class=\"data row9 col8\" >CLP</td>\n",
       "                        <td id=\"T_5dd02dcc_3c82_11ea_8e83_acde48001122row9_col9\" class=\"data row9 col9\" >2.0900%</td>\n",
       "                        <td id=\"T_5dd02dcc_3c82_11ea_8e83_acde48001122row9_col10\" class=\"data row9 col10\" >LinAct360</td>\n",
       "            </tr>\n",
       "    </tbody></table>"
      ],
      "text/plain": [
       "<pandas.io.formats.style.Styler at 0x11ff78d50>"
      ]
     },
     "execution_count": 89,
     "metadata": {},
     "output_type": "execute_result"
    }
   ],
   "source": [
    "# Se define un list donde almacenar los resultados de la función show\n",
    "tabla = []\n",
    "for i in range(0, fixed_rate_leg.size()):\n",
    "    tabla.append(Qcf.show(fixed_rate_leg.get_cashflow_at(i)))\n",
    "\n",
    "# Se utiliza tabla para inicializar el Dataframe\n",
    "columnas = list(Qcf.get_column_names(\"FixedRateCashflow\", \"\"))\n",
    "df = pd.DataFrame(tabla, columns=columnas)\n",
    "\n",
    "# Se despliega la data en este formato\n",
    "df.style.format(format_dict)"
   ]
  },
  {
   "cell_type": "markdown",
   "metadata": {},
   "source": [
    "Se calcula ahora el valor presente:"
   ]
  },
  {
   "cell_type": "code",
   "execution_count": 90,
   "metadata": {},
   "outputs": [
    {
     "name": "stdout",
     "output_type": "stream",
     "text": [
      "Valor presente de la pata fija es: 98,844,868\n"
     ]
    }
   ],
   "source": [
    "vp_fija = pv.pv(fecha_hoy, fixed_rate_leg, zz1)\n",
    "print(\"Valor presente de la pata fija es: {0:,.0f}\".format(vp_fija))"
   ]
  },
  {
   "cell_type": "markdown",
   "metadata": {},
   "source": [
    "Al calcular el valor presente, también se calculan las derivadas del valor presente respecto a cada uno de los vértices de la curva."
   ]
  },
  {
   "cell_type": "code",
   "execution_count": 91,
   "metadata": {},
   "outputs": [],
   "source": [
    "der = pv.get_derivatives()"
   ]
  },
  {
   "cell_type": "markdown",
   "metadata": {},
   "source": [
    "Con esas derivadas, se puede calcular la sensibilidad a la curva cupón cero a un movimiento de 1 punto básico."
   ]
  },
  {
   "cell_type": "code",
   "execution_count": 92,
   "metadata": {},
   "outputs": [
    {
     "name": "stdout",
     "output_type": "stream",
     "text": [
      "Sensibilidad en 0: 0\n",
      "Sensibilidad en 1: 0\n",
      "Sensibilidad en 2: -2\n",
      "Sensibilidad en 3: -50\n",
      "Sensibilidad en 4: -3\n",
      "Sensibilidad en 5: -103\n",
      "Sensibilidad en 6: -154\n",
      "Sensibilidad en 7: -319\n",
      "Sensibilidad en 8: -566\n",
      "Sensibilidad en 9: -1,146\n",
      "Sensibilidad en 10: -39,662\n",
      "Sensibilidad en 11: 0\n",
      "Sensibilidad en 12: 0\n",
      "Sensibilidad en 13: 0\n",
      "Sensibilidad en 14: 0\n",
      "Sensibilidad en 15: 0\n",
      "Sensibilidad en 16: 0\n",
      "Sensibilidad en 17: 0\n",
      "Sensibilidad en 18: 0\n"
     ]
    }
   ],
   "source": [
    "i = 0\n",
    "bp = .0001\n",
    "for d in der:\n",
    "    print(\"Sensibilidad en {0:}: {1:0,.0f}\".format(i, d * bp))\n",
    "    i += 1"
   ]
  },
  {
   "cell_type": "markdown",
   "metadata": {},
   "source": [
    "Se puede verificar la sensibilidad por diferencias finitas."
   ]
  },
  {
   "cell_type": "markdown",
   "metadata": {},
   "source": [
    "Se define qué vértice de la curva se quiere verificar:"
   ]
  },
  {
   "cell_type": "code",
   "execution_count": 93,
   "metadata": {},
   "outputs": [],
   "source": [
    "vertice = 10"
   ]
  },
  {
   "cell_type": "markdown",
   "metadata": {},
   "source": [
    "Se construyen las curvas con ese vértice 1 punto básico más arriba y 1 punto básico más abajo."
   ]
  },
  {
   "cell_type": "code",
   "execution_count": 94,
   "metadata": {},
   "outputs": [],
   "source": [
    "vec_sens_up = Qcf.double_vec()\n",
    "vec_sens_down = Qcf.double_vec()\n",
    "for index, row in curva.iterrows():\n",
    "    if index == vertice:\n",
    "        vec_sens_up.append(row['tasa'] + bp)\n",
    "        vec_sens_down.append(row['tasa'] - bp)\n",
    "    else:\n",
    "        vec_sens_up.append(row['tasa'])\n",
    "        vec_sens_down.append(row['tasa'])\n",
    "\n",
    "zcc_sens_up = Qcf.QCCurve(lvec1, vec_sens_up)\n",
    "lin_sens_up = Qcf.QCLinearInterpolator(zcc_sens_up)\n",
    "zz_sens_up = Qcf.ZeroCouponCurve(lin_sens_up, tasa)\n",
    "\n",
    "zcc_sens_down = Qcf.QCCurve(lvec1, vec_sens_down)\n",
    "lin_sens_down = Qcf.QCLinearInterpolator(zcc_sens_down)\n",
    "zz_sens_down = Qcf.ZeroCouponCurve(lin_sens_down, tasa)"
   ]
  },
  {
   "cell_type": "markdown",
   "metadata": {},
   "source": [
    "Se calcula el valor presente con las curvas desplazadas."
   ]
  },
  {
   "cell_type": "code",
   "execution_count": 95,
   "metadata": {},
   "outputs": [
    {
     "name": "stdout",
     "output_type": "stream",
     "text": [
      "Valor presente up de la pata fija es: 98,805,223\n",
      "Valor presente down de la pata fija es: 98,884,548\n"
     ]
    }
   ],
   "source": [
    "vp_fija_sens_up = pv.pv(fecha_hoy, fixed_rate_leg, zz_sens_up)\n",
    "vp_fija_sens_down = pv.pv(fecha_hoy, fixed_rate_leg, zz_sens_down)\n",
    "print(\"Valor presente up de la pata fija es: {0:,.0f}\".format(vp_fija_sens_up))\n",
    "print(\"Valor presente down de la pata fija es: {0:,.0f}\".format(vp_fija_sens_down))"
   ]
  },
  {
   "cell_type": "markdown",
   "metadata": {},
   "source": [
    "Finalmente, se calcula la sesnibilidad (usando la aproximación central por diferencias finitas)."
   ]
  },
  {
   "cell_type": "code",
   "execution_count": 96,
   "metadata": {},
   "outputs": [
    {
     "name": "stdout",
     "output_type": "stream",
     "text": [
      "Sensibilidad por diferencias finitas: -39,662\n"
     ]
    }
   ],
   "source": [
    "print(\"Sensibilidad por diferencias finitas: {0:,.0f}\".format((vp_fija_sens_up - vp_fija_sens_down) / 2))"
   ]
  },
  {
   "cell_type": "markdown",
   "metadata": {},
   "source": [
    "### IcpClpCashflow2 Leg"
   ]
  },
  {
   "cell_type": "code",
   "execution_count": 97,
   "metadata": {},
   "outputs": [],
   "source": [
    "# Se da de alta los parámetros requeridos\n",
    "rp = Qcf.RecPay.RECEIVE\n",
    "fecha_inicio = Qcf.QCDate(17, 1, 2020)\n",
    "fecha_final = Qcf.QCDate(17, 1, 2025) \n",
    "bus_adj_rule = Qcf.BusyAdjRules.NO\n",
    "periodicidad_pago = Qcf.Tenor('6M')\n",
    "periodo_irregular_pago = Qcf.StubPeriod.NO\n",
    "calendario = Qcf.BusinessCalendar(fecha_inicio, 20)\n",
    "lag_pago = 0\n",
    "nominal = 10000000000.0\n",
    "amort_es_flujo = True \n",
    "spread = .0\n",
    "gearing = 1.0\n",
    "\n",
    "icp_clp2_leg = Qcf.LegFactory.build_bullet_icp_clp2_leg(rp, fecha_inicio, fecha_final, bus_adj_rule, periodicidad_pago,\n",
    "                                                     periodo_irregular_pago, calendario, lag_pago,\n",
    "                                                     nominal, amort_es_flujo, spread, gearing, True)"
   ]
  },
  {
   "cell_type": "code",
   "execution_count": 98,
   "metadata": {},
   "outputs": [
    {
     "data": {
      "text/html": [
       "<style  type=\"text/css\" >\n",
       "</style><table id=\"T_5dd89f98_3c82_11ea_8e83_acde48001122\" ><thead>    <tr>        <th class=\"blank level0\" ></th>        <th class=\"col_heading level0 col0\" >fecha_inicial</th>        <th class=\"col_heading level0 col1\" >fecha_final</th>        <th class=\"col_heading level0 col2\" >fecha_pago</th>        <th class=\"col_heading level0 col3\" >nominal</th>        <th class=\"col_heading level0 col4\" >amortizacion</th>        <th class=\"col_heading level0 col5\" >amort_es_flujo</th>        <th class=\"col_heading level0 col6\" >flujo</th>        <th class=\"col_heading level0 col7\" >moneda</th>        <th class=\"col_heading level0 col8\" >icp_inicial</th>        <th class=\"col_heading level0 col9\" >icp_final</th>        <th class=\"col_heading level0 col10\" >valor_tasa</th>        <th class=\"col_heading level0 col11\" >interes</th>        <th class=\"col_heading level0 col12\" >spread</th>        <th class=\"col_heading level0 col13\" >gearing</th>        <th class=\"col_heading level0 col14\" >tipo_tasa</th>    </tr></thead><tbody>\n",
       "                <tr>\n",
       "                        <th id=\"T_5dd89f98_3c82_11ea_8e83_acde48001122level0_row0\" class=\"row_heading level0 row0\" >0</th>\n",
       "                        <td id=\"T_5dd89f98_3c82_11ea_8e83_acde48001122row0_col0\" class=\"data row0 col0\" >2020-01-17</td>\n",
       "                        <td id=\"T_5dd89f98_3c82_11ea_8e83_acde48001122row0_col1\" class=\"data row0 col1\" >2020-07-17</td>\n",
       "                        <td id=\"T_5dd89f98_3c82_11ea_8e83_acde48001122row0_col2\" class=\"data row0 col2\" >2020-07-17</td>\n",
       "                        <td id=\"T_5dd89f98_3c82_11ea_8e83_acde48001122row0_col3\" class=\"data row0 col3\" >10,000,000,000.00</td>\n",
       "                        <td id=\"T_5dd89f98_3c82_11ea_8e83_acde48001122row0_col4\" class=\"data row0 col4\" >0.00</td>\n",
       "                        <td id=\"T_5dd89f98_3c82_11ea_8e83_acde48001122row0_col5\" class=\"data row0 col5\" >True</td>\n",
       "                        <td id=\"T_5dd89f98_3c82_11ea_8e83_acde48001122row0_col6\" class=\"data row0 col6\" >0.00</td>\n",
       "                        <td id=\"T_5dd89f98_3c82_11ea_8e83_acde48001122row0_col7\" class=\"data row0 col7\" >CLP</td>\n",
       "                        <td id=\"T_5dd89f98_3c82_11ea_8e83_acde48001122row0_col8\" class=\"data row0 col8\" >10,000.00</td>\n",
       "                        <td id=\"T_5dd89f98_3c82_11ea_8e83_acde48001122row0_col9\" class=\"data row0 col9\" >10,000.00</td>\n",
       "                        <td id=\"T_5dd89f98_3c82_11ea_8e83_acde48001122row0_col10\" class=\"data row0 col10\" >0.0000%</td>\n",
       "                        <td id=\"T_5dd89f98_3c82_11ea_8e83_acde48001122row0_col11\" class=\"data row0 col11\" >0.00</td>\n",
       "                        <td id=\"T_5dd89f98_3c82_11ea_8e83_acde48001122row0_col12\" class=\"data row0 col12\" >0.0000%</td>\n",
       "                        <td id=\"T_5dd89f98_3c82_11ea_8e83_acde48001122row0_col13\" class=\"data row0 col13\" >1.00</td>\n",
       "                        <td id=\"T_5dd89f98_3c82_11ea_8e83_acde48001122row0_col14\" class=\"data row0 col14\" >LinAct360</td>\n",
       "            </tr>\n",
       "            <tr>\n",
       "                        <th id=\"T_5dd89f98_3c82_11ea_8e83_acde48001122level0_row1\" class=\"row_heading level0 row1\" >1</th>\n",
       "                        <td id=\"T_5dd89f98_3c82_11ea_8e83_acde48001122row1_col0\" class=\"data row1 col0\" >2020-07-17</td>\n",
       "                        <td id=\"T_5dd89f98_3c82_11ea_8e83_acde48001122row1_col1\" class=\"data row1 col1\" >2021-01-17</td>\n",
       "                        <td id=\"T_5dd89f98_3c82_11ea_8e83_acde48001122row1_col2\" class=\"data row1 col2\" >2021-01-18</td>\n",
       "                        <td id=\"T_5dd89f98_3c82_11ea_8e83_acde48001122row1_col3\" class=\"data row1 col3\" >10,000,000,000.00</td>\n",
       "                        <td id=\"T_5dd89f98_3c82_11ea_8e83_acde48001122row1_col4\" class=\"data row1 col4\" >0.00</td>\n",
       "                        <td id=\"T_5dd89f98_3c82_11ea_8e83_acde48001122row1_col5\" class=\"data row1 col5\" >True</td>\n",
       "                        <td id=\"T_5dd89f98_3c82_11ea_8e83_acde48001122row1_col6\" class=\"data row1 col6\" >0.00</td>\n",
       "                        <td id=\"T_5dd89f98_3c82_11ea_8e83_acde48001122row1_col7\" class=\"data row1 col7\" >CLP</td>\n",
       "                        <td id=\"T_5dd89f98_3c82_11ea_8e83_acde48001122row1_col8\" class=\"data row1 col8\" >10,000.00</td>\n",
       "                        <td id=\"T_5dd89f98_3c82_11ea_8e83_acde48001122row1_col9\" class=\"data row1 col9\" >10,000.00</td>\n",
       "                        <td id=\"T_5dd89f98_3c82_11ea_8e83_acde48001122row1_col10\" class=\"data row1 col10\" >0.0000%</td>\n",
       "                        <td id=\"T_5dd89f98_3c82_11ea_8e83_acde48001122row1_col11\" class=\"data row1 col11\" >0.00</td>\n",
       "                        <td id=\"T_5dd89f98_3c82_11ea_8e83_acde48001122row1_col12\" class=\"data row1 col12\" >0.0000%</td>\n",
       "                        <td id=\"T_5dd89f98_3c82_11ea_8e83_acde48001122row1_col13\" class=\"data row1 col13\" >1.00</td>\n",
       "                        <td id=\"T_5dd89f98_3c82_11ea_8e83_acde48001122row1_col14\" class=\"data row1 col14\" >LinAct360</td>\n",
       "            </tr>\n",
       "            <tr>\n",
       "                        <th id=\"T_5dd89f98_3c82_11ea_8e83_acde48001122level0_row2\" class=\"row_heading level0 row2\" >2</th>\n",
       "                        <td id=\"T_5dd89f98_3c82_11ea_8e83_acde48001122row2_col0\" class=\"data row2 col0\" >2021-01-17</td>\n",
       "                        <td id=\"T_5dd89f98_3c82_11ea_8e83_acde48001122row2_col1\" class=\"data row2 col1\" >2021-07-17</td>\n",
       "                        <td id=\"T_5dd89f98_3c82_11ea_8e83_acde48001122row2_col2\" class=\"data row2 col2\" >2021-07-19</td>\n",
       "                        <td id=\"T_5dd89f98_3c82_11ea_8e83_acde48001122row2_col3\" class=\"data row2 col3\" >10,000,000,000.00</td>\n",
       "                        <td id=\"T_5dd89f98_3c82_11ea_8e83_acde48001122row2_col4\" class=\"data row2 col4\" >0.00</td>\n",
       "                        <td id=\"T_5dd89f98_3c82_11ea_8e83_acde48001122row2_col5\" class=\"data row2 col5\" >True</td>\n",
       "                        <td id=\"T_5dd89f98_3c82_11ea_8e83_acde48001122row2_col6\" class=\"data row2 col6\" >0.00</td>\n",
       "                        <td id=\"T_5dd89f98_3c82_11ea_8e83_acde48001122row2_col7\" class=\"data row2 col7\" >CLP</td>\n",
       "                        <td id=\"T_5dd89f98_3c82_11ea_8e83_acde48001122row2_col8\" class=\"data row2 col8\" >10,000.00</td>\n",
       "                        <td id=\"T_5dd89f98_3c82_11ea_8e83_acde48001122row2_col9\" class=\"data row2 col9\" >10,000.00</td>\n",
       "                        <td id=\"T_5dd89f98_3c82_11ea_8e83_acde48001122row2_col10\" class=\"data row2 col10\" >0.0000%</td>\n",
       "                        <td id=\"T_5dd89f98_3c82_11ea_8e83_acde48001122row2_col11\" class=\"data row2 col11\" >0.00</td>\n",
       "                        <td id=\"T_5dd89f98_3c82_11ea_8e83_acde48001122row2_col12\" class=\"data row2 col12\" >0.0000%</td>\n",
       "                        <td id=\"T_5dd89f98_3c82_11ea_8e83_acde48001122row2_col13\" class=\"data row2 col13\" >1.00</td>\n",
       "                        <td id=\"T_5dd89f98_3c82_11ea_8e83_acde48001122row2_col14\" class=\"data row2 col14\" >LinAct360</td>\n",
       "            </tr>\n",
       "            <tr>\n",
       "                        <th id=\"T_5dd89f98_3c82_11ea_8e83_acde48001122level0_row3\" class=\"row_heading level0 row3\" >3</th>\n",
       "                        <td id=\"T_5dd89f98_3c82_11ea_8e83_acde48001122row3_col0\" class=\"data row3 col0\" >2021-07-17</td>\n",
       "                        <td id=\"T_5dd89f98_3c82_11ea_8e83_acde48001122row3_col1\" class=\"data row3 col1\" >2022-01-17</td>\n",
       "                        <td id=\"T_5dd89f98_3c82_11ea_8e83_acde48001122row3_col2\" class=\"data row3 col2\" >2022-01-17</td>\n",
       "                        <td id=\"T_5dd89f98_3c82_11ea_8e83_acde48001122row3_col3\" class=\"data row3 col3\" >10,000,000,000.00</td>\n",
       "                        <td id=\"T_5dd89f98_3c82_11ea_8e83_acde48001122row3_col4\" class=\"data row3 col4\" >0.00</td>\n",
       "                        <td id=\"T_5dd89f98_3c82_11ea_8e83_acde48001122row3_col5\" class=\"data row3 col5\" >True</td>\n",
       "                        <td id=\"T_5dd89f98_3c82_11ea_8e83_acde48001122row3_col6\" class=\"data row3 col6\" >0.00</td>\n",
       "                        <td id=\"T_5dd89f98_3c82_11ea_8e83_acde48001122row3_col7\" class=\"data row3 col7\" >CLP</td>\n",
       "                        <td id=\"T_5dd89f98_3c82_11ea_8e83_acde48001122row3_col8\" class=\"data row3 col8\" >10,000.00</td>\n",
       "                        <td id=\"T_5dd89f98_3c82_11ea_8e83_acde48001122row3_col9\" class=\"data row3 col9\" >10,000.00</td>\n",
       "                        <td id=\"T_5dd89f98_3c82_11ea_8e83_acde48001122row3_col10\" class=\"data row3 col10\" >0.0000%</td>\n",
       "                        <td id=\"T_5dd89f98_3c82_11ea_8e83_acde48001122row3_col11\" class=\"data row3 col11\" >0.00</td>\n",
       "                        <td id=\"T_5dd89f98_3c82_11ea_8e83_acde48001122row3_col12\" class=\"data row3 col12\" >0.0000%</td>\n",
       "                        <td id=\"T_5dd89f98_3c82_11ea_8e83_acde48001122row3_col13\" class=\"data row3 col13\" >1.00</td>\n",
       "                        <td id=\"T_5dd89f98_3c82_11ea_8e83_acde48001122row3_col14\" class=\"data row3 col14\" >LinAct360</td>\n",
       "            </tr>\n",
       "            <tr>\n",
       "                        <th id=\"T_5dd89f98_3c82_11ea_8e83_acde48001122level0_row4\" class=\"row_heading level0 row4\" >4</th>\n",
       "                        <td id=\"T_5dd89f98_3c82_11ea_8e83_acde48001122row4_col0\" class=\"data row4 col0\" >2022-01-17</td>\n",
       "                        <td id=\"T_5dd89f98_3c82_11ea_8e83_acde48001122row4_col1\" class=\"data row4 col1\" >2022-07-17</td>\n",
       "                        <td id=\"T_5dd89f98_3c82_11ea_8e83_acde48001122row4_col2\" class=\"data row4 col2\" >2022-07-18</td>\n",
       "                        <td id=\"T_5dd89f98_3c82_11ea_8e83_acde48001122row4_col3\" class=\"data row4 col3\" >10,000,000,000.00</td>\n",
       "                        <td id=\"T_5dd89f98_3c82_11ea_8e83_acde48001122row4_col4\" class=\"data row4 col4\" >0.00</td>\n",
       "                        <td id=\"T_5dd89f98_3c82_11ea_8e83_acde48001122row4_col5\" class=\"data row4 col5\" >True</td>\n",
       "                        <td id=\"T_5dd89f98_3c82_11ea_8e83_acde48001122row4_col6\" class=\"data row4 col6\" >0.00</td>\n",
       "                        <td id=\"T_5dd89f98_3c82_11ea_8e83_acde48001122row4_col7\" class=\"data row4 col7\" >CLP</td>\n",
       "                        <td id=\"T_5dd89f98_3c82_11ea_8e83_acde48001122row4_col8\" class=\"data row4 col8\" >10,000.00</td>\n",
       "                        <td id=\"T_5dd89f98_3c82_11ea_8e83_acde48001122row4_col9\" class=\"data row4 col9\" >10,000.00</td>\n",
       "                        <td id=\"T_5dd89f98_3c82_11ea_8e83_acde48001122row4_col10\" class=\"data row4 col10\" >0.0000%</td>\n",
       "                        <td id=\"T_5dd89f98_3c82_11ea_8e83_acde48001122row4_col11\" class=\"data row4 col11\" >0.00</td>\n",
       "                        <td id=\"T_5dd89f98_3c82_11ea_8e83_acde48001122row4_col12\" class=\"data row4 col12\" >0.0000%</td>\n",
       "                        <td id=\"T_5dd89f98_3c82_11ea_8e83_acde48001122row4_col13\" class=\"data row4 col13\" >1.00</td>\n",
       "                        <td id=\"T_5dd89f98_3c82_11ea_8e83_acde48001122row4_col14\" class=\"data row4 col14\" >LinAct360</td>\n",
       "            </tr>\n",
       "            <tr>\n",
       "                        <th id=\"T_5dd89f98_3c82_11ea_8e83_acde48001122level0_row5\" class=\"row_heading level0 row5\" >5</th>\n",
       "                        <td id=\"T_5dd89f98_3c82_11ea_8e83_acde48001122row5_col0\" class=\"data row5 col0\" >2022-07-17</td>\n",
       "                        <td id=\"T_5dd89f98_3c82_11ea_8e83_acde48001122row5_col1\" class=\"data row5 col1\" >2023-01-17</td>\n",
       "                        <td id=\"T_5dd89f98_3c82_11ea_8e83_acde48001122row5_col2\" class=\"data row5 col2\" >2023-01-17</td>\n",
       "                        <td id=\"T_5dd89f98_3c82_11ea_8e83_acde48001122row5_col3\" class=\"data row5 col3\" >10,000,000,000.00</td>\n",
       "                        <td id=\"T_5dd89f98_3c82_11ea_8e83_acde48001122row5_col4\" class=\"data row5 col4\" >0.00</td>\n",
       "                        <td id=\"T_5dd89f98_3c82_11ea_8e83_acde48001122row5_col5\" class=\"data row5 col5\" >True</td>\n",
       "                        <td id=\"T_5dd89f98_3c82_11ea_8e83_acde48001122row5_col6\" class=\"data row5 col6\" >0.00</td>\n",
       "                        <td id=\"T_5dd89f98_3c82_11ea_8e83_acde48001122row5_col7\" class=\"data row5 col7\" >CLP</td>\n",
       "                        <td id=\"T_5dd89f98_3c82_11ea_8e83_acde48001122row5_col8\" class=\"data row5 col8\" >10,000.00</td>\n",
       "                        <td id=\"T_5dd89f98_3c82_11ea_8e83_acde48001122row5_col9\" class=\"data row5 col9\" >10,000.00</td>\n",
       "                        <td id=\"T_5dd89f98_3c82_11ea_8e83_acde48001122row5_col10\" class=\"data row5 col10\" >0.0000%</td>\n",
       "                        <td id=\"T_5dd89f98_3c82_11ea_8e83_acde48001122row5_col11\" class=\"data row5 col11\" >0.00</td>\n",
       "                        <td id=\"T_5dd89f98_3c82_11ea_8e83_acde48001122row5_col12\" class=\"data row5 col12\" >0.0000%</td>\n",
       "                        <td id=\"T_5dd89f98_3c82_11ea_8e83_acde48001122row5_col13\" class=\"data row5 col13\" >1.00</td>\n",
       "                        <td id=\"T_5dd89f98_3c82_11ea_8e83_acde48001122row5_col14\" class=\"data row5 col14\" >LinAct360</td>\n",
       "            </tr>\n",
       "            <tr>\n",
       "                        <th id=\"T_5dd89f98_3c82_11ea_8e83_acde48001122level0_row6\" class=\"row_heading level0 row6\" >6</th>\n",
       "                        <td id=\"T_5dd89f98_3c82_11ea_8e83_acde48001122row6_col0\" class=\"data row6 col0\" >2023-01-17</td>\n",
       "                        <td id=\"T_5dd89f98_3c82_11ea_8e83_acde48001122row6_col1\" class=\"data row6 col1\" >2023-07-17</td>\n",
       "                        <td id=\"T_5dd89f98_3c82_11ea_8e83_acde48001122row6_col2\" class=\"data row6 col2\" >2023-07-17</td>\n",
       "                        <td id=\"T_5dd89f98_3c82_11ea_8e83_acde48001122row6_col3\" class=\"data row6 col3\" >10,000,000,000.00</td>\n",
       "                        <td id=\"T_5dd89f98_3c82_11ea_8e83_acde48001122row6_col4\" class=\"data row6 col4\" >0.00</td>\n",
       "                        <td id=\"T_5dd89f98_3c82_11ea_8e83_acde48001122row6_col5\" class=\"data row6 col5\" >True</td>\n",
       "                        <td id=\"T_5dd89f98_3c82_11ea_8e83_acde48001122row6_col6\" class=\"data row6 col6\" >0.00</td>\n",
       "                        <td id=\"T_5dd89f98_3c82_11ea_8e83_acde48001122row6_col7\" class=\"data row6 col7\" >CLP</td>\n",
       "                        <td id=\"T_5dd89f98_3c82_11ea_8e83_acde48001122row6_col8\" class=\"data row6 col8\" >10,000.00</td>\n",
       "                        <td id=\"T_5dd89f98_3c82_11ea_8e83_acde48001122row6_col9\" class=\"data row6 col9\" >10,000.00</td>\n",
       "                        <td id=\"T_5dd89f98_3c82_11ea_8e83_acde48001122row6_col10\" class=\"data row6 col10\" >0.0000%</td>\n",
       "                        <td id=\"T_5dd89f98_3c82_11ea_8e83_acde48001122row6_col11\" class=\"data row6 col11\" >0.00</td>\n",
       "                        <td id=\"T_5dd89f98_3c82_11ea_8e83_acde48001122row6_col12\" class=\"data row6 col12\" >0.0000%</td>\n",
       "                        <td id=\"T_5dd89f98_3c82_11ea_8e83_acde48001122row6_col13\" class=\"data row6 col13\" >1.00</td>\n",
       "                        <td id=\"T_5dd89f98_3c82_11ea_8e83_acde48001122row6_col14\" class=\"data row6 col14\" >LinAct360</td>\n",
       "            </tr>\n",
       "            <tr>\n",
       "                        <th id=\"T_5dd89f98_3c82_11ea_8e83_acde48001122level0_row7\" class=\"row_heading level0 row7\" >7</th>\n",
       "                        <td id=\"T_5dd89f98_3c82_11ea_8e83_acde48001122row7_col0\" class=\"data row7 col0\" >2023-07-17</td>\n",
       "                        <td id=\"T_5dd89f98_3c82_11ea_8e83_acde48001122row7_col1\" class=\"data row7 col1\" >2024-01-17</td>\n",
       "                        <td id=\"T_5dd89f98_3c82_11ea_8e83_acde48001122row7_col2\" class=\"data row7 col2\" >2024-01-17</td>\n",
       "                        <td id=\"T_5dd89f98_3c82_11ea_8e83_acde48001122row7_col3\" class=\"data row7 col3\" >10,000,000,000.00</td>\n",
       "                        <td id=\"T_5dd89f98_3c82_11ea_8e83_acde48001122row7_col4\" class=\"data row7 col4\" >0.00</td>\n",
       "                        <td id=\"T_5dd89f98_3c82_11ea_8e83_acde48001122row7_col5\" class=\"data row7 col5\" >True</td>\n",
       "                        <td id=\"T_5dd89f98_3c82_11ea_8e83_acde48001122row7_col6\" class=\"data row7 col6\" >0.00</td>\n",
       "                        <td id=\"T_5dd89f98_3c82_11ea_8e83_acde48001122row7_col7\" class=\"data row7 col7\" >CLP</td>\n",
       "                        <td id=\"T_5dd89f98_3c82_11ea_8e83_acde48001122row7_col8\" class=\"data row7 col8\" >10,000.00</td>\n",
       "                        <td id=\"T_5dd89f98_3c82_11ea_8e83_acde48001122row7_col9\" class=\"data row7 col9\" >10,000.00</td>\n",
       "                        <td id=\"T_5dd89f98_3c82_11ea_8e83_acde48001122row7_col10\" class=\"data row7 col10\" >0.0000%</td>\n",
       "                        <td id=\"T_5dd89f98_3c82_11ea_8e83_acde48001122row7_col11\" class=\"data row7 col11\" >0.00</td>\n",
       "                        <td id=\"T_5dd89f98_3c82_11ea_8e83_acde48001122row7_col12\" class=\"data row7 col12\" >0.0000%</td>\n",
       "                        <td id=\"T_5dd89f98_3c82_11ea_8e83_acde48001122row7_col13\" class=\"data row7 col13\" >1.00</td>\n",
       "                        <td id=\"T_5dd89f98_3c82_11ea_8e83_acde48001122row7_col14\" class=\"data row7 col14\" >LinAct360</td>\n",
       "            </tr>\n",
       "            <tr>\n",
       "                        <th id=\"T_5dd89f98_3c82_11ea_8e83_acde48001122level0_row8\" class=\"row_heading level0 row8\" >8</th>\n",
       "                        <td id=\"T_5dd89f98_3c82_11ea_8e83_acde48001122row8_col0\" class=\"data row8 col0\" >2024-01-17</td>\n",
       "                        <td id=\"T_5dd89f98_3c82_11ea_8e83_acde48001122row8_col1\" class=\"data row8 col1\" >2024-07-17</td>\n",
       "                        <td id=\"T_5dd89f98_3c82_11ea_8e83_acde48001122row8_col2\" class=\"data row8 col2\" >2024-07-17</td>\n",
       "                        <td id=\"T_5dd89f98_3c82_11ea_8e83_acde48001122row8_col3\" class=\"data row8 col3\" >10,000,000,000.00</td>\n",
       "                        <td id=\"T_5dd89f98_3c82_11ea_8e83_acde48001122row8_col4\" class=\"data row8 col4\" >0.00</td>\n",
       "                        <td id=\"T_5dd89f98_3c82_11ea_8e83_acde48001122row8_col5\" class=\"data row8 col5\" >True</td>\n",
       "                        <td id=\"T_5dd89f98_3c82_11ea_8e83_acde48001122row8_col6\" class=\"data row8 col6\" >0.00</td>\n",
       "                        <td id=\"T_5dd89f98_3c82_11ea_8e83_acde48001122row8_col7\" class=\"data row8 col7\" >CLP</td>\n",
       "                        <td id=\"T_5dd89f98_3c82_11ea_8e83_acde48001122row8_col8\" class=\"data row8 col8\" >10,000.00</td>\n",
       "                        <td id=\"T_5dd89f98_3c82_11ea_8e83_acde48001122row8_col9\" class=\"data row8 col9\" >10,000.00</td>\n",
       "                        <td id=\"T_5dd89f98_3c82_11ea_8e83_acde48001122row8_col10\" class=\"data row8 col10\" >0.0000%</td>\n",
       "                        <td id=\"T_5dd89f98_3c82_11ea_8e83_acde48001122row8_col11\" class=\"data row8 col11\" >0.00</td>\n",
       "                        <td id=\"T_5dd89f98_3c82_11ea_8e83_acde48001122row8_col12\" class=\"data row8 col12\" >0.0000%</td>\n",
       "                        <td id=\"T_5dd89f98_3c82_11ea_8e83_acde48001122row8_col13\" class=\"data row8 col13\" >1.00</td>\n",
       "                        <td id=\"T_5dd89f98_3c82_11ea_8e83_acde48001122row8_col14\" class=\"data row8 col14\" >LinAct360</td>\n",
       "            </tr>\n",
       "            <tr>\n",
       "                        <th id=\"T_5dd89f98_3c82_11ea_8e83_acde48001122level0_row9\" class=\"row_heading level0 row9\" >9</th>\n",
       "                        <td id=\"T_5dd89f98_3c82_11ea_8e83_acde48001122row9_col0\" class=\"data row9 col0\" >2024-07-17</td>\n",
       "                        <td id=\"T_5dd89f98_3c82_11ea_8e83_acde48001122row9_col1\" class=\"data row9 col1\" >2025-01-17</td>\n",
       "                        <td id=\"T_5dd89f98_3c82_11ea_8e83_acde48001122row9_col2\" class=\"data row9 col2\" >2025-01-17</td>\n",
       "                        <td id=\"T_5dd89f98_3c82_11ea_8e83_acde48001122row9_col3\" class=\"data row9 col3\" >10,000,000,000.00</td>\n",
       "                        <td id=\"T_5dd89f98_3c82_11ea_8e83_acde48001122row9_col4\" class=\"data row9 col4\" >10,000,000,000.00</td>\n",
       "                        <td id=\"T_5dd89f98_3c82_11ea_8e83_acde48001122row9_col5\" class=\"data row9 col5\" >True</td>\n",
       "                        <td id=\"T_5dd89f98_3c82_11ea_8e83_acde48001122row9_col6\" class=\"data row9 col6\" >10,000,000,000.00</td>\n",
       "                        <td id=\"T_5dd89f98_3c82_11ea_8e83_acde48001122row9_col7\" class=\"data row9 col7\" >CLP</td>\n",
       "                        <td id=\"T_5dd89f98_3c82_11ea_8e83_acde48001122row9_col8\" class=\"data row9 col8\" >10,000.00</td>\n",
       "                        <td id=\"T_5dd89f98_3c82_11ea_8e83_acde48001122row9_col9\" class=\"data row9 col9\" >10,000.00</td>\n",
       "                        <td id=\"T_5dd89f98_3c82_11ea_8e83_acde48001122row9_col10\" class=\"data row9 col10\" >0.0000%</td>\n",
       "                        <td id=\"T_5dd89f98_3c82_11ea_8e83_acde48001122row9_col11\" class=\"data row9 col11\" >0.00</td>\n",
       "                        <td id=\"T_5dd89f98_3c82_11ea_8e83_acde48001122row9_col12\" class=\"data row9 col12\" >0.0000%</td>\n",
       "                        <td id=\"T_5dd89f98_3c82_11ea_8e83_acde48001122row9_col13\" class=\"data row9 col13\" >1.00</td>\n",
       "                        <td id=\"T_5dd89f98_3c82_11ea_8e83_acde48001122row9_col14\" class=\"data row9 col14\" >LinAct360</td>\n",
       "            </tr>\n",
       "    </tbody></table>"
      ],
      "text/plain": [
       "<pandas.io.formats.style.Styler at 0x11ff1fbd0>"
      ]
     },
     "execution_count": 98,
     "metadata": {},
     "output_type": "execute_result"
    }
   ],
   "source": [
    "# Se define un list donde almacenar los resultados de la función show\n",
    "tabla = []\n",
    "for i in range(0, icp_clp2_leg.size()):\n",
    "    tabla.append(Qcf.show(icp_clp2_leg.get_cashflow_at(i)))\n",
    "\n",
    "# Se utiliza tabla para inicializar el Dataframe\n",
    "columnas = list(Qcf.get_column_names(\"IcpClpCashflow2\", \"\"))\n",
    "df9 = pd.DataFrame(tabla, columns=columnas)\n",
    "\n",
    "# Se despliega la data en este formato\n",
    "df9.style.format(format_dict)"
   ]
  },
  {
   "cell_type": "markdown",
   "metadata": {},
   "source": [
    "Notar que al dar de alta un Leg con IcpClpCashflow2, los valores futuros de los ICP son los default (=10,000.00). Por lo tanto, el primer paso para valorizar estos cashflows, es calcular los valores forward de los índices.\n",
    "\n",
    "Se comienza dando de alta un objeto de tipo `ForwardRates`."
   ]
  },
  {
   "cell_type": "code",
   "execution_count": 99,
   "metadata": {},
   "outputs": [],
   "source": [
    "fwd_rates = Qcf.ForwardRates()"
   ]
  },
  {
   "cell_type": "markdown",
   "metadata": {},
   "source": [
    "Se calculan los índices forward."
   ]
  },
  {
   "cell_type": "code",
   "execution_count": 100,
   "metadata": {},
   "outputs": [],
   "source": [
    "icp_val = 18846.25\n",
    "fwd_rates.set_rates_icp_clp_leg(fecha_hoy, icp_val, icp_clp2_leg, zz1)"
   ]
  },
  {
   "cell_type": "code",
   "execution_count": 101,
   "metadata": {},
   "outputs": [
    {
     "data": {
      "text/html": [
       "<style  type=\"text/css\" >\n",
       "</style><table id=\"T_5ddc2ff0_3c82_11ea_8e83_acde48001122\" ><thead>    <tr>        <th class=\"blank level0\" ></th>        <th class=\"col_heading level0 col0\" >fecha_inicial</th>        <th class=\"col_heading level0 col1\" >fecha_final</th>        <th class=\"col_heading level0 col2\" >fecha_pago</th>        <th class=\"col_heading level0 col3\" >nominal</th>        <th class=\"col_heading level0 col4\" >amortizacion</th>        <th class=\"col_heading level0 col5\" >amort_es_flujo</th>        <th class=\"col_heading level0 col6\" >flujo</th>        <th class=\"col_heading level0 col7\" >moneda</th>        <th class=\"col_heading level0 col8\" >icp_inicial</th>        <th class=\"col_heading level0 col9\" >icp_final</th>        <th class=\"col_heading level0 col10\" >valor_tasa</th>        <th class=\"col_heading level0 col11\" >interes</th>        <th class=\"col_heading level0 col12\" >spread</th>        <th class=\"col_heading level0 col13\" >gearing</th>        <th class=\"col_heading level0 col14\" >tipo_tasa</th>    </tr></thead><tbody>\n",
       "                <tr>\n",
       "                        <th id=\"T_5ddc2ff0_3c82_11ea_8e83_acde48001122level0_row0\" class=\"row_heading level0 row0\" >0</th>\n",
       "                        <td id=\"T_5ddc2ff0_3c82_11ea_8e83_acde48001122row0_col0\" class=\"data row0 col0\" >2020-01-17</td>\n",
       "                        <td id=\"T_5ddc2ff0_3c82_11ea_8e83_acde48001122row0_col1\" class=\"data row0 col1\" >2020-07-17</td>\n",
       "                        <td id=\"T_5ddc2ff0_3c82_11ea_8e83_acde48001122row0_col2\" class=\"data row0 col2\" >2020-07-17</td>\n",
       "                        <td id=\"T_5ddc2ff0_3c82_11ea_8e83_acde48001122row0_col3\" class=\"data row0 col3\" >10,000,000,000.00</td>\n",
       "                        <td id=\"T_5ddc2ff0_3c82_11ea_8e83_acde48001122row0_col4\" class=\"data row0 col4\" >0.00</td>\n",
       "                        <td id=\"T_5ddc2ff0_3c82_11ea_8e83_acde48001122row0_col5\" class=\"data row0 col5\" >True</td>\n",
       "                        <td id=\"T_5ddc2ff0_3c82_11ea_8e83_acde48001122row0_col6\" class=\"data row0 col6\" >84,912,678.57</td>\n",
       "                        <td id=\"T_5ddc2ff0_3c82_11ea_8e83_acde48001122row0_col7\" class=\"data row0 col7\" >CLP</td>\n",
       "                        <td id=\"T_5ddc2ff0_3c82_11ea_8e83_acde48001122row0_col8\" class=\"data row0 col8\" >18,846.25</td>\n",
       "                        <td id=\"T_5ddc2ff0_3c82_11ea_8e83_acde48001122row0_col9\" class=\"data row0 col9\" >19,006.28</td>\n",
       "                        <td id=\"T_5ddc2ff0_3c82_11ea_8e83_acde48001122row0_col10\" class=\"data row0 col10\" >1.6800%</td>\n",
       "                        <td id=\"T_5ddc2ff0_3c82_11ea_8e83_acde48001122row0_col11\" class=\"data row0 col11\" >84,933,333.33</td>\n",
       "                        <td id=\"T_5ddc2ff0_3c82_11ea_8e83_acde48001122row0_col12\" class=\"data row0 col12\" >0.0000%</td>\n",
       "                        <td id=\"T_5ddc2ff0_3c82_11ea_8e83_acde48001122row0_col13\" class=\"data row0 col13\" >1.00</td>\n",
       "                        <td id=\"T_5ddc2ff0_3c82_11ea_8e83_acde48001122row0_col14\" class=\"data row0 col14\" >LinAct360</td>\n",
       "            </tr>\n",
       "            <tr>\n",
       "                        <th id=\"T_5ddc2ff0_3c82_11ea_8e83_acde48001122level0_row1\" class=\"row_heading level0 row1\" >1</th>\n",
       "                        <td id=\"T_5ddc2ff0_3c82_11ea_8e83_acde48001122row1_col0\" class=\"data row1 col0\" >2020-07-17</td>\n",
       "                        <td id=\"T_5ddc2ff0_3c82_11ea_8e83_acde48001122row1_col1\" class=\"data row1 col1\" >2021-01-17</td>\n",
       "                        <td id=\"T_5ddc2ff0_3c82_11ea_8e83_acde48001122row1_col2\" class=\"data row1 col2\" >2021-01-18</td>\n",
       "                        <td id=\"T_5ddc2ff0_3c82_11ea_8e83_acde48001122row1_col3\" class=\"data row1 col3\" >10,000,000,000.00</td>\n",
       "                        <td id=\"T_5ddc2ff0_3c82_11ea_8e83_acde48001122row1_col4\" class=\"data row1 col4\" >0.00</td>\n",
       "                        <td id=\"T_5ddc2ff0_3c82_11ea_8e83_acde48001122row1_col5\" class=\"data row1 col5\" >True</td>\n",
       "                        <td id=\"T_5ddc2ff0_3c82_11ea_8e83_acde48001122row1_col6\" class=\"data row1 col6\" >85,882,109.82</td>\n",
       "                        <td id=\"T_5ddc2ff0_3c82_11ea_8e83_acde48001122row1_col7\" class=\"data row1 col7\" >CLP</td>\n",
       "                        <td id=\"T_5ddc2ff0_3c82_11ea_8e83_acde48001122row1_col8\" class=\"data row1 col8\" >19,006.28</td>\n",
       "                        <td id=\"T_5ddc2ff0_3c82_11ea_8e83_acde48001122row1_col9\" class=\"data row1 col9\" >19,169.51</td>\n",
       "                        <td id=\"T_5ddc2ff0_3c82_11ea_8e83_acde48001122row1_col10\" class=\"data row1 col10\" >1.6800%</td>\n",
       "                        <td id=\"T_5ddc2ff0_3c82_11ea_8e83_acde48001122row1_col11\" class=\"data row1 col11\" >85,866,666.67</td>\n",
       "                        <td id=\"T_5ddc2ff0_3c82_11ea_8e83_acde48001122row1_col12\" class=\"data row1 col12\" >0.0000%</td>\n",
       "                        <td id=\"T_5ddc2ff0_3c82_11ea_8e83_acde48001122row1_col13\" class=\"data row1 col13\" >1.00</td>\n",
       "                        <td id=\"T_5ddc2ff0_3c82_11ea_8e83_acde48001122row1_col14\" class=\"data row1 col14\" >LinAct360</td>\n",
       "            </tr>\n",
       "            <tr>\n",
       "                        <th id=\"T_5ddc2ff0_3c82_11ea_8e83_acde48001122level0_row2\" class=\"row_heading level0 row2\" >2</th>\n",
       "                        <td id=\"T_5ddc2ff0_3c82_11ea_8e83_acde48001122row2_col0\" class=\"data row2 col0\" >2021-01-17</td>\n",
       "                        <td id=\"T_5ddc2ff0_3c82_11ea_8e83_acde48001122row2_col1\" class=\"data row2 col1\" >2021-07-17</td>\n",
       "                        <td id=\"T_5ddc2ff0_3c82_11ea_8e83_acde48001122row2_col2\" class=\"data row2 col2\" >2021-07-19</td>\n",
       "                        <td id=\"T_5ddc2ff0_3c82_11ea_8e83_acde48001122row2_col3\" class=\"data row2 col3\" >10,000,000,000.00</td>\n",
       "                        <td id=\"T_5ddc2ff0_3c82_11ea_8e83_acde48001122row2_col4\" class=\"data row2 col4\" >0.00</td>\n",
       "                        <td id=\"T_5ddc2ff0_3c82_11ea_8e83_acde48001122row2_col5\" class=\"data row2 col5\" >True</td>\n",
       "                        <td id=\"T_5ddc2ff0_3c82_11ea_8e83_acde48001122row2_col6\" class=\"data row2 col6\" >86,981,192.19</td>\n",
       "                        <td id=\"T_5ddc2ff0_3c82_11ea_8e83_acde48001122row2_col7\" class=\"data row2 col7\" >CLP</td>\n",
       "                        <td id=\"T_5ddc2ff0_3c82_11ea_8e83_acde48001122row2_col8\" class=\"data row2 col8\" >19,169.51</td>\n",
       "                        <td id=\"T_5ddc2ff0_3c82_11ea_8e83_acde48001122row2_col9\" class=\"data row2 col9\" >19,336.25</td>\n",
       "                        <td id=\"T_5ddc2ff0_3c82_11ea_8e83_acde48001122row2_col10\" class=\"data row2 col10\" >1.7300%</td>\n",
       "                        <td id=\"T_5ddc2ff0_3c82_11ea_8e83_acde48001122row2_col11\" class=\"data row2 col11\" >86,980,555.56</td>\n",
       "                        <td id=\"T_5ddc2ff0_3c82_11ea_8e83_acde48001122row2_col12\" class=\"data row2 col12\" >0.0000%</td>\n",
       "                        <td id=\"T_5ddc2ff0_3c82_11ea_8e83_acde48001122row2_col13\" class=\"data row2 col13\" >1.00</td>\n",
       "                        <td id=\"T_5ddc2ff0_3c82_11ea_8e83_acde48001122row2_col14\" class=\"data row2 col14\" >LinAct360</td>\n",
       "            </tr>\n",
       "            <tr>\n",
       "                        <th id=\"T_5ddc2ff0_3c82_11ea_8e83_acde48001122level0_row3\" class=\"row_heading level0 row3\" >3</th>\n",
       "                        <td id=\"T_5ddc2ff0_3c82_11ea_8e83_acde48001122row3_col0\" class=\"data row3 col0\" >2021-07-17</td>\n",
       "                        <td id=\"T_5ddc2ff0_3c82_11ea_8e83_acde48001122row3_col1\" class=\"data row3 col1\" >2022-01-17</td>\n",
       "                        <td id=\"T_5ddc2ff0_3c82_11ea_8e83_acde48001122row3_col2\" class=\"data row3 col2\" >2022-01-17</td>\n",
       "                        <td id=\"T_5ddc2ff0_3c82_11ea_8e83_acde48001122row3_col3\" class=\"data row3 col3\" >10,000,000,000.00</td>\n",
       "                        <td id=\"T_5ddc2ff0_3c82_11ea_8e83_acde48001122row3_col4\" class=\"data row3 col4\" >0.00</td>\n",
       "                        <td id=\"T_5ddc2ff0_3c82_11ea_8e83_acde48001122row3_col5\" class=\"data row3 col5\" >True</td>\n",
       "                        <td id=\"T_5ddc2ff0_3c82_11ea_8e83_acde48001122row3_col6\" class=\"data row3 col6\" >101,654,169.55</td>\n",
       "                        <td id=\"T_5ddc2ff0_3c82_11ea_8e83_acde48001122row3_col7\" class=\"data row3 col7\" >CLP</td>\n",
       "                        <td id=\"T_5ddc2ff0_3c82_11ea_8e83_acde48001122row3_col8\" class=\"data row3 col8\" >19,336.25</td>\n",
       "                        <td id=\"T_5ddc2ff0_3c82_11ea_8e83_acde48001122row3_col9\" class=\"data row3 col9\" >19,532.81</td>\n",
       "                        <td id=\"T_5ddc2ff0_3c82_11ea_8e83_acde48001122row3_col10\" class=\"data row3 col10\" >1.9900%</td>\n",
       "                        <td id=\"T_5ddc2ff0_3c82_11ea_8e83_acde48001122row3_col11\" class=\"data row3 col11\" >101,711,111.11</td>\n",
       "                        <td id=\"T_5ddc2ff0_3c82_11ea_8e83_acde48001122row3_col12\" class=\"data row3 col12\" >0.0000%</td>\n",
       "                        <td id=\"T_5ddc2ff0_3c82_11ea_8e83_acde48001122row3_col13\" class=\"data row3 col13\" >1.00</td>\n",
       "                        <td id=\"T_5ddc2ff0_3c82_11ea_8e83_acde48001122row3_col14\" class=\"data row3 col14\" >LinAct360</td>\n",
       "            </tr>\n",
       "            <tr>\n",
       "                        <th id=\"T_5ddc2ff0_3c82_11ea_8e83_acde48001122level0_row4\" class=\"row_heading level0 row4\" >4</th>\n",
       "                        <td id=\"T_5ddc2ff0_3c82_11ea_8e83_acde48001122row4_col0\" class=\"data row4 col0\" >2022-01-17</td>\n",
       "                        <td id=\"T_5ddc2ff0_3c82_11ea_8e83_acde48001122row4_col1\" class=\"data row4 col1\" >2022-07-17</td>\n",
       "                        <td id=\"T_5ddc2ff0_3c82_11ea_8e83_acde48001122row4_col2\" class=\"data row4 col2\" >2022-07-18</td>\n",
       "                        <td id=\"T_5ddc2ff0_3c82_11ea_8e83_acde48001122row4_col3\" class=\"data row4 col3\" >10,000,000,000.00</td>\n",
       "                        <td id=\"T_5ddc2ff0_3c82_11ea_8e83_acde48001122row4_col4\" class=\"data row4 col4\" >0.00</td>\n",
       "                        <td id=\"T_5ddc2ff0_3c82_11ea_8e83_acde48001122row4_col5\" class=\"data row4 col5\" >True</td>\n",
       "                        <td id=\"T_5ddc2ff0_3c82_11ea_8e83_acde48001122row4_col6\" class=\"data row4 col6\" >109,844,702.95</td>\n",
       "                        <td id=\"T_5ddc2ff0_3c82_11ea_8e83_acde48001122row4_col7\" class=\"data row4 col7\" >CLP</td>\n",
       "                        <td id=\"T_5ddc2ff0_3c82_11ea_8e83_acde48001122row4_col8\" class=\"data row4 col8\" >19,532.81</td>\n",
       "                        <td id=\"T_5ddc2ff0_3c82_11ea_8e83_acde48001122row4_col9\" class=\"data row4 col9\" >19,747.37</td>\n",
       "                        <td id=\"T_5ddc2ff0_3c82_11ea_8e83_acde48001122row4_col10\" class=\"data row4 col10\" >2.1800%</td>\n",
       "                        <td id=\"T_5ddc2ff0_3c82_11ea_8e83_acde48001122row4_col11\" class=\"data row4 col11\" >109,605,555.56</td>\n",
       "                        <td id=\"T_5ddc2ff0_3c82_11ea_8e83_acde48001122row4_col12\" class=\"data row4 col12\" >0.0000%</td>\n",
       "                        <td id=\"T_5ddc2ff0_3c82_11ea_8e83_acde48001122row4_col13\" class=\"data row4 col13\" >1.00</td>\n",
       "                        <td id=\"T_5ddc2ff0_3c82_11ea_8e83_acde48001122row4_col14\" class=\"data row4 col14\" >LinAct360</td>\n",
       "            </tr>\n",
       "            <tr>\n",
       "                        <th id=\"T_5ddc2ff0_3c82_11ea_8e83_acde48001122level0_row5\" class=\"row_heading level0 row5\" >5</th>\n",
       "                        <td id=\"T_5ddc2ff0_3c82_11ea_8e83_acde48001122row5_col0\" class=\"data row5 col0\" >2022-07-17</td>\n",
       "                        <td id=\"T_5ddc2ff0_3c82_11ea_8e83_acde48001122row5_col1\" class=\"data row5 col1\" >2023-01-17</td>\n",
       "                        <td id=\"T_5ddc2ff0_3c82_11ea_8e83_acde48001122row5_col2\" class=\"data row5 col2\" >2023-01-17</td>\n",
       "                        <td id=\"T_5ddc2ff0_3c82_11ea_8e83_acde48001122row5_col3\" class=\"data row5 col3\" >10,000,000,000.00</td>\n",
       "                        <td id=\"T_5ddc2ff0_3c82_11ea_8e83_acde48001122row5_col4\" class=\"data row5 col4\" >0.00</td>\n",
       "                        <td id=\"T_5ddc2ff0_3c82_11ea_8e83_acde48001122row5_col5\" class=\"data row5 col5\" >True</td>\n",
       "                        <td id=\"T_5ddc2ff0_3c82_11ea_8e83_acde48001122row5_col6\" class=\"data row5 col6\" >119,703,048.50</td>\n",
       "                        <td id=\"T_5ddc2ff0_3c82_11ea_8e83_acde48001122row5_col7\" class=\"data row5 col7\" >CLP</td>\n",
       "                        <td id=\"T_5ddc2ff0_3c82_11ea_8e83_acde48001122row5_col8\" class=\"data row5 col8\" >19,747.37</td>\n",
       "                        <td id=\"T_5ddc2ff0_3c82_11ea_8e83_acde48001122row5_col9\" class=\"data row5 col9\" >19,983.75</td>\n",
       "                        <td id=\"T_5ddc2ff0_3c82_11ea_8e83_acde48001122row5_col10\" class=\"data row5 col10\" >2.3400%</td>\n",
       "                        <td id=\"T_5ddc2ff0_3c82_11ea_8e83_acde48001122row5_col11\" class=\"data row5 col11\" >119,600,000.00</td>\n",
       "                        <td id=\"T_5ddc2ff0_3c82_11ea_8e83_acde48001122row5_col12\" class=\"data row5 col12\" >0.0000%</td>\n",
       "                        <td id=\"T_5ddc2ff0_3c82_11ea_8e83_acde48001122row5_col13\" class=\"data row5 col13\" >1.00</td>\n",
       "                        <td id=\"T_5ddc2ff0_3c82_11ea_8e83_acde48001122row5_col14\" class=\"data row5 col14\" >LinAct360</td>\n",
       "            </tr>\n",
       "            <tr>\n",
       "                        <th id=\"T_5ddc2ff0_3c82_11ea_8e83_acde48001122level0_row6\" class=\"row_heading level0 row6\" >6</th>\n",
       "                        <td id=\"T_5ddc2ff0_3c82_11ea_8e83_acde48001122row6_col0\" class=\"data row6 col0\" >2023-01-17</td>\n",
       "                        <td id=\"T_5ddc2ff0_3c82_11ea_8e83_acde48001122row6_col1\" class=\"data row6 col1\" >2023-07-17</td>\n",
       "                        <td id=\"T_5ddc2ff0_3c82_11ea_8e83_acde48001122row6_col2\" class=\"data row6 col2\" >2023-07-17</td>\n",
       "                        <td id=\"T_5ddc2ff0_3c82_11ea_8e83_acde48001122row6_col3\" class=\"data row6 col3\" >10,000,000,000.00</td>\n",
       "                        <td id=\"T_5ddc2ff0_3c82_11ea_8e83_acde48001122row6_col4\" class=\"data row6 col4\" >0.00</td>\n",
       "                        <td id=\"T_5ddc2ff0_3c82_11ea_8e83_acde48001122row6_col5\" class=\"data row6 col5\" >True</td>\n",
       "                        <td id=\"T_5ddc2ff0_3c82_11ea_8e83_acde48001122row6_col6\" class=\"data row6 col6\" >130,756,522.77</td>\n",
       "                        <td id=\"T_5ddc2ff0_3c82_11ea_8e83_acde48001122row6_col7\" class=\"data row6 col7\" >CLP</td>\n",
       "                        <td id=\"T_5ddc2ff0_3c82_11ea_8e83_acde48001122row6_col8\" class=\"data row6 col8\" >19,983.75</td>\n",
       "                        <td id=\"T_5ddc2ff0_3c82_11ea_8e83_acde48001122row6_col9\" class=\"data row6 col9\" >20,245.05</td>\n",
       "                        <td id=\"T_5ddc2ff0_3c82_11ea_8e83_acde48001122row6_col10\" class=\"data row6 col10\" >2.6000%</td>\n",
       "                        <td id=\"T_5ddc2ff0_3c82_11ea_8e83_acde48001122row6_col11\" class=\"data row6 col11\" >130,722,222.22</td>\n",
       "                        <td id=\"T_5ddc2ff0_3c82_11ea_8e83_acde48001122row6_col12\" class=\"data row6 col12\" >0.0000%</td>\n",
       "                        <td id=\"T_5ddc2ff0_3c82_11ea_8e83_acde48001122row6_col13\" class=\"data row6 col13\" >1.00</td>\n",
       "                        <td id=\"T_5ddc2ff0_3c82_11ea_8e83_acde48001122row6_col14\" class=\"data row6 col14\" >LinAct360</td>\n",
       "            </tr>\n",
       "            <tr>\n",
       "                        <th id=\"T_5ddc2ff0_3c82_11ea_8e83_acde48001122level0_row7\" class=\"row_heading level0 row7\" >7</th>\n",
       "                        <td id=\"T_5ddc2ff0_3c82_11ea_8e83_acde48001122row7_col0\" class=\"data row7 col0\" >2023-07-17</td>\n",
       "                        <td id=\"T_5ddc2ff0_3c82_11ea_8e83_acde48001122row7_col1\" class=\"data row7 col1\" >2024-01-17</td>\n",
       "                        <td id=\"T_5ddc2ff0_3c82_11ea_8e83_acde48001122row7_col2\" class=\"data row7 col2\" >2024-01-17</td>\n",
       "                        <td id=\"T_5ddc2ff0_3c82_11ea_8e83_acde48001122row7_col3\" class=\"data row7 col3\" >10,000,000,000.00</td>\n",
       "                        <td id=\"T_5ddc2ff0_3c82_11ea_8e83_acde48001122row7_col4\" class=\"data row7 col4\" >0.00</td>\n",
       "                        <td id=\"T_5ddc2ff0_3c82_11ea_8e83_acde48001122row7_col5\" class=\"data row7 col5\" >True</td>\n",
       "                        <td id=\"T_5ddc2ff0_3c82_11ea_8e83_acde48001122row7_col6\" class=\"data row7 col6\" >141,890,952.50</td>\n",
       "                        <td id=\"T_5ddc2ff0_3c82_11ea_8e83_acde48001122row7_col7\" class=\"data row7 col7\" >CLP</td>\n",
       "                        <td id=\"T_5ddc2ff0_3c82_11ea_8e83_acde48001122row7_col8\" class=\"data row7 col8\" >20,245.05</td>\n",
       "                        <td id=\"T_5ddc2ff0_3c82_11ea_8e83_acde48001122row7_col9\" class=\"data row7 col9\" >20,532.31</td>\n",
       "                        <td id=\"T_5ddc2ff0_3c82_11ea_8e83_acde48001122row7_col10\" class=\"data row7 col10\" >2.7800%</td>\n",
       "                        <td id=\"T_5ddc2ff0_3c82_11ea_8e83_acde48001122row7_col11\" class=\"data row7 col11\" >142,088,888.89</td>\n",
       "                        <td id=\"T_5ddc2ff0_3c82_11ea_8e83_acde48001122row7_col12\" class=\"data row7 col12\" >0.0000%</td>\n",
       "                        <td id=\"T_5ddc2ff0_3c82_11ea_8e83_acde48001122row7_col13\" class=\"data row7 col13\" >1.00</td>\n",
       "                        <td id=\"T_5ddc2ff0_3c82_11ea_8e83_acde48001122row7_col14\" class=\"data row7 col14\" >LinAct360</td>\n",
       "            </tr>\n",
       "            <tr>\n",
       "                        <th id=\"T_5ddc2ff0_3c82_11ea_8e83_acde48001122level0_row8\" class=\"row_heading level0 row8\" >8</th>\n",
       "                        <td id=\"T_5ddc2ff0_3c82_11ea_8e83_acde48001122row8_col0\" class=\"data row8 col0\" >2024-01-17</td>\n",
       "                        <td id=\"T_5ddc2ff0_3c82_11ea_8e83_acde48001122row8_col1\" class=\"data row8 col1\" >2024-07-17</td>\n",
       "                        <td id=\"T_5ddc2ff0_3c82_11ea_8e83_acde48001122row8_col2\" class=\"data row8 col2\" >2024-07-17</td>\n",
       "                        <td id=\"T_5ddc2ff0_3c82_11ea_8e83_acde48001122row8_col3\" class=\"data row8 col3\" >10,000,000,000.00</td>\n",
       "                        <td id=\"T_5ddc2ff0_3c82_11ea_8e83_acde48001122row8_col4\" class=\"data row8 col4\" >0.00</td>\n",
       "                        <td id=\"T_5ddc2ff0_3c82_11ea_8e83_acde48001122row8_col5\" class=\"data row8 col5\" >True</td>\n",
       "                        <td id=\"T_5ddc2ff0_3c82_11ea_8e83_acde48001122row8_col6\" class=\"data row8 col6\" >159,639,937.49</td>\n",
       "                        <td id=\"T_5ddc2ff0_3c82_11ea_8e83_acde48001122row8_col7\" class=\"data row8 col7\" >CLP</td>\n",
       "                        <td id=\"T_5ddc2ff0_3c82_11ea_8e83_acde48001122row8_col8\" class=\"data row8 col8\" >20,532.31</td>\n",
       "                        <td id=\"T_5ddc2ff0_3c82_11ea_8e83_acde48001122row8_col9\" class=\"data row8 col9\" >20,860.08</td>\n",
       "                        <td id=\"T_5ddc2ff0_3c82_11ea_8e83_acde48001122row8_col10\" class=\"data row8 col10\" >3.1600%</td>\n",
       "                        <td id=\"T_5ddc2ff0_3c82_11ea_8e83_acde48001122row8_col11\" class=\"data row8 col11\" >159,755,555.56</td>\n",
       "                        <td id=\"T_5ddc2ff0_3c82_11ea_8e83_acde48001122row8_col12\" class=\"data row8 col12\" >0.0000%</td>\n",
       "                        <td id=\"T_5ddc2ff0_3c82_11ea_8e83_acde48001122row8_col13\" class=\"data row8 col13\" >1.00</td>\n",
       "                        <td id=\"T_5ddc2ff0_3c82_11ea_8e83_acde48001122row8_col14\" class=\"data row8 col14\" >LinAct360</td>\n",
       "            </tr>\n",
       "            <tr>\n",
       "                        <th id=\"T_5ddc2ff0_3c82_11ea_8e83_acde48001122level0_row9\" class=\"row_heading level0 row9\" >9</th>\n",
       "                        <td id=\"T_5ddc2ff0_3c82_11ea_8e83_acde48001122row9_col0\" class=\"data row9 col0\" >2024-07-17</td>\n",
       "                        <td id=\"T_5ddc2ff0_3c82_11ea_8e83_acde48001122row9_col1\" class=\"data row9 col1\" >2025-01-17</td>\n",
       "                        <td id=\"T_5ddc2ff0_3c82_11ea_8e83_acde48001122row9_col2\" class=\"data row9 col2\" >2025-01-17</td>\n",
       "                        <td id=\"T_5ddc2ff0_3c82_11ea_8e83_acde48001122row9_col3\" class=\"data row9 col3\" >10,000,000,000.00</td>\n",
       "                        <td id=\"T_5ddc2ff0_3c82_11ea_8e83_acde48001122row9_col4\" class=\"data row9 col4\" >10,000,000,000.00</td>\n",
       "                        <td id=\"T_5ddc2ff0_3c82_11ea_8e83_acde48001122row9_col5\" class=\"data row9 col5\" >True</td>\n",
       "                        <td id=\"T_5ddc2ff0_3c82_11ea_8e83_acde48001122row9_col6\" class=\"data row9 col6\" >10,171,841,252.28</td>\n",
       "                        <td id=\"T_5ddc2ff0_3c82_11ea_8e83_acde48001122row9_col7\" class=\"data row9 col7\" >CLP</td>\n",
       "                        <td id=\"T_5ddc2ff0_3c82_11ea_8e83_acde48001122row9_col8\" class=\"data row9 col8\" >20,860.08</td>\n",
       "                        <td id=\"T_5ddc2ff0_3c82_11ea_8e83_acde48001122row9_col9\" class=\"data row9 col9\" >21,218.55</td>\n",
       "                        <td id=\"T_5ddc2ff0_3c82_11ea_8e83_acde48001122row9_col10\" class=\"data row9 col10\" >3.3600%</td>\n",
       "                        <td id=\"T_5ddc2ff0_3c82_11ea_8e83_acde48001122row9_col11\" class=\"data row9 col11\" >171,733,333.33</td>\n",
       "                        <td id=\"T_5ddc2ff0_3c82_11ea_8e83_acde48001122row9_col12\" class=\"data row9 col12\" >0.0000%</td>\n",
       "                        <td id=\"T_5ddc2ff0_3c82_11ea_8e83_acde48001122row9_col13\" class=\"data row9 col13\" >1.00</td>\n",
       "                        <td id=\"T_5ddc2ff0_3c82_11ea_8e83_acde48001122row9_col14\" class=\"data row9 col14\" >LinAct360</td>\n",
       "            </tr>\n",
       "    </tbody></table>"
      ],
      "text/plain": [
       "<pandas.io.formats.style.Styler at 0x11ffb0050>"
      ]
     },
     "execution_count": 101,
     "metadata": {},
     "output_type": "execute_result"
    }
   ],
   "source": [
    "# Se define un list donde almacenar los resultados de la función show\n",
    "tabla = []\n",
    "for i in range(0, icp_clp2_leg.size()):\n",
    "    tabla.append(Qcf.show(icp_clp2_leg.get_cashflow_at(i)))\n",
    "\n",
    "# Se utiliza tabla para inicializar el Dataframe\n",
    "columnas = list(Qcf.get_column_names(\"IcpClpCashflow2\", \"\"))\n",
    "df9 = pd.DataFrame(tabla, columns=columnas)\n",
    "\n",
    "# Se despliega la data en este formato\n",
    "df9.style.format(format_dict)"
   ]
  },
  {
   "cell_type": "markdown",
   "metadata": {},
   "source": [
    "Con esto, podemos calcular el valor presente."
   ]
  },
  {
   "cell_type": "code",
   "execution_count": 102,
   "metadata": {},
   "outputs": [
    {
     "name": "stdout",
     "output_type": "stream",
     "text": [
      "Valor presente pata ICPCLP: 9,999,981,317\n"
     ]
    }
   ],
   "source": [
    "vp_icp_clp = pv.pv(fecha_hoy, icp_clp2_leg, zz1)\n",
    "print(\"Valor presente pata ICPCLP: {0:,.0f}\".format(vp_icp_clp))"
   ]
  },
  {
   "cell_type": "markdown",
   "metadata": {},
   "source": [
    "También en este caso es posible calcular la sensibilidad a la curva de descuento."
   ]
  },
  {
   "cell_type": "code",
   "execution_count": 103,
   "metadata": {},
   "outputs": [
    {
     "name": "stdout",
     "output_type": "stream",
     "text": [
      "Sensibilidad en 0: 0\n",
      "Sensibilidad en 1: 0\n",
      "Sensibilidad en 2: -183\n",
      "Sensibilidad en 3: -3,980\n",
      "Sensibilidad en 4: -272\n",
      "Sensibilidad en 5: -8,211\n",
      "Sensibilidad en 6: -12,701\n",
      "Sensibilidad en 7: -31,711\n",
      "Sensibilidad en 8: -64,764\n",
      "Sensibilidad en 9: -140,577\n",
      "Sensibilidad en 10: -4,001,277\n",
      "Sensibilidad en 11: 0\n",
      "Sensibilidad en 12: 0\n",
      "Sensibilidad en 13: 0\n",
      "Sensibilidad en 14: 0\n",
      "Sensibilidad en 15: 0\n",
      "Sensibilidad en 16: 0\n",
      "Sensibilidad en 17: 0\n",
      "Sensibilidad en 18: 0\n"
     ]
    }
   ],
   "source": [
    "der = pv.get_derivatives()\n",
    "i = 0\n",
    "bp = .0001\n",
    "for d in der:\n",
    "    print(\"Sensibilidad en {0:}: {1:0,.0f}\".format(i, d * bp))\n",
    "    i += 1"
   ]
  },
  {
   "cell_type": "markdown",
   "metadata": {},
   "source": [
    "Podemos ver la sensibilidad total:"
   ]
  },
  {
   "cell_type": "code",
   "execution_count": 104,
   "metadata": {},
   "outputs": [
    {
     "name": "stdout",
     "output_type": "stream",
     "text": [
      "Sensibilidad de descuento: -4,263,676 CLP\n"
     ]
    }
   ],
   "source": [
    "sens_disc = [d * bp for d in der]\n",
    "print(\"Sensibilidad de descuento: {0:,.0f} CLP\".format(sum(sens_disc)))"
   ]
  },
  {
   "cell_type": "markdown",
   "metadata": {},
   "source": [
    "La estructura es la misma que para una pata fija, lo que indica que se debe también incluir la sensibilidad a la curva de proyección."
   ]
  },
  {
   "cell_type": "code",
   "execution_count": 105,
   "metadata": {},
   "outputs": [
    {
     "name": "stdout",
     "output_type": "stream",
     "text": [
      "Sensibilidad en 0: 0\n",
      "Sensibilidad en 1: 0\n",
      "Sensibilidad en 2: 184\n",
      "Sensibilidad en 3: 4,002\n",
      "Sensibilidad en 4: 364\n",
      "Sensibilidad en 5: 8,278\n",
      "Sensibilidad en 6: 12,388\n",
      "Sensibilidad en 7: 31,807\n",
      "Sensibilidad en 8: 64,614\n",
      "Sensibilidad en 9: 140,577\n",
      "Sensibilidad en 10: 4,001,277\n",
      "Sensibilidad en 11: 0\n",
      "Sensibilidad en 12: 0\n",
      "Sensibilidad en 13: 0\n",
      "Sensibilidad en 14: 0\n",
      "Sensibilidad en 15: 0\n",
      "Sensibilidad en 16: 0\n",
      "Sensibilidad en 17: 0\n",
      "Sensibilidad en 18: 0\n",
      "Sensibilidad de proyección: 4,263,492 CLP\n"
     ]
    }
   ],
   "source": [
    "bp = .0001\n",
    "result = []\n",
    "import numpy as np\n",
    "for i in range(icp_clp2_leg.size()):\n",
    "    cshflw = icp_clp2_leg.get_cashflow_at(i)\n",
    "    amt_der = cshflw.get_amount_derivatives()\n",
    "    amt_der = [a * bp for a in amt_der]\n",
    "    if len(amt_der) > 0:\n",
    "        result.append(np.array(amt_der))\n",
    "total = result[0] * 0\n",
    "\n",
    "for r in result:\n",
    "    total += r\n",
    "\n",
    "for i in range(len(total)):\n",
    "    print(\"Sensibilidad en {0:}: {1:0,.0f}\".format(i, total[i]))\n",
    "        \n",
    "print(\"Sensibilidad de proyección: {0:,.0f} CLP\".format(sum(total)))"
   ]
  },
  {
   "cell_type": "markdown",
   "metadata": {},
   "source": [
    "Como se espera de una pata ICPCLP (con lag de pago igual a 0 y spread igual a 0), ambas sensibilidades se cancelan."
   ]
  },
  {
   "cell_type": "markdown",
   "metadata": {},
   "source": [
    "Se verifica la sensibilidad de proyección por diferencias finitas:"
   ]
  },
  {
   "cell_type": "code",
   "execution_count": 106,
   "metadata": {},
   "outputs": [
    {
     "name": "stdout",
     "output_type": "stream",
     "text": [
      "Sensibilidad en vértice 10: 4,001,277 CLP\n"
     ]
    }
   ],
   "source": [
    "fwd_rates.set_rates_icp_clp_leg(fecha_hoy, icp_val, icp_clp2_leg, zz_sens_up)\n",
    "vp_icp_clp_up = pv.pv(fecha_hoy, icp_clp2_leg, zz1)\n",
    "\n",
    "fwd_rates.set_rates_icp_clp_leg(fecha_hoy, icp_val, icp_clp2_leg, zz_sens_down)\n",
    "vp_icp_clp_down = pv.pv(fecha_hoy, icp_clp2_leg, zz1)\n",
    "\n",
    "print(\"Sensibilidad en vértice {0:}: {1:,.0f} CLP\".format(vertice, (vp_icp_clp_up - vp_icp_clp_down) / 2))"
   ]
  }
 ],
 "metadata": {
  "hide_input": false,
  "kernelspec": {
   "display_name": "Python 3",
   "language": "python",
   "name": "python3"
  },
  "language_info": {
   "codemirror_mode": {
    "name": "ipython",
    "version": 3
   },
   "file_extension": ".py",
   "mimetype": "text/x-python",
   "name": "python",
   "nbconvert_exporter": "python",
   "pygments_lexer": "ipython3",
   "version": "3.7.4"
  },
  "toc": {
   "base_numbering": 1,
   "nav_menu": {},
   "number_sections": true,
   "sideBar": true,
   "skip_h1_title": true,
   "title_cell": "Table of Contents",
   "title_sidebar": "Contents",
   "toc_cell": false,
   "toc_position": {
    "height": "calc(100% - 180px)",
    "left": "10px",
    "top": "150px",
    "width": "189px"
   },
   "toc_section_display": true,
   "toc_window_display": true
  },
  "varInspector": {
   "cols": {
    "lenName": 16,
    "lenType": 16,
    "lenVar": 40
   },
   "kernels_config": {
    "python": {
     "delete_cmd_postfix": "",
     "delete_cmd_prefix": "del ",
     "library": "var_list.py",
     "varRefreshCmd": "print(var_dic_list())"
    },
    "r": {
     "delete_cmd_postfix": ") ",
     "delete_cmd_prefix": "rm(",
     "library": "var_list.r",
     "varRefreshCmd": "cat(var_dic_list()) "
    }
   },
   "types_to_exclude": [
    "module",
    "function",
    "builtin_function_or_method",
    "instance",
    "_Feature"
   ],
   "window_display": false
  }
 },
 "nbformat": 4,
 "nbformat_minor": 2
}
