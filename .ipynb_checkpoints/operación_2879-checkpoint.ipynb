{
 "cells": [
  {
   "cell_type": "markdown",
   "metadata": {},
   "source": [
    "# Verifica Operación IRS (2879)"
   ]
  },
  {
   "cell_type": "code",
   "execution_count": 1,
   "metadata": {},
   "outputs": [],
   "source": [
    "from finrisk import QC_Financial_3 as Qcf\n",
    "import pandas as pd"
   ]
  },
  {
   "cell_type": "markdown",
   "metadata": {},
   "source": [
    "Para el formateo de los dataframes."
   ]
  },
  {
   "cell_type": "code",
   "execution_count": 2,
   "metadata": {},
   "outputs": [],
   "source": [
    "format_dict = {'nominal': '{0:,.2f}', 'amort': '{0:,.2f}', 'interes': '{0:,.2f}', 'flujo': '{0:,.2f}', 'amortizacion': '{0:,.2f}',\n",
    "               'icp_inicial': '{0:,.2f}', 'icp_final': '{0:,.2f}',\n",
    "               'valor_tasa': '{0:,.4%}', 'spread': '{0:,.4%}', 'gearing': '{0:,.2f}',\n",
    "               'amort_moneda_pago': '{0:,.2f}', 'interes_moneda_pago': '{0:,.2f}', 'valor_indice_fx': '{0:,.2f}'}"
   ]
  },
  {
   "cell_type": "markdown",
   "metadata": {},
   "source": [
    "## Curvas"
   ]
  },
  {
   "cell_type": "markdown",
   "metadata": {},
   "source": [
    "Se requiere una fracción año, un factor de capitalación y un objeto tasa de interés."
   ]
  },
  {
   "cell_type": "code",
   "execution_count": 3,
   "metadata": {},
   "outputs": [],
   "source": [
    "yf = Qcf.QCAct360()\n",
    "wf = Qcf.QCLinearWf()\n",
    "tasa = Qcf.QCInterestRate(.01, yf, wf)"
   ]
  },
  {
   "cell_type": "code",
   "execution_count": 4,
   "metadata": {},
   "outputs": [
    {
     "data": {
      "text/html": [
       "<style  type=\"text/css\" >\n",
       "</style><table id=\"T_dc889934_3d67_11ea_8142_acde48001122\" ><thead>    <tr>        <th class=\"blank level0\" ></th>        <th class=\"col_heading level0 col0\" >curva</th>        <th class=\"col_heading level0 col1\" >fecha</th>        <th class=\"col_heading level0 col2\" >plazo</th>        <th class=\"col_heading level0 col3\" >tasa</th>    </tr></thead><tbody>\n",
       "                <tr>\n",
       "                        <th id=\"T_dc889934_3d67_11ea_8142_acde48001122level0_row0\" class=\"row_heading level0 row0\" >0</th>\n",
       "                        <td id=\"T_dc889934_3d67_11ea_8142_acde48001122row0_col0\" class=\"data row0 col0\" >LIBORUSD3MBBG</td>\n",
       "                        <td id=\"T_dc889934_3d67_11ea_8142_acde48001122row0_col1\" class=\"data row0 col1\" >2020-01-22 00:00:00</td>\n",
       "                        <td id=\"T_dc889934_3d67_11ea_8142_acde48001122row0_col2\" class=\"data row0 col2\" >3</td>\n",
       "                        <td id=\"T_dc889934_3d67_11ea_8142_acde48001122row0_col3\" class=\"data row0 col3\" >1.5362%</td>\n",
       "            </tr>\n",
       "            <tr>\n",
       "                        <th id=\"T_dc889934_3d67_11ea_8142_acde48001122level0_row1\" class=\"row_heading level0 row1\" >1</th>\n",
       "                        <td id=\"T_dc889934_3d67_11ea_8142_acde48001122row1_col0\" class=\"data row1 col0\" >LIBORUSD3MBBG</td>\n",
       "                        <td id=\"T_dc889934_3d67_11ea_8142_acde48001122row1_col1\" class=\"data row1 col1\" >2020-01-22 00:00:00</td>\n",
       "                        <td id=\"T_dc889934_3d67_11ea_8142_acde48001122row1_col2\" class=\"data row1 col2\" >4</td>\n",
       "                        <td id=\"T_dc889934_3d67_11ea_8142_acde48001122row1_col3\" class=\"data row1 col3\" >1.1521%</td>\n",
       "            </tr>\n",
       "            <tr>\n",
       "                        <th id=\"T_dc889934_3d67_11ea_8142_acde48001122level0_row2\" class=\"row_heading level0 row2\" >2</th>\n",
       "                        <td id=\"T_dc889934_3d67_11ea_8142_acde48001122row2_col0\" class=\"data row2 col0\" >LIBORUSD3MBBG</td>\n",
       "                        <td id=\"T_dc889934_3d67_11ea_8142_acde48001122row2_col1\" class=\"data row2 col1\" >2020-01-22 00:00:00</td>\n",
       "                        <td id=\"T_dc889934_3d67_11ea_8142_acde48001122row2_col2\" class=\"data row2 col2\" >7</td>\n",
       "                        <td id=\"T_dc889934_3d67_11ea_8142_acde48001122row2_col3\" class=\"data row2 col3\" >1.5536%</td>\n",
       "            </tr>\n",
       "            <tr>\n",
       "                        <th id=\"T_dc889934_3d67_11ea_8142_acde48001122level0_row3\" class=\"row_heading level0 row3\" >3</th>\n",
       "                        <td id=\"T_dc889934_3d67_11ea_8142_acde48001122row3_col0\" class=\"data row3 col0\" >LIBORUSD3MBBG</td>\n",
       "                        <td id=\"T_dc889934_3d67_11ea_8142_acde48001122row3_col1\" class=\"data row3 col1\" >2020-01-22 00:00:00</td>\n",
       "                        <td id=\"T_dc889934_3d67_11ea_8142_acde48001122row3_col2\" class=\"data row3 col2\" >14</td>\n",
       "                        <td id=\"T_dc889934_3d67_11ea_8142_acde48001122row3_col3\" class=\"data row3 col3\" >1.5850%</td>\n",
       "            </tr>\n",
       "            <tr>\n",
       "                        <th id=\"T_dc889934_3d67_11ea_8142_acde48001122level0_row4\" class=\"row_heading level0 row4\" >4</th>\n",
       "                        <td id=\"T_dc889934_3d67_11ea_8142_acde48001122row4_col0\" class=\"data row4 col0\" >LIBORUSD3MBBG</td>\n",
       "                        <td id=\"T_dc889934_3d67_11ea_8142_acde48001122row4_col1\" class=\"data row4 col1\" >2020-01-22 00:00:00</td>\n",
       "                        <td id=\"T_dc889934_3d67_11ea_8142_acde48001122row4_col2\" class=\"data row4 col2\" >31</td>\n",
       "                        <td id=\"T_dc889934_3d67_11ea_8142_acde48001122row4_col3\" class=\"data row4 col3\" >1.6595%</td>\n",
       "            </tr>\n",
       "            <tr>\n",
       "                        <th id=\"T_dc889934_3d67_11ea_8142_acde48001122level0_row5\" class=\"row_heading level0 row5\" >5</th>\n",
       "                        <td id=\"T_dc889934_3d67_11ea_8142_acde48001122row5_col0\" class=\"data row5 col0\" >LIBORUSD3MBBG</td>\n",
       "                        <td id=\"T_dc889934_3d67_11ea_8142_acde48001122row5_col1\" class=\"data row5 col1\" >2020-01-22 00:00:00</td>\n",
       "                        <td id=\"T_dc889934_3d67_11ea_8142_acde48001122row5_col2\" class=\"data row5 col2\" >60</td>\n",
       "                        <td id=\"T_dc889934_3d67_11ea_8142_acde48001122row5_col3\" class=\"data row5 col3\" >1.7698%</td>\n",
       "            </tr>\n",
       "            <tr>\n",
       "                        <th id=\"T_dc889934_3d67_11ea_8142_acde48001122level0_row6\" class=\"row_heading level0 row6\" >6</th>\n",
       "                        <td id=\"T_dc889934_3d67_11ea_8142_acde48001122row6_col0\" class=\"data row6 col0\" >LIBORUSD3MBBG</td>\n",
       "                        <td id=\"T_dc889934_3d67_11ea_8142_acde48001122row6_col1\" class=\"data row6 col1\" >2020-01-22 00:00:00</td>\n",
       "                        <td id=\"T_dc889934_3d67_11ea_8142_acde48001122row6_col2\" class=\"data row6 col2\" >91</td>\n",
       "                        <td id=\"T_dc889934_3d67_11ea_8142_acde48001122row6_col3\" class=\"data row6 col3\" >1.8010%</td>\n",
       "            </tr>\n",
       "            <tr>\n",
       "                        <th id=\"T_dc889934_3d67_11ea_8142_acde48001122level0_row7\" class=\"row_heading level0 row7\" >7</th>\n",
       "                        <td id=\"T_dc889934_3d67_11ea_8142_acde48001122row7_col0\" class=\"data row7 col0\" >LIBORUSD3MBBG</td>\n",
       "                        <td id=\"T_dc889934_3d67_11ea_8142_acde48001122row7_col1\" class=\"data row7 col1\" >2020-01-22 00:00:00</td>\n",
       "                        <td id=\"T_dc889934_3d67_11ea_8142_acde48001122row7_col2\" class=\"data row7 col2\" >123</td>\n",
       "                        <td id=\"T_dc889934_3d67_11ea_8142_acde48001122row7_col3\" class=\"data row7 col3\" >1.7711%</td>\n",
       "            </tr>\n",
       "            <tr>\n",
       "                        <th id=\"T_dc889934_3d67_11ea_8142_acde48001122level0_row8\" class=\"row_heading level0 row8\" >8</th>\n",
       "                        <td id=\"T_dc889934_3d67_11ea_8142_acde48001122row8_col0\" class=\"data row8 col0\" >LIBORUSD3MBBG</td>\n",
       "                        <td id=\"T_dc889934_3d67_11ea_8142_acde48001122row8_col1\" class=\"data row8 col1\" >2020-01-22 00:00:00</td>\n",
       "                        <td id=\"T_dc889934_3d67_11ea_8142_acde48001122row8_col2\" class=\"data row8 col2\" >152</td>\n",
       "                        <td id=\"T_dc889934_3d67_11ea_8142_acde48001122row8_col3\" class=\"data row8 col3\" >1.7542%</td>\n",
       "            </tr>\n",
       "            <tr>\n",
       "                        <th id=\"T_dc889934_3d67_11ea_8142_acde48001122level0_row9\" class=\"row_heading level0 row9\" >9</th>\n",
       "                        <td id=\"T_dc889934_3d67_11ea_8142_acde48001122row9_col0\" class=\"data row9 col0\" >LIBORUSD3MBBG</td>\n",
       "                        <td id=\"T_dc889934_3d67_11ea_8142_acde48001122row9_col1\" class=\"data row9 col1\" >2020-01-22 00:00:00</td>\n",
       "                        <td id=\"T_dc889934_3d67_11ea_8142_acde48001122row9_col2\" class=\"data row9 col2\" >182</td>\n",
       "                        <td id=\"T_dc889934_3d67_11ea_8142_acde48001122row9_col3\" class=\"data row9 col3\" >1.7394%</td>\n",
       "            </tr>\n",
       "            <tr>\n",
       "                        <th id=\"T_dc889934_3d67_11ea_8142_acde48001122level0_row10\" class=\"row_heading level0 row10\" >10</th>\n",
       "                        <td id=\"T_dc889934_3d67_11ea_8142_acde48001122row10_col0\" class=\"data row10 col0\" >LIBORUSD3MBBG</td>\n",
       "                        <td id=\"T_dc889934_3d67_11ea_8142_acde48001122row10_col1\" class=\"data row10 col1\" >2020-01-22 00:00:00</td>\n",
       "                        <td id=\"T_dc889934_3d67_11ea_8142_acde48001122row10_col2\" class=\"data row10 col2\" >213</td>\n",
       "                        <td id=\"T_dc889934_3d67_11ea_8142_acde48001122row10_col3\" class=\"data row10 col3\" >1.7288%</td>\n",
       "            </tr>\n",
       "            <tr>\n",
       "                        <th id=\"T_dc889934_3d67_11ea_8142_acde48001122level0_row11\" class=\"row_heading level0 row11\" >11</th>\n",
       "                        <td id=\"T_dc889934_3d67_11ea_8142_acde48001122row11_col0\" class=\"data row11 col0\" >LIBORUSD3MBBG</td>\n",
       "                        <td id=\"T_dc889934_3d67_11ea_8142_acde48001122row11_col1\" class=\"data row11 col1\" >2020-01-22 00:00:00</td>\n",
       "                        <td id=\"T_dc889934_3d67_11ea_8142_acde48001122row11_col2\" class=\"data row11 col2\" >244</td>\n",
       "                        <td id=\"T_dc889934_3d67_11ea_8142_acde48001122row11_col3\" class=\"data row11 col3\" >1.7183%</td>\n",
       "            </tr>\n",
       "            <tr>\n",
       "                        <th id=\"T_dc889934_3d67_11ea_8142_acde48001122level0_row12\" class=\"row_heading level0 row12\" >12</th>\n",
       "                        <td id=\"T_dc889934_3d67_11ea_8142_acde48001122row12_col0\" class=\"data row12 col0\" >LIBORUSD3MBBG</td>\n",
       "                        <td id=\"T_dc889934_3d67_11ea_8142_acde48001122row12_col1\" class=\"data row12 col1\" >2020-01-22 00:00:00</td>\n",
       "                        <td id=\"T_dc889934_3d67_11ea_8142_acde48001122row12_col2\" class=\"data row12 col2\" >276</td>\n",
       "                        <td id=\"T_dc889934_3d67_11ea_8142_acde48001122row12_col3\" class=\"data row12 col3\" >1.7027%</td>\n",
       "            </tr>\n",
       "            <tr>\n",
       "                        <th id=\"T_dc889934_3d67_11ea_8142_acde48001122level0_row13\" class=\"row_heading level0 row13\" >13</th>\n",
       "                        <td id=\"T_dc889934_3d67_11ea_8142_acde48001122row13_col0\" class=\"data row13 col0\" >LIBORUSD3MBBG</td>\n",
       "                        <td id=\"T_dc889934_3d67_11ea_8142_acde48001122row13_col1\" class=\"data row13 col1\" >2020-01-22 00:00:00</td>\n",
       "                        <td id=\"T_dc889934_3d67_11ea_8142_acde48001122row13_col2\" class=\"data row13 col2\" >305</td>\n",
       "                        <td id=\"T_dc889934_3d67_11ea_8142_acde48001122row13_col3\" class=\"data row13 col3\" >1.6917%</td>\n",
       "            </tr>\n",
       "            <tr>\n",
       "                        <th id=\"T_dc889934_3d67_11ea_8142_acde48001122level0_row14\" class=\"row_heading level0 row14\" >14</th>\n",
       "                        <td id=\"T_dc889934_3d67_11ea_8142_acde48001122row14_col0\" class=\"data row14 col0\" >LIBORUSD3MBBG</td>\n",
       "                        <td id=\"T_dc889934_3d67_11ea_8142_acde48001122row14_col1\" class=\"data row14 col1\" >2020-01-22 00:00:00</td>\n",
       "                        <td id=\"T_dc889934_3d67_11ea_8142_acde48001122row14_col2\" class=\"data row14 col2\" >335</td>\n",
       "                        <td id=\"T_dc889934_3d67_11ea_8142_acde48001122row14_col3\" class=\"data row14 col3\" >1.6820%</td>\n",
       "            </tr>\n",
       "            <tr>\n",
       "                        <th id=\"T_dc889934_3d67_11ea_8142_acde48001122level0_row15\" class=\"row_heading level0 row15\" >15</th>\n",
       "                        <td id=\"T_dc889934_3d67_11ea_8142_acde48001122row15_col0\" class=\"data row15 col0\" >LIBORUSD3MBBG</td>\n",
       "                        <td id=\"T_dc889934_3d67_11ea_8142_acde48001122row15_col1\" class=\"data row15 col1\" >2020-01-22 00:00:00</td>\n",
       "                        <td id=\"T_dc889934_3d67_11ea_8142_acde48001122row15_col2\" class=\"data row15 col2\" >367</td>\n",
       "                        <td id=\"T_dc889934_3d67_11ea_8142_acde48001122row15_col3\" class=\"data row15 col3\" >1.6722%</td>\n",
       "            </tr>\n",
       "            <tr>\n",
       "                        <th id=\"T_dc889934_3d67_11ea_8142_acde48001122level0_row16\" class=\"row_heading level0 row16\" >16</th>\n",
       "                        <td id=\"T_dc889934_3d67_11ea_8142_acde48001122row16_col0\" class=\"data row16 col0\" >LIBORUSD3MBBG</td>\n",
       "                        <td id=\"T_dc889934_3d67_11ea_8142_acde48001122row16_col1\" class=\"data row16 col1\" >2020-01-22 00:00:00</td>\n",
       "                        <td id=\"T_dc889934_3d67_11ea_8142_acde48001122row16_col2\" class=\"data row16 col2\" >549</td>\n",
       "                        <td id=\"T_dc889934_3d67_11ea_8142_acde48001122row16_col3\" class=\"data row16 col3\" >1.6207%</td>\n",
       "            </tr>\n",
       "            <tr>\n",
       "                        <th id=\"T_dc889934_3d67_11ea_8142_acde48001122level0_row17\" class=\"row_heading level0 row17\" >17</th>\n",
       "                        <td id=\"T_dc889934_3d67_11ea_8142_acde48001122row17_col0\" class=\"data row17 col0\" >LIBORUSD3MBBG</td>\n",
       "                        <td id=\"T_dc889934_3d67_11ea_8142_acde48001122row17_col1\" class=\"data row17 col1\" >2020-01-22 00:00:00</td>\n",
       "                        <td id=\"T_dc889934_3d67_11ea_8142_acde48001122row17_col2\" class=\"data row17 col2\" >731</td>\n",
       "                        <td id=\"T_dc889934_3d67_11ea_8142_acde48001122row17_col3\" class=\"data row17 col3\" >1.5947%</td>\n",
       "            </tr>\n",
       "            <tr>\n",
       "                        <th id=\"T_dc889934_3d67_11ea_8142_acde48001122level0_row18\" class=\"row_heading level0 row18\" >18</th>\n",
       "                        <td id=\"T_dc889934_3d67_11ea_8142_acde48001122row18_col0\" class=\"data row18 col0\" >LIBORUSD3MBBG</td>\n",
       "                        <td id=\"T_dc889934_3d67_11ea_8142_acde48001122row18_col1\" class=\"data row18 col1\" >2020-01-22 00:00:00</td>\n",
       "                        <td id=\"T_dc889934_3d67_11ea_8142_acde48001122row18_col2\" class=\"data row18 col2\" >1096</td>\n",
       "                        <td id=\"T_dc889934_3d67_11ea_8142_acde48001122row18_col3\" class=\"data row18 col3\" >1.5788%</td>\n",
       "            </tr>\n",
       "            <tr>\n",
       "                        <th id=\"T_dc889934_3d67_11ea_8142_acde48001122level0_row19\" class=\"row_heading level0 row19\" >19</th>\n",
       "                        <td id=\"T_dc889934_3d67_11ea_8142_acde48001122row19_col0\" class=\"data row19 col0\" >LIBORUSD3MBBG</td>\n",
       "                        <td id=\"T_dc889934_3d67_11ea_8142_acde48001122row19_col1\" class=\"data row19 col1\" >2020-01-22 00:00:00</td>\n",
       "                        <td id=\"T_dc889934_3d67_11ea_8142_acde48001122row19_col2\" class=\"data row19 col2\" >1461</td>\n",
       "                        <td id=\"T_dc889934_3d67_11ea_8142_acde48001122row19_col3\" class=\"data row19 col3\" >1.5906%</td>\n",
       "            </tr>\n",
       "            <tr>\n",
       "                        <th id=\"T_dc889934_3d67_11ea_8142_acde48001122level0_row20\" class=\"row_heading level0 row20\" >20</th>\n",
       "                        <td id=\"T_dc889934_3d67_11ea_8142_acde48001122row20_col0\" class=\"data row20 col0\" >LIBORUSD3MBBG</td>\n",
       "                        <td id=\"T_dc889934_3d67_11ea_8142_acde48001122row20_col1\" class=\"data row20 col1\" >2020-01-22 00:00:00</td>\n",
       "                        <td id=\"T_dc889934_3d67_11ea_8142_acde48001122row20_col2\" class=\"data row20 col2\" >1827</td>\n",
       "                        <td id=\"T_dc889934_3d67_11ea_8142_acde48001122row20_col3\" class=\"data row20 col3\" >1.6190%</td>\n",
       "            </tr>\n",
       "            <tr>\n",
       "                        <th id=\"T_dc889934_3d67_11ea_8142_acde48001122level0_row21\" class=\"row_heading level0 row21\" >21</th>\n",
       "                        <td id=\"T_dc889934_3d67_11ea_8142_acde48001122row21_col0\" class=\"data row21 col0\" >LIBORUSD3MBBG</td>\n",
       "                        <td id=\"T_dc889934_3d67_11ea_8142_acde48001122row21_col1\" class=\"data row21 col1\" >2020-01-22 00:00:00</td>\n",
       "                        <td id=\"T_dc889934_3d67_11ea_8142_acde48001122row21_col2\" class=\"data row21 col2\" >2558</td>\n",
       "                        <td id=\"T_dc889934_3d67_11ea_8142_acde48001122row21_col3\" class=\"data row21 col3\" >1.7028%</td>\n",
       "            </tr>\n",
       "            <tr>\n",
       "                        <th id=\"T_dc889934_3d67_11ea_8142_acde48001122level0_row22\" class=\"row_heading level0 row22\" >22</th>\n",
       "                        <td id=\"T_dc889934_3d67_11ea_8142_acde48001122row22_col0\" class=\"data row22 col0\" >LIBORUSD3MBBG</td>\n",
       "                        <td id=\"T_dc889934_3d67_11ea_8142_acde48001122row22_col1\" class=\"data row22 col1\" >2020-01-22 00:00:00</td>\n",
       "                        <td id=\"T_dc889934_3d67_11ea_8142_acde48001122row22_col2\" class=\"data row22 col2\" >3653</td>\n",
       "                        <td id=\"T_dc889934_3d67_11ea_8142_acde48001122row22_col3\" class=\"data row22 col3\" >1.8533%</td>\n",
       "            </tr>\n",
       "            <tr>\n",
       "                        <th id=\"T_dc889934_3d67_11ea_8142_acde48001122level0_row23\" class=\"row_heading level0 row23\" >23</th>\n",
       "                        <td id=\"T_dc889934_3d67_11ea_8142_acde48001122row23_col0\" class=\"data row23 col0\" >LIBORUSD3MBBG</td>\n",
       "                        <td id=\"T_dc889934_3d67_11ea_8142_acde48001122row23_col1\" class=\"data row23 col1\" >2020-01-22 00:00:00</td>\n",
       "                        <td id=\"T_dc889934_3d67_11ea_8142_acde48001122row23_col2\" class=\"data row23 col2\" >4385</td>\n",
       "                        <td id=\"T_dc889934_3d67_11ea_8142_acde48001122row23_col3\" class=\"data row23 col3\" >1.9547%</td>\n",
       "            </tr>\n",
       "            <tr>\n",
       "                        <th id=\"T_dc889934_3d67_11ea_8142_acde48001122level0_row24\" class=\"row_heading level0 row24\" >24</th>\n",
       "                        <td id=\"T_dc889934_3d67_11ea_8142_acde48001122row24_col0\" class=\"data row24 col0\" >LIBORUSD3MBBG</td>\n",
       "                        <td id=\"T_dc889934_3d67_11ea_8142_acde48001122row24_col1\" class=\"data row24 col1\" >2020-01-22 00:00:00</td>\n",
       "                        <td id=\"T_dc889934_3d67_11ea_8142_acde48001122row24_col2\" class=\"data row24 col2\" >5479</td>\n",
       "                        <td id=\"T_dc889934_3d67_11ea_8142_acde48001122row24_col3\" class=\"data row24 col3\" >2.0893%</td>\n",
       "            </tr>\n",
       "            <tr>\n",
       "                        <th id=\"T_dc889934_3d67_11ea_8142_acde48001122level0_row25\" class=\"row_heading level0 row25\" >25</th>\n",
       "                        <td id=\"T_dc889934_3d67_11ea_8142_acde48001122row25_col0\" class=\"data row25 col0\" >LIBORUSD3MBBG</td>\n",
       "                        <td id=\"T_dc889934_3d67_11ea_8142_acde48001122row25_col1\" class=\"data row25 col1\" >2020-01-22 00:00:00</td>\n",
       "                        <td id=\"T_dc889934_3d67_11ea_8142_acde48001122row25_col2\" class=\"data row25 col2\" >7305</td>\n",
       "                        <td id=\"T_dc889934_3d67_11ea_8142_acde48001122row25_col3\" class=\"data row25 col3\" >2.2831%</td>\n",
       "            </tr>\n",
       "            <tr>\n",
       "                        <th id=\"T_dc889934_3d67_11ea_8142_acde48001122level0_row26\" class=\"row_heading level0 row26\" >26</th>\n",
       "                        <td id=\"T_dc889934_3d67_11ea_8142_acde48001122row26_col0\" class=\"data row26 col0\" >LIBORUSD3MBBG</td>\n",
       "                        <td id=\"T_dc889934_3d67_11ea_8142_acde48001122row26_col1\" class=\"data row26 col1\" >2020-01-22 00:00:00</td>\n",
       "                        <td id=\"T_dc889934_3d67_11ea_8142_acde48001122row26_col2\" class=\"data row26 col2\" >9132</td>\n",
       "                        <td id=\"T_dc889934_3d67_11ea_8142_acde48001122row26_col3\" class=\"data row26 col3\" >2.4306%</td>\n",
       "            </tr>\n",
       "            <tr>\n",
       "                        <th id=\"T_dc889934_3d67_11ea_8142_acde48001122level0_row27\" class=\"row_heading level0 row27\" >27</th>\n",
       "                        <td id=\"T_dc889934_3d67_11ea_8142_acde48001122row27_col0\" class=\"data row27 col0\" >LIBORUSD3MBBG</td>\n",
       "                        <td id=\"T_dc889934_3d67_11ea_8142_acde48001122row27_col1\" class=\"data row27 col1\" >2020-01-22 00:00:00</td>\n",
       "                        <td id=\"T_dc889934_3d67_11ea_8142_acde48001122row27_col2\" class=\"data row27 col2\" >10958</td>\n",
       "                        <td id=\"T_dc889934_3d67_11ea_8142_acde48001122row27_col3\" class=\"data row27 col3\" >2.5576%</td>\n",
       "            </tr>\n",
       "    </tbody></table>"
      ],
      "text/plain": [
       "<pandas.io.formats.style.Styler at 0x11d9ccfd0>"
      ]
     },
     "execution_count": 4,
     "metadata": {},
     "output_type": "execute_result"
    }
   ],
   "source": [
    "curva_libor = pd.read_excel(\"20200122_libor3mbbg.xlsx\")\n",
    "curva_libor.style.format({\"tasa\": \"{0:,.4%}\"})"
   ]
  },
  {
   "cell_type": "markdown",
   "metadata": {},
   "source": [
    "Se da de alta un vector con los plazos (variable de tipo `long`) y un vector con las tasas (variable de tipo `double`)."
   ]
  },
  {
   "cell_type": "code",
   "execution_count": 5,
   "metadata": {},
   "outputs": [],
   "source": [
    "lvec2 = Qcf.long_vec()\n",
    "vec2 = Qcf.double_vec()\n",
    "for index, row in curva_libor.iterrows():\n",
    "    lvec2.append(int(row['plazo']))\n",
    "    vec2.append(row['tasa'])\n",
    "\n",
    "zcc2 = Qcf.QCCurve(lvec2, vec2)\n",
    "lin2 = Qcf.QCLinearInterpolator(zcc2)\n",
    "zz2 = Qcf.ZeroCouponCurve(lin2, tasa)"
   ]
  },
  {
   "cell_type": "markdown",
   "metadata": {},
   "source": [
    "#### Curvas para Sensibilidad"
   ]
  },
  {
   "cell_type": "markdown",
   "metadata": {},
   "source": [
    "Se define que vértice de la curva se quiere desplazar."
   ]
  },
  {
   "cell_type": "code",
   "execution_count": 6,
   "metadata": {},
   "outputs": [],
   "source": [
    "vertice = 13"
   ]
  },
  {
   "cell_type": "markdown",
   "metadata": {},
   "source": [
    "Se construyen las curvas con ese vértice 1 punto básico más arriba y 1 punto básico más abajo."
   ]
  },
  {
   "cell_type": "code",
   "execution_count": 7,
   "metadata": {},
   "outputs": [],
   "source": [
    "bp = .0001\n",
    "vec2_sens_up = Qcf.double_vec()\n",
    "vec2_sens_down = Qcf.double_vec()\n",
    "for index, row in curva_libor.iterrows():\n",
    "    if index == vertice:\n",
    "        vec2_sens_up.append(row['tasa'] + bp)\n",
    "        vec2_sens_down.append(row['tasa'] - bp)\n",
    "    else:\n",
    "        vec2_sens_up.append(row['tasa'])\n",
    "        vec2_sens_down.append(row['tasa'])\n",
    "\n",
    "zcc2_sens_up = Qcf.QCCurve(lvec2, vec2_sens_up)\n",
    "lin2_sens_up = Qcf.QCLinearInterpolator(zcc2_sens_up)\n",
    "zz2_sens_up = Qcf.ZeroCouponCurve(lin2_sens_up, tasa)\n",
    "\n",
    "zcc2_sens_down = Qcf.QCCurve(lvec2, vec2_sens_down)\n",
    "lin2_sens_down = Qcf.QCLinearInterpolator(zcc2_sens_down)\n",
    "zz2_sens_down = Qcf.ZeroCouponCurve(lin2_sens_down, tasa)"
   ]
  },
  {
   "cell_type": "markdown",
   "metadata": {},
   "source": [
    "## Fixed Rate Leg"
   ]
  },
  {
   "cell_type": "markdown",
   "metadata": {},
   "source": [
    "Se da de alta la pata fija:"
   ]
  },
  {
   "cell_type": "code",
   "execution_count": 8,
   "metadata": {},
   "outputs": [],
   "source": [
    "# Se da de alta los parámetros requeridos\n",
    "rp = Qcf.RecPay.RECEIVE\n",
    "fecha_inicio = Qcf.QCDate(12, 11, 2019)\n",
    "fecha_final = Qcf.QCDate(12, 11, 2020)\n",
    "bus_adj_rule = Qcf.BusyAdjRules.MODFOLLOW\n",
    "periodicidad = Qcf.Tenor('6M')\n",
    "periodo_irregular = Qcf.StubPeriod.SHORTFRONT\n",
    "calendario = Qcf.BusinessCalendar(fecha_inicio, 20)\n",
    "lag_pago = 0\n",
    "nominal = 20000000.0\n",
    "amort_es_flujo = True\n",
    "valor_tasa_fija = .01774\n",
    "tasa_cupon = Qcf.QCInterestRate(\n",
    "    valor_tasa_fija, Qcf.QC30360(), Qcf.QCLinearWf())\n",
    "moneda = Qcf.QCUSD()\n",
    "es_bono = False\n",
    "\n",
    "# Se da de alta el objeto\n",
    "fixed_rate_leg = Qcf.LegFactory.build_bullet_fixed_rate_leg(rp,\n",
    "                                                            fecha_inicio,\n",
    "                                                            fecha_final,\n",
    "                                                            bus_adj_rule,\n",
    "                                                            periodicidad,\n",
    "                                                            periodo_irregular,\n",
    "                                                            calendario,\n",
    "                                                            lag_pago,\n",
    "                                                            nominal,\n",
    "                                                            amort_es_flujo,\n",
    "                                                            tasa_cupon,\n",
    "                                                            moneda,\n",
    "                                                            es_bono)"
   ]
  },
  {
   "cell_type": "code",
   "execution_count": 9,
   "metadata": {},
   "outputs": [
    {
     "data": {
      "text/html": [
       "<style  type=\"text/css\" >\n",
       "</style><table id=\"T_dc8fdaa0_3d67_11ea_8142_acde48001122\" ><thead>    <tr>        <th class=\"blank level0\" ></th>        <th class=\"col_heading level0 col0\" >fecha_inicial</th>        <th class=\"col_heading level0 col1\" >fecha_final</th>        <th class=\"col_heading level0 col2\" >fecha_pago</th>        <th class=\"col_heading level0 col3\" >nominal</th>        <th class=\"col_heading level0 col4\" >amortizacion</th>        <th class=\"col_heading level0 col5\" >interes</th>        <th class=\"col_heading level0 col6\" >amort_es_flujo</th>        <th class=\"col_heading level0 col7\" >flujo</th>        <th class=\"col_heading level0 col8\" >moneda</th>        <th class=\"col_heading level0 col9\" >valor_tasa</th>        <th class=\"col_heading level0 col10\" >tipo_tasa</th>    </tr></thead><tbody>\n",
       "                <tr>\n",
       "                        <th id=\"T_dc8fdaa0_3d67_11ea_8142_acde48001122level0_row0\" class=\"row_heading level0 row0\" >0</th>\n",
       "                        <td id=\"T_dc8fdaa0_3d67_11ea_8142_acde48001122row0_col0\" class=\"data row0 col0\" >2019-11-12</td>\n",
       "                        <td id=\"T_dc8fdaa0_3d67_11ea_8142_acde48001122row0_col1\" class=\"data row0 col1\" >2020-05-12</td>\n",
       "                        <td id=\"T_dc8fdaa0_3d67_11ea_8142_acde48001122row0_col2\" class=\"data row0 col2\" >2020-05-12</td>\n",
       "                        <td id=\"T_dc8fdaa0_3d67_11ea_8142_acde48001122row0_col3\" class=\"data row0 col3\" >20,000,000.00</td>\n",
       "                        <td id=\"T_dc8fdaa0_3d67_11ea_8142_acde48001122row0_col4\" class=\"data row0 col4\" >0.00</td>\n",
       "                        <td id=\"T_dc8fdaa0_3d67_11ea_8142_acde48001122row0_col5\" class=\"data row0 col5\" >177,400.00</td>\n",
       "                        <td id=\"T_dc8fdaa0_3d67_11ea_8142_acde48001122row0_col6\" class=\"data row0 col6\" >True</td>\n",
       "                        <td id=\"T_dc8fdaa0_3d67_11ea_8142_acde48001122row0_col7\" class=\"data row0 col7\" >177,400.00</td>\n",
       "                        <td id=\"T_dc8fdaa0_3d67_11ea_8142_acde48001122row0_col8\" class=\"data row0 col8\" >USD</td>\n",
       "                        <td id=\"T_dc8fdaa0_3d67_11ea_8142_acde48001122row0_col9\" class=\"data row0 col9\" >1.7740%</td>\n",
       "                        <td id=\"T_dc8fdaa0_3d67_11ea_8142_acde48001122row0_col10\" class=\"data row0 col10\" >Lin30360</td>\n",
       "            </tr>\n",
       "            <tr>\n",
       "                        <th id=\"T_dc8fdaa0_3d67_11ea_8142_acde48001122level0_row1\" class=\"row_heading level0 row1\" >1</th>\n",
       "                        <td id=\"T_dc8fdaa0_3d67_11ea_8142_acde48001122row1_col0\" class=\"data row1 col0\" >2020-05-12</td>\n",
       "                        <td id=\"T_dc8fdaa0_3d67_11ea_8142_acde48001122row1_col1\" class=\"data row1 col1\" >2020-11-12</td>\n",
       "                        <td id=\"T_dc8fdaa0_3d67_11ea_8142_acde48001122row1_col2\" class=\"data row1 col2\" >2020-11-12</td>\n",
       "                        <td id=\"T_dc8fdaa0_3d67_11ea_8142_acde48001122row1_col3\" class=\"data row1 col3\" >20,000,000.00</td>\n",
       "                        <td id=\"T_dc8fdaa0_3d67_11ea_8142_acde48001122row1_col4\" class=\"data row1 col4\" >20,000,000.00</td>\n",
       "                        <td id=\"T_dc8fdaa0_3d67_11ea_8142_acde48001122row1_col5\" class=\"data row1 col5\" >177,400.00</td>\n",
       "                        <td id=\"T_dc8fdaa0_3d67_11ea_8142_acde48001122row1_col6\" class=\"data row1 col6\" >True</td>\n",
       "                        <td id=\"T_dc8fdaa0_3d67_11ea_8142_acde48001122row1_col7\" class=\"data row1 col7\" >20,177,400.00</td>\n",
       "                        <td id=\"T_dc8fdaa0_3d67_11ea_8142_acde48001122row1_col8\" class=\"data row1 col8\" >USD</td>\n",
       "                        <td id=\"T_dc8fdaa0_3d67_11ea_8142_acde48001122row1_col9\" class=\"data row1 col9\" >1.7740%</td>\n",
       "                        <td id=\"T_dc8fdaa0_3d67_11ea_8142_acde48001122row1_col10\" class=\"data row1 col10\" >Lin30360</td>\n",
       "            </tr>\n",
       "    </tbody></table>"
      ],
      "text/plain": [
       "<pandas.io.formats.style.Styler at 0x11de329d0>"
      ]
     },
     "execution_count": 9,
     "metadata": {},
     "output_type": "execute_result"
    }
   ],
   "source": [
    "# Se define un list donde almacenar los resultados de la función show\n",
    "tabla = []\n",
    "for i in range(0, fixed_rate_leg.size()):\n",
    "    tabla.append(Qcf.show(fixed_rate_leg.get_cashflow_at(i)))\n",
    "\n",
    "# Se utiliza tabla para inicializar el Dataframe\n",
    "columnas = list(Qcf.get_column_names(\"FixedRateCashflow\", \"\"))\n",
    "df = pd.DataFrame(tabla, columns=columnas)\n",
    "\n",
    "# Se despliega la data en este formato\n",
    "df.style.format(format_dict)"
   ]
  },
  {
   "cell_type": "markdown",
   "metadata": {},
   "source": [
    "Se calcula ahora el valor presente:"
   ]
  },
  {
   "cell_type": "code",
   "execution_count": 10,
   "metadata": {},
   "outputs": [],
   "source": [
    "pv = Qcf.PresentValue()"
   ]
  },
  {
   "cell_type": "code",
   "execution_count": 11,
   "metadata": {},
   "outputs": [
    {
     "name": "stdout",
     "output_type": "stream",
     "text": [
      "Valor presente de la pata fija es: 20,077,333\n"
     ]
    }
   ],
   "source": [
    "fecha_hoy = Qcf.QCDate(22, 1, 2020)\n",
    "vp_fija = pv.pv(fecha_hoy, fixed_rate_leg, zz2)\n",
    "print(\"Valor presente de la pata fija es: {0:,.0f}\".format(vp_fija))"
   ]
  },
  {
   "cell_type": "markdown",
   "metadata": {},
   "source": [
    "Al calcular el valor presente, también se calculan las derivadas del valor presente respecto a cada uno de los vértices de la curva."
   ]
  },
  {
   "cell_type": "code",
   "execution_count": 12,
   "metadata": {},
   "outputs": [],
   "source": [
    "der = pv.get_derivatives()"
   ]
  },
  {
   "cell_type": "markdown",
   "metadata": {},
   "source": [
    "Con esas derivadas, se puede calcular la sensibilidad a la curva cupón cero a un movimiento de 1 punto básico."
   ]
  },
  {
   "cell_type": "code",
   "execution_count": 13,
   "metadata": {},
   "outputs": [
    {
     "name": "stdout",
     "output_type": "stream",
     "text": [
      "Sensibilidad en 0: 0\n",
      "Sensibilidad en 1: 0\n",
      "Sensibilidad en 2: 0\n",
      "Sensibilidad en 3: 0\n",
      "Sensibilidad en 4: 0\n",
      "Sensibilidad en 5: 0\n",
      "Sensibilidad en 6: -2\n",
      "Sensibilidad en 7: -3\n",
      "Sensibilidad en 8: 0\n",
      "Sensibilidad en 9: 0\n",
      "Sensibilidad en 10: 0\n",
      "Sensibilidad en 11: 0\n",
      "Sensibilidad en 12: -555\n",
      "Sensibilidad en 13: -1,054\n",
      "Sensibilidad en 14: 0\n",
      "Sensibilidad en 15: 0\n",
      "Sensibilidad en 16: 0\n",
      "Sensibilidad en 17: 0\n",
      "Sensibilidad en 18: 0\n",
      "Sensibilidad en 19: 0\n",
      "Sensibilidad en 20: 0\n",
      "Sensibilidad en 21: 0\n",
      "Sensibilidad en 22: 0\n",
      "Sensibilidad en 23: 0\n",
      "Sensibilidad en 24: 0\n",
      "Sensibilidad en 25: 0\n",
      "Sensibilidad en 26: 0\n",
      "Sensibilidad en 27: 0\n",
      "Sensibilidad total: -1,614\n"
     ]
    }
   ],
   "source": [
    "i = 0\n",
    "bp = .0001\n",
    "total = 0\n",
    "for d in der:\n",
    "    total += d * bp\n",
    "    print(\"Sensibilidad en {0:}: {1:0,.0f}\".format(i, d * bp))\n",
    "    i += 1\n",
    "print(\"Sensibilidad total: {0:,.0f}\".format(total))"
   ]
  },
  {
   "cell_type": "markdown",
   "metadata": {},
   "source": [
    "Se puede verificar la sensibilidad por diferencias finitas."
   ]
  },
  {
   "cell_type": "markdown",
   "metadata": {},
   "source": [
    "Se calcula el valor presente con las curvas desplazadas."
   ]
  },
  {
   "cell_type": "code",
   "execution_count": 14,
   "metadata": {},
   "outputs": [
    {
     "name": "stdout",
     "output_type": "stream",
     "text": [
      "Valor presente up de la pata fija es: 20,076,279\n",
      "Valor presente down de la pata fija es: 20,078,387\n"
     ]
    }
   ],
   "source": [
    "vp_fija_sens_up = pv.pv(fecha_hoy, fixed_rate_leg, zz2_sens_up)\n",
    "vp_fija_sens_down = pv.pv(fecha_hoy, fixed_rate_leg, zz2_sens_down)\n",
    "print(\"Valor presente up de la pata fija es: {0:,.0f}\".format(vp_fija_sens_up))\n",
    "print(\"Valor presente down de la pata fija es: {0:,.0f}\".format(\n",
    "    vp_fija_sens_down))"
   ]
  },
  {
   "cell_type": "markdown",
   "metadata": {},
   "source": [
    "Finalmente, se calcula la sensibilidad (usando la aproximación central por diferencias finitas)."
   ]
  },
  {
   "cell_type": "code",
   "execution_count": 15,
   "metadata": {},
   "outputs": [
    {
     "name": "stdout",
     "output_type": "stream",
     "text": [
      "Sensibilidad por diferencias finitas: -1,054\n"
     ]
    }
   ],
   "source": [
    "print(\"Sensibilidad por diferencias finitas: {0:,.0f}\".format(\n",
    "    (vp_fija_sens_up - vp_fija_sens_down) / 2))"
   ]
  },
  {
   "cell_type": "markdown",
   "metadata": {},
   "source": [
    "Tanto el VP como la sensibilidad coinciden con lo que muestra FD en la pata fija de la operación 2879."
   ]
  },
  {
   "cell_type": "markdown",
   "metadata": {},
   "source": [
    "## Floating Rate Leg"
   ]
  },
  {
   "cell_type": "code",
   "execution_count": 16,
   "metadata": {},
   "outputs": [],
   "source": [
    "### Se da de alta los parámetros requeridos\n",
    "rp = Qcf.RecPay.RECEIVE\n",
    "fecha_inicio = Qcf.QCDate(12, 11, 2019)\n",
    "fecha_final = Qcf.QCDate(12, 11, 2020)\n",
    "bus_adj_rule = Qcf.BusyAdjRules.MODFOLLOW\n",
    "periodicidad_pago = Qcf.Tenor('3M')\n",
    "periodo_irregular_pago = Qcf.StubPeriod.NO\n",
    "calendario = Qcf.BusinessCalendar(fecha_inicio, 20)\n",
    "lag_pago = 0\n",
    "periodicidad_fijacion = Qcf.Tenor('3M')\n",
    "periodo_irregular_fijacion = Qcf.StubPeriod.NO\n",
    "\n",
    "# vamos a usar el mismo calendario para pago y fijaciones\n",
    "lag_de_fijacion = 2\n",
    "\n",
    "# Definición del índice\n",
    "codigo = 'LIBORUSD3M'\n",
    "lin_act360 = Qcf.QCInterestRate(.0, Qcf.QCAct360(), Qcf.QCLinearWf())\n",
    "fixing_lag = Qcf.Tenor('2d')\n",
    "tenor = Qcf.Tenor('3m')\n",
    "fixing_calendar = calendario\n",
    "settlement_calendar = calendario\n",
    "usd = Qcf.QCUSD()\n",
    "libor_usd_3m = Qcf.InterestRateIndex(codigo,\n",
    "                                     lin_act360,\n",
    "                                     fixing_lag,\n",
    "                                     tenor,\n",
    "                                     fixing_calendar,\n",
    "                                     settlement_calendar,\n",
    "                                     usd)\n",
    "# Fin índice\n",
    "\n",
    "nominal = 20000000.0\n",
    "amort_es_flujo = True\n",
    "moneda = usd\n",
    "spread = .0\n",
    "gearing = 1.0\n",
    "\n",
    "# Es la op 2879 en FD\n",
    "ibor_leg = Qcf.LegFactory.build_bullet_ibor2_leg(rp, fecha_inicio, fecha_final, bus_adj_rule, periodicidad_pago,\n",
    "                                                 periodo_irregular_pago, calendario, lag_pago,\n",
    "                                                 periodicidad_fijacion, periodo_irregular_fijacion,\n",
    "                                                 calendario, lag_de_fijacion, libor_usd_3m,\n",
    "                                                 nominal, amort_es_flujo, moneda, spread, gearing)"
   ]
  },
  {
   "cell_type": "code",
   "execution_count": 17,
   "metadata": {},
   "outputs": [
    {
     "data": {
      "text/html": [
       "<style  type=\"text/css\" >\n",
       "</style><table id=\"T_dc97dc50_3d67_11ea_8142_acde48001122\" ><thead>    <tr>        <th class=\"blank level0\" ></th>        <th class=\"col_heading level0 col0\" >fecha_inicial</th>        <th class=\"col_heading level0 col1\" >fecha__final</th>        <th class=\"col_heading level0 col2\" >fecha_fixing</th>        <th class=\"col_heading level0 col3\" >fecha__pago</th>        <th class=\"col_heading level0 col4\" >nominal</th>        <th class=\"col_heading level0 col5\" >amort</th>        <th class=\"col_heading level0 col6\" >interes</th>        <th class=\"col_heading level0 col7\" >amort_es_flujo</th>        <th class=\"col_heading level0 col8\" >flujo</th>        <th class=\"col_heading level0 col9\" >moneda</th>        <th class=\"col_heading level0 col10\" >codigo_indice</th>        <th class=\"col_heading level0 col11\" >valor_tasa</th>        <th class=\"col_heading level0 col12\" >spread</th>        <th class=\"col_heading level0 col13\" >gearing</th>        <th class=\"col_heading level0 col14\" >tipo_tasa</th>    </tr></thead><tbody>\n",
       "                <tr>\n",
       "                        <th id=\"T_dc97dc50_3d67_11ea_8142_acde48001122level0_row0\" class=\"row_heading level0 row0\" >0</th>\n",
       "                        <td id=\"T_dc97dc50_3d67_11ea_8142_acde48001122row0_col0\" class=\"data row0 col0\" >2019-11-12</td>\n",
       "                        <td id=\"T_dc97dc50_3d67_11ea_8142_acde48001122row0_col1\" class=\"data row0 col1\" >2020-02-12</td>\n",
       "                        <td id=\"T_dc97dc50_3d67_11ea_8142_acde48001122row0_col2\" class=\"data row0 col2\" >2019-11-08</td>\n",
       "                        <td id=\"T_dc97dc50_3d67_11ea_8142_acde48001122row0_col3\" class=\"data row0 col3\" >2020-02-12</td>\n",
       "                        <td id=\"T_dc97dc50_3d67_11ea_8142_acde48001122row0_col4\" class=\"data row0 col4\" >20,000,000.00</td>\n",
       "                        <td id=\"T_dc97dc50_3d67_11ea_8142_acde48001122row0_col5\" class=\"data row0 col5\" >0.00</td>\n",
       "                        <td id=\"T_dc97dc50_3d67_11ea_8142_acde48001122row0_col6\" class=\"data row0 col6\" >0.00</td>\n",
       "                        <td id=\"T_dc97dc50_3d67_11ea_8142_acde48001122row0_col7\" class=\"data row0 col7\" >True</td>\n",
       "                        <td id=\"T_dc97dc50_3d67_11ea_8142_acde48001122row0_col8\" class=\"data row0 col8\" >0.00</td>\n",
       "                        <td id=\"T_dc97dc50_3d67_11ea_8142_acde48001122row0_col9\" class=\"data row0 col9\" >USD</td>\n",
       "                        <td id=\"T_dc97dc50_3d67_11ea_8142_acde48001122row0_col10\" class=\"data row0 col10\" >LIBORUSD3M</td>\n",
       "                        <td id=\"T_dc97dc50_3d67_11ea_8142_acde48001122row0_col11\" class=\"data row0 col11\" >0.0000%</td>\n",
       "                        <td id=\"T_dc97dc50_3d67_11ea_8142_acde48001122row0_col12\" class=\"data row0 col12\" >0.0000%</td>\n",
       "                        <td id=\"T_dc97dc50_3d67_11ea_8142_acde48001122row0_col13\" class=\"data row0 col13\" >1.00</td>\n",
       "                        <td id=\"T_dc97dc50_3d67_11ea_8142_acde48001122row0_col14\" class=\"data row0 col14\" >LinAct360</td>\n",
       "            </tr>\n",
       "            <tr>\n",
       "                        <th id=\"T_dc97dc50_3d67_11ea_8142_acde48001122level0_row1\" class=\"row_heading level0 row1\" >1</th>\n",
       "                        <td id=\"T_dc97dc50_3d67_11ea_8142_acde48001122row1_col0\" class=\"data row1 col0\" >2020-02-12</td>\n",
       "                        <td id=\"T_dc97dc50_3d67_11ea_8142_acde48001122row1_col1\" class=\"data row1 col1\" >2020-05-12</td>\n",
       "                        <td id=\"T_dc97dc50_3d67_11ea_8142_acde48001122row1_col2\" class=\"data row1 col2\" >2020-02-10</td>\n",
       "                        <td id=\"T_dc97dc50_3d67_11ea_8142_acde48001122row1_col3\" class=\"data row1 col3\" >2020-05-12</td>\n",
       "                        <td id=\"T_dc97dc50_3d67_11ea_8142_acde48001122row1_col4\" class=\"data row1 col4\" >20,000,000.00</td>\n",
       "                        <td id=\"T_dc97dc50_3d67_11ea_8142_acde48001122row1_col5\" class=\"data row1 col5\" >0.00</td>\n",
       "                        <td id=\"T_dc97dc50_3d67_11ea_8142_acde48001122row1_col6\" class=\"data row1 col6\" >0.00</td>\n",
       "                        <td id=\"T_dc97dc50_3d67_11ea_8142_acde48001122row1_col7\" class=\"data row1 col7\" >True</td>\n",
       "                        <td id=\"T_dc97dc50_3d67_11ea_8142_acde48001122row1_col8\" class=\"data row1 col8\" >0.00</td>\n",
       "                        <td id=\"T_dc97dc50_3d67_11ea_8142_acde48001122row1_col9\" class=\"data row1 col9\" >USD</td>\n",
       "                        <td id=\"T_dc97dc50_3d67_11ea_8142_acde48001122row1_col10\" class=\"data row1 col10\" >LIBORUSD3M</td>\n",
       "                        <td id=\"T_dc97dc50_3d67_11ea_8142_acde48001122row1_col11\" class=\"data row1 col11\" >0.0000%</td>\n",
       "                        <td id=\"T_dc97dc50_3d67_11ea_8142_acde48001122row1_col12\" class=\"data row1 col12\" >0.0000%</td>\n",
       "                        <td id=\"T_dc97dc50_3d67_11ea_8142_acde48001122row1_col13\" class=\"data row1 col13\" >1.00</td>\n",
       "                        <td id=\"T_dc97dc50_3d67_11ea_8142_acde48001122row1_col14\" class=\"data row1 col14\" >LinAct360</td>\n",
       "            </tr>\n",
       "            <tr>\n",
       "                        <th id=\"T_dc97dc50_3d67_11ea_8142_acde48001122level0_row2\" class=\"row_heading level0 row2\" >2</th>\n",
       "                        <td id=\"T_dc97dc50_3d67_11ea_8142_acde48001122row2_col0\" class=\"data row2 col0\" >2020-05-12</td>\n",
       "                        <td id=\"T_dc97dc50_3d67_11ea_8142_acde48001122row2_col1\" class=\"data row2 col1\" >2020-08-12</td>\n",
       "                        <td id=\"T_dc97dc50_3d67_11ea_8142_acde48001122row2_col2\" class=\"data row2 col2\" >2020-05-08</td>\n",
       "                        <td id=\"T_dc97dc50_3d67_11ea_8142_acde48001122row2_col3\" class=\"data row2 col3\" >2020-08-12</td>\n",
       "                        <td id=\"T_dc97dc50_3d67_11ea_8142_acde48001122row2_col4\" class=\"data row2 col4\" >20,000,000.00</td>\n",
       "                        <td id=\"T_dc97dc50_3d67_11ea_8142_acde48001122row2_col5\" class=\"data row2 col5\" >0.00</td>\n",
       "                        <td id=\"T_dc97dc50_3d67_11ea_8142_acde48001122row2_col6\" class=\"data row2 col6\" >0.00</td>\n",
       "                        <td id=\"T_dc97dc50_3d67_11ea_8142_acde48001122row2_col7\" class=\"data row2 col7\" >True</td>\n",
       "                        <td id=\"T_dc97dc50_3d67_11ea_8142_acde48001122row2_col8\" class=\"data row2 col8\" >0.00</td>\n",
       "                        <td id=\"T_dc97dc50_3d67_11ea_8142_acde48001122row2_col9\" class=\"data row2 col9\" >USD</td>\n",
       "                        <td id=\"T_dc97dc50_3d67_11ea_8142_acde48001122row2_col10\" class=\"data row2 col10\" >LIBORUSD3M</td>\n",
       "                        <td id=\"T_dc97dc50_3d67_11ea_8142_acde48001122row2_col11\" class=\"data row2 col11\" >0.0000%</td>\n",
       "                        <td id=\"T_dc97dc50_3d67_11ea_8142_acde48001122row2_col12\" class=\"data row2 col12\" >0.0000%</td>\n",
       "                        <td id=\"T_dc97dc50_3d67_11ea_8142_acde48001122row2_col13\" class=\"data row2 col13\" >1.00</td>\n",
       "                        <td id=\"T_dc97dc50_3d67_11ea_8142_acde48001122row2_col14\" class=\"data row2 col14\" >LinAct360</td>\n",
       "            </tr>\n",
       "            <tr>\n",
       "                        <th id=\"T_dc97dc50_3d67_11ea_8142_acde48001122level0_row3\" class=\"row_heading level0 row3\" >3</th>\n",
       "                        <td id=\"T_dc97dc50_3d67_11ea_8142_acde48001122row3_col0\" class=\"data row3 col0\" >2020-08-12</td>\n",
       "                        <td id=\"T_dc97dc50_3d67_11ea_8142_acde48001122row3_col1\" class=\"data row3 col1\" >2020-11-12</td>\n",
       "                        <td id=\"T_dc97dc50_3d67_11ea_8142_acde48001122row3_col2\" class=\"data row3 col2\" >2020-08-10</td>\n",
       "                        <td id=\"T_dc97dc50_3d67_11ea_8142_acde48001122row3_col3\" class=\"data row3 col3\" >2020-11-12</td>\n",
       "                        <td id=\"T_dc97dc50_3d67_11ea_8142_acde48001122row3_col4\" class=\"data row3 col4\" >20,000,000.00</td>\n",
       "                        <td id=\"T_dc97dc50_3d67_11ea_8142_acde48001122row3_col5\" class=\"data row3 col5\" >20,000,000.00</td>\n",
       "                        <td id=\"T_dc97dc50_3d67_11ea_8142_acde48001122row3_col6\" class=\"data row3 col6\" >0.00</td>\n",
       "                        <td id=\"T_dc97dc50_3d67_11ea_8142_acde48001122row3_col7\" class=\"data row3 col7\" >True</td>\n",
       "                        <td id=\"T_dc97dc50_3d67_11ea_8142_acde48001122row3_col8\" class=\"data row3 col8\" >20,000,000.00</td>\n",
       "                        <td id=\"T_dc97dc50_3d67_11ea_8142_acde48001122row3_col9\" class=\"data row3 col9\" >USD</td>\n",
       "                        <td id=\"T_dc97dc50_3d67_11ea_8142_acde48001122row3_col10\" class=\"data row3 col10\" >LIBORUSD3M</td>\n",
       "                        <td id=\"T_dc97dc50_3d67_11ea_8142_acde48001122row3_col11\" class=\"data row3 col11\" >0.0000%</td>\n",
       "                        <td id=\"T_dc97dc50_3d67_11ea_8142_acde48001122row3_col12\" class=\"data row3 col12\" >0.0000%</td>\n",
       "                        <td id=\"T_dc97dc50_3d67_11ea_8142_acde48001122row3_col13\" class=\"data row3 col13\" >1.00</td>\n",
       "                        <td id=\"T_dc97dc50_3d67_11ea_8142_acde48001122row3_col14\" class=\"data row3 col14\" >LinAct360</td>\n",
       "            </tr>\n",
       "    </tbody></table>"
      ],
      "text/plain": [
       "<pandas.io.formats.style.Styler at 0x11e0f4910>"
      ]
     },
     "execution_count": 17,
     "metadata": {},
     "output_type": "execute_result"
    }
   ],
   "source": [
    "# Se define un list donde almacenar los resultados de la función show\n",
    "tabla = []\n",
    "for i in range(0, ibor_leg.size()):\n",
    "    tabla.append(Qcf.show(ibor_leg.get_cashflow_at(i)))\n",
    "\n",
    "# Se utiliza tabla para inicializar el Dataframe\n",
    "columnas = ['fecha_inicial', 'fecha__final', 'fecha_fixing', 'fecha__pago', 'nominal', 'amort', 'interes', 'amort_es_flujo', 'flujo',\n",
    "            'moneda', 'codigo_indice', 'valor_tasa', 'spread', 'gearing', 'tipo_tasa']\n",
    "df5 = pd.DataFrame(tabla, columns=columnas)\n",
    "\n",
    "# Se despliega la data en este formato\n",
    "df5.style.format(format_dict)"
   ]
  },
  {
   "cell_type": "code",
   "execution_count": 18,
   "metadata": {},
   "outputs": [],
   "source": [
    "fwd_rates = Qcf.ForwardRates()"
   ]
  },
  {
   "cell_type": "code",
   "execution_count": 19,
   "metadata": {},
   "outputs": [],
   "source": [
    "libor = 0.0190063\n",
    "ibor_leg.get_cashflow_at(0).set_rate_value(libor)\n",
    "fwd_rates.set_rates_ibor_leg(fecha_hoy, ibor_leg, zz2)"
   ]
  },
  {
   "cell_type": "code",
   "execution_count": 20,
   "metadata": {},
   "outputs": [
    {
     "data": {
      "text/html": [
       "<style  type=\"text/css\" >\n",
       "</style><table id=\"T_dc9b5a38_3d67_11ea_8142_acde48001122\" ><thead>    <tr>        <th class=\"blank level0\" ></th>        <th class=\"col_heading level0 col0\" >fecha_inicial</th>        <th class=\"col_heading level0 col1\" >fecha__final</th>        <th class=\"col_heading level0 col2\" >fecha_fixing</th>        <th class=\"col_heading level0 col3\" >fecha__pago</th>        <th class=\"col_heading level0 col4\" >nominal</th>        <th class=\"col_heading level0 col5\" >amort</th>        <th class=\"col_heading level0 col6\" >interes</th>        <th class=\"col_heading level0 col7\" >amort_es_flujo</th>        <th class=\"col_heading level0 col8\" >flujo</th>        <th class=\"col_heading level0 col9\" >moneda</th>        <th class=\"col_heading level0 col10\" >codigo_indice</th>        <th class=\"col_heading level0 col11\" >valor_tasa</th>        <th class=\"col_heading level0 col12\" >spread</th>        <th class=\"col_heading level0 col13\" >gearing</th>        <th class=\"col_heading level0 col14\" >tipo_tasa</th>    </tr></thead><tbody>\n",
       "                <tr>\n",
       "                        <th id=\"T_dc9b5a38_3d67_11ea_8142_acde48001122level0_row0\" class=\"row_heading level0 row0\" >0</th>\n",
       "                        <td id=\"T_dc9b5a38_3d67_11ea_8142_acde48001122row0_col0\" class=\"data row0 col0\" >2019-11-12</td>\n",
       "                        <td id=\"T_dc9b5a38_3d67_11ea_8142_acde48001122row0_col1\" class=\"data row0 col1\" >2020-02-12</td>\n",
       "                        <td id=\"T_dc9b5a38_3d67_11ea_8142_acde48001122row0_col2\" class=\"data row0 col2\" >2019-11-08</td>\n",
       "                        <td id=\"T_dc9b5a38_3d67_11ea_8142_acde48001122row0_col3\" class=\"data row0 col3\" >2020-02-12</td>\n",
       "                        <td id=\"T_dc9b5a38_3d67_11ea_8142_acde48001122row0_col4\" class=\"data row0 col4\" >20,000,000.00</td>\n",
       "                        <td id=\"T_dc9b5a38_3d67_11ea_8142_acde48001122row0_col5\" class=\"data row0 col5\" >0.00</td>\n",
       "                        <td id=\"T_dc9b5a38_3d67_11ea_8142_acde48001122row0_col6\" class=\"data row0 col6\" >97,143.31</td>\n",
       "                        <td id=\"T_dc9b5a38_3d67_11ea_8142_acde48001122row0_col7\" class=\"data row0 col7\" >True</td>\n",
       "                        <td id=\"T_dc9b5a38_3d67_11ea_8142_acde48001122row0_col8\" class=\"data row0 col8\" >97,143.31</td>\n",
       "                        <td id=\"T_dc9b5a38_3d67_11ea_8142_acde48001122row0_col9\" class=\"data row0 col9\" >USD</td>\n",
       "                        <td id=\"T_dc9b5a38_3d67_11ea_8142_acde48001122row0_col10\" class=\"data row0 col10\" >LIBORUSD3M</td>\n",
       "                        <td id=\"T_dc9b5a38_3d67_11ea_8142_acde48001122row0_col11\" class=\"data row0 col11\" >1.9006%</td>\n",
       "                        <td id=\"T_dc9b5a38_3d67_11ea_8142_acde48001122row0_col12\" class=\"data row0 col12\" >0.0000%</td>\n",
       "                        <td id=\"T_dc9b5a38_3d67_11ea_8142_acde48001122row0_col13\" class=\"data row0 col13\" >1.00</td>\n",
       "                        <td id=\"T_dc9b5a38_3d67_11ea_8142_acde48001122row0_col14\" class=\"data row0 col14\" >LinAct360</td>\n",
       "            </tr>\n",
       "            <tr>\n",
       "                        <th id=\"T_dc9b5a38_3d67_11ea_8142_acde48001122level0_row1\" class=\"row_heading level0 row1\" >1</th>\n",
       "                        <td id=\"T_dc9b5a38_3d67_11ea_8142_acde48001122row1_col0\" class=\"data row1 col0\" >2020-02-12</td>\n",
       "                        <td id=\"T_dc9b5a38_3d67_11ea_8142_acde48001122row1_col1\" class=\"data row1 col1\" >2020-05-12</td>\n",
       "                        <td id=\"T_dc9b5a38_3d67_11ea_8142_acde48001122row1_col2\" class=\"data row1 col2\" >2020-02-10</td>\n",
       "                        <td id=\"T_dc9b5a38_3d67_11ea_8142_acde48001122row1_col3\" class=\"data row1 col3\" >2020-05-12</td>\n",
       "                        <td id=\"T_dc9b5a38_3d67_11ea_8142_acde48001122row1_col4\" class=\"data row1 col4\" >20,000,000.00</td>\n",
       "                        <td id=\"T_dc9b5a38_3d67_11ea_8142_acde48001122row1_col5\" class=\"data row1 col5\" >0.00</td>\n",
       "                        <td id=\"T_dc9b5a38_3d67_11ea_8142_acde48001122row1_col6\" class=\"data row1 col6\" >90,976.54</td>\n",
       "                        <td id=\"T_dc9b5a38_3d67_11ea_8142_acde48001122row1_col7\" class=\"data row1 col7\" >True</td>\n",
       "                        <td id=\"T_dc9b5a38_3d67_11ea_8142_acde48001122row1_col8\" class=\"data row1 col8\" >90,976.54</td>\n",
       "                        <td id=\"T_dc9b5a38_3d67_11ea_8142_acde48001122row1_col9\" class=\"data row1 col9\" >USD</td>\n",
       "                        <td id=\"T_dc9b5a38_3d67_11ea_8142_acde48001122row1_col10\" class=\"data row1 col10\" >LIBORUSD3M</td>\n",
       "                        <td id=\"T_dc9b5a38_3d67_11ea_8142_acde48001122row1_col11\" class=\"data row1 col11\" >1.8195%</td>\n",
       "                        <td id=\"T_dc9b5a38_3d67_11ea_8142_acde48001122row1_col12\" class=\"data row1 col12\" >0.0000%</td>\n",
       "                        <td id=\"T_dc9b5a38_3d67_11ea_8142_acde48001122row1_col13\" class=\"data row1 col13\" >1.00</td>\n",
       "                        <td id=\"T_dc9b5a38_3d67_11ea_8142_acde48001122row1_col14\" class=\"data row1 col14\" >LinAct360</td>\n",
       "            </tr>\n",
       "            <tr>\n",
       "                        <th id=\"T_dc9b5a38_3d67_11ea_8142_acde48001122level0_row2\" class=\"row_heading level0 row2\" >2</th>\n",
       "                        <td id=\"T_dc9b5a38_3d67_11ea_8142_acde48001122row2_col0\" class=\"data row2 col0\" >2020-05-12</td>\n",
       "                        <td id=\"T_dc9b5a38_3d67_11ea_8142_acde48001122row2_col1\" class=\"data row2 col1\" >2020-08-12</td>\n",
       "                        <td id=\"T_dc9b5a38_3d67_11ea_8142_acde48001122row2_col2\" class=\"data row2 col2\" >2020-05-08</td>\n",
       "                        <td id=\"T_dc9b5a38_3d67_11ea_8142_acde48001122row2_col3\" class=\"data row2 col3\" >2020-08-12</td>\n",
       "                        <td id=\"T_dc9b5a38_3d67_11ea_8142_acde48001122row2_col4\" class=\"data row2 col4\" >20,000,000.00</td>\n",
       "                        <td id=\"T_dc9b5a38_3d67_11ea_8142_acde48001122row2_col5\" class=\"data row2 col5\" >0.00</td>\n",
       "                        <td id=\"T_dc9b5a38_3d67_11ea_8142_acde48001122row2_col6\" class=\"data row2 col6\" >84,975.01</td>\n",
       "                        <td id=\"T_dc9b5a38_3d67_11ea_8142_acde48001122row2_col7\" class=\"data row2 col7\" >True</td>\n",
       "                        <td id=\"T_dc9b5a38_3d67_11ea_8142_acde48001122row2_col8\" class=\"data row2 col8\" >84,975.01</td>\n",
       "                        <td id=\"T_dc9b5a38_3d67_11ea_8142_acde48001122row2_col9\" class=\"data row2 col9\" >USD</td>\n",
       "                        <td id=\"T_dc9b5a38_3d67_11ea_8142_acde48001122row2_col10\" class=\"data row2 col10\" >LIBORUSD3M</td>\n",
       "                        <td id=\"T_dc9b5a38_3d67_11ea_8142_acde48001122row2_col11\" class=\"data row2 col11\" >1.6626%</td>\n",
       "                        <td id=\"T_dc9b5a38_3d67_11ea_8142_acde48001122row2_col12\" class=\"data row2 col12\" >0.0000%</td>\n",
       "                        <td id=\"T_dc9b5a38_3d67_11ea_8142_acde48001122row2_col13\" class=\"data row2 col13\" >1.00</td>\n",
       "                        <td id=\"T_dc9b5a38_3d67_11ea_8142_acde48001122row2_col14\" class=\"data row2 col14\" >LinAct360</td>\n",
       "            </tr>\n",
       "            <tr>\n",
       "                        <th id=\"T_dc9b5a38_3d67_11ea_8142_acde48001122level0_row3\" class=\"row_heading level0 row3\" >3</th>\n",
       "                        <td id=\"T_dc9b5a38_3d67_11ea_8142_acde48001122row3_col0\" class=\"data row3 col0\" >2020-08-12</td>\n",
       "                        <td id=\"T_dc9b5a38_3d67_11ea_8142_acde48001122row3_col1\" class=\"data row3 col1\" >2020-11-12</td>\n",
       "                        <td id=\"T_dc9b5a38_3d67_11ea_8142_acde48001122row3_col2\" class=\"data row3 col2\" >2020-08-10</td>\n",
       "                        <td id=\"T_dc9b5a38_3d67_11ea_8142_acde48001122row3_col3\" class=\"data row3 col3\" >2020-11-12</td>\n",
       "                        <td id=\"T_dc9b5a38_3d67_11ea_8142_acde48001122row3_col4\" class=\"data row3 col4\" >20,000,000.00</td>\n",
       "                        <td id=\"T_dc9b5a38_3d67_11ea_8142_acde48001122row3_col5\" class=\"data row3 col5\" >20,000,000.00</td>\n",
       "                        <td id=\"T_dc9b5a38_3d67_11ea_8142_acde48001122row3_col6\" class=\"data row3 col6\" >81,722.54</td>\n",
       "                        <td id=\"T_dc9b5a38_3d67_11ea_8142_acde48001122row3_col7\" class=\"data row3 col7\" >True</td>\n",
       "                        <td id=\"T_dc9b5a38_3d67_11ea_8142_acde48001122row3_col8\" class=\"data row3 col8\" >20,081,722.54</td>\n",
       "                        <td id=\"T_dc9b5a38_3d67_11ea_8142_acde48001122row3_col9\" class=\"data row3 col9\" >USD</td>\n",
       "                        <td id=\"T_dc9b5a38_3d67_11ea_8142_acde48001122row3_col10\" class=\"data row3 col10\" >LIBORUSD3M</td>\n",
       "                        <td id=\"T_dc9b5a38_3d67_11ea_8142_acde48001122row3_col11\" class=\"data row3 col11\" >1.5989%</td>\n",
       "                        <td id=\"T_dc9b5a38_3d67_11ea_8142_acde48001122row3_col12\" class=\"data row3 col12\" >0.0000%</td>\n",
       "                        <td id=\"T_dc9b5a38_3d67_11ea_8142_acde48001122row3_col13\" class=\"data row3 col13\" >1.00</td>\n",
       "                        <td id=\"T_dc9b5a38_3d67_11ea_8142_acde48001122row3_col14\" class=\"data row3 col14\" >LinAct360</td>\n",
       "            </tr>\n",
       "    </tbody></table>"
      ],
      "text/plain": [
       "<pandas.io.formats.style.Styler at 0x11e097990>"
      ]
     },
     "execution_count": 20,
     "metadata": {},
     "output_type": "execute_result"
    }
   ],
   "source": [
    "# Se define un list donde almacenar los resultados de la función show\n",
    "tabla = []\n",
    "for i in range(0, ibor_leg.size()):\n",
    "    tabla.append(Qcf.show(ibor_leg.get_cashflow_at(i)))\n",
    "\n",
    "# Se utiliza tabla para inicializar el Dataframe\n",
    "columnas = ['fecha_inicial', 'fecha__final', 'fecha_fixing', 'fecha__pago', 'nominal', 'amort', 'interes', 'amort_es_flujo', 'flujo',\n",
    "            'moneda', 'codigo_indice', 'valor_tasa', 'spread', 'gearing', 'tipo_tasa']\n",
    "df5 = pd.DataFrame(tabla, columns=columnas)\n",
    "\n",
    "# Se despliega la data en este formato\n",
    "df5.style.format(format_dict)"
   ]
  },
  {
   "cell_type": "code",
   "execution_count": 21,
   "metadata": {},
   "outputs": [
    {
     "name": "stdout",
     "output_type": "stream",
     "text": [
      "d1: 21\n",
      "d2: 111\n",
      "Factor forward: 100.4549%\n",
      "Tasa forward: 1.8195%\n",
      "Curve method 1.8195%\n"
     ]
    }
   ],
   "source": [
    "which_cashflow = 1\n",
    "d1 = fecha_hoy.day_diff(ibor_leg.get_cashflow_at(which_cashflow).get_start_date())\n",
    "d2 = fecha_hoy.day_diff(ibor_leg.get_cashflow_at(which_cashflow).get_end_date())\n",
    "print(\"d1: {0:,.0f}\".format(d1))\n",
    "print(\"d2: {0:,.0f}\".format(d2))\n",
    "crv = zz2\n",
    "w1 = 1 / crv.get_discount_factor_at(d1)\n",
    "w2 = 1 / crv.get_discount_factor_at(d2)\n",
    "print(\"Factor forward: {0:.4%}\".format(w2 / w1))\n",
    "print(\"Tasa forward: {0:.4%}\".format((w2 / w1 - 1) * 360 / (d2 - d1)))\n",
    "print(\"Curve method {0:.4%}\".format(crv.get_forward_rate_with_rate(libor_usd_3m.get_rate(), d1, d2)))"
   ]
  },
  {
   "cell_type": "code",
   "execution_count": 22,
   "metadata": {
    "cell_style": "center"
   },
   "outputs": [
    {
     "name": "stdout",
     "output_type": "stream",
     "text": [
      "Valor presente pata IBOR: 20,078,220\n"
     ]
    }
   ],
   "source": [
    "vp_ibor = pv.pv(fecha_hoy, ibor_leg, zz2)\n",
    "print(\"Valor presente pata IBOR: {0:,.0f}\".format(vp_ibor))"
   ]
  },
  {
   "cell_type": "markdown",
   "metadata": {},
   "source": [
    "Es el mismo valor presente que la pata flotante de la operación 2879 en FD."
   ]
  },
  {
   "cell_type": "code",
   "execution_count": 23,
   "metadata": {},
   "outputs": [
    {
     "name": "stdout",
     "output_type": "stream",
     "text": [
      "Sensibilidad en 0: 0\n",
      "Sensibilidad en 1: 0\n",
      "Sensibilidad en 2: 0\n",
      "Sensibilidad en 3: -0\n",
      "Sensibilidad en 4: -0\n",
      "Sensibilidad en 5: 0\n",
      "Sensibilidad en 6: -1\n",
      "Sensibilidad en 7: -2\n",
      "Sensibilidad en 8: 0\n",
      "Sensibilidad en 9: -2\n",
      "Sensibilidad en 10: -3\n",
      "Sensibilidad en 11: 0\n",
      "Sensibilidad en 12: -552\n",
      "Sensibilidad en 13: -1,049\n",
      "Sensibilidad en 14: 0\n",
      "Sensibilidad en 15: 0\n",
      "Sensibilidad en 16: 0\n",
      "Sensibilidad en 17: 0\n",
      "Sensibilidad en 18: 0\n",
      "Sensibilidad en 19: 0\n",
      "Sensibilidad en 20: 0\n",
      "Sensibilidad en 21: 0\n",
      "Sensibilidad en 22: 0\n",
      "Sensibilidad en 23: 0\n",
      "Sensibilidad en 24: 0\n",
      "Sensibilidad en 25: 0\n",
      "Sensibilidad en 26: 0\n",
      "Sensibilidad en 27: 0\n",
      "Sensibilidad de descuento: -1,609 USD\n"
     ]
    }
   ],
   "source": [
    "der = pv.get_derivatives()\n",
    "i = 0\n",
    "bp = .0001\n",
    "for d in der:\n",
    "    print(\"Sensibilidad en {0:}: {1:0,.0f}\".format(i, d * bp))\n",
    "    i += 1\n",
    "print(\"Sensibilidad de descuento: {0:,.0f} USD\".format(sum(der) * bp))"
   ]
  },
  {
   "cell_type": "markdown",
   "metadata": {},
   "source": [
    "#### Se verifica la sensibilidad de descuento por diferencias finitas."
   ]
  },
  {
   "cell_type": "code",
   "execution_count": 24,
   "metadata": {},
   "outputs": [
    {
     "name": "stdout",
     "output_type": "stream",
     "text": [
      "Valor presente up pata IBOR: 20,077,171\n",
      "Valor presente down pata IBOR: 20,079,269\n",
      "Sensibilidad de descuento en el vértice 13: -1,049\n"
     ]
    }
   ],
   "source": [
    "vp_ibor_up = pv.pv(fecha_hoy, ibor_leg, zz2_sens_up)\n",
    "print(\"Valor presente up pata IBOR: {0:,.0f}\".format(vp_ibor_up))\n",
    "\n",
    "vp_ibor_down = pv.pv(fecha_hoy, ibor_leg, zz2_sens_down)\n",
    "print(\"Valor presente down pata IBOR: {0:,.0f}\".format(vp_ibor_down))\n",
    "\n",
    "print(\"Sensibilidad de descuento en el vértice {0:}: {1:,.0f}\".format(vertice, (vp_ibor_up - vp_ibor_down) / 2))"
   ]
  },
  {
   "cell_type": "markdown",
   "metadata": {},
   "source": [
    "Se calcula también la sensibilidad a la curva de proyección."
   ]
  },
  {
   "cell_type": "code",
   "execution_count": 25,
   "metadata": {},
   "outputs": [
    {
     "name": "stdout",
     "output_type": "stream",
     "text": [
      "Sensibilidad en 0: 0\n",
      "Sensibilidad en 1: 0\n",
      "Sensibilidad en 2: 0\n",
      "Sensibilidad en 3: -68\n",
      "Sensibilidad en 4: -48\n",
      "Sensibilidad en 5: 0\n",
      "Sensibilidad en 6: 1\n",
      "Sensibilidad en 7: 2\n",
      "Sensibilidad en 8: 0\n",
      "Sensibilidad en 9: 2\n",
      "Sensibilidad en 10: 3\n",
      "Sensibilidad en 11: 0\n",
      "Sensibilidad en 12: 552\n",
      "Sensibilidad en 13: 1,049\n",
      "Sensibilidad en 14: 0\n",
      "Sensibilidad en 15: 0\n",
      "Sensibilidad en 16: 0\n",
      "Sensibilidad en 17: 0\n",
      "Sensibilidad en 18: 0\n",
      "Sensibilidad en 19: 0\n",
      "Sensibilidad en 20: 0\n",
      "Sensibilidad en 21: 0\n",
      "Sensibilidad en 22: 0\n",
      "Sensibilidad en 23: 0\n",
      "Sensibilidad en 24: 0\n",
      "Sensibilidad en 25: 0\n",
      "Sensibilidad en 26: 0\n",
      "Sensibilidad en 27: 0\n",
      "Sensibilidad de proyección: 1,492 USD\n"
     ]
    }
   ],
   "source": [
    "import numpy as np\n",
    "bp = .0001\n",
    "result = []\n",
    "\n",
    "for i in range(ibor_leg.size()):\n",
    "    cshflw = ibor_leg.get_cashflow_at(i)\n",
    "    df = zz2.get_discount_factor_at(fecha_hoy.day_diff(cshflw.get_settlement_date()))\n",
    "    amt_der = cshflw.get_amount_derivatives()\n",
    "    if len(amt_der) > 0:\n",
    "        amt_der = [a * bp * df for a in amt_der]\n",
    "        result.append(np.array(amt_der))\n",
    "\n",
    "total = result[0] * 0\n",
    "for r in result:\n",
    "    total += r\n",
    "\n",
    "for i in range(len(total)):\n",
    "    print(\"Sensibilidad en {0:}: {1:0,.0f}\".format(i, total[i]))\n",
    "\n",
    "print(\"Sensibilidad de proyección: {0:,.0f} USD\".format(sum(total)))"
   ]
  },
  {
   "cell_type": "markdown",
   "metadata": {},
   "source": [
    "#### Se verifica la sensibilidad de proyección por diferencias finitas."
   ]
  },
  {
   "cell_type": "code",
   "execution_count": 26,
   "metadata": {},
   "outputs": [
    {
     "name": "stdout",
     "output_type": "stream",
     "text": [
      "Valor presente up pata IBOR: 20,079,269\n",
      "Valor presente down pata IBOR: 20,077,171\n",
      "Sensibilidad de proyección en el vértice 13: 1,049\n"
     ]
    }
   ],
   "source": [
    "fwd_rates.set_rates_ibor_leg(fecha_hoy, ibor_leg, zz2_sens_up)\n",
    "vp_ibor_up = pv.pv(fecha_hoy, ibor_leg, zz2)\n",
    "print(\"Valor presente up pata IBOR: {0:,.0f}\".format(vp_ibor_up))\n",
    "\n",
    "fwd_rates.set_rates_ibor_leg(fecha_hoy, ibor_leg, zz2_sens_down)\n",
    "vp_ibor_down = pv.pv(fecha_hoy, ibor_leg, zz2)\n",
    "print(\"Valor presente down pata IBOR: {0:,.0f}\".format(vp_ibor_down))\n",
    "\n",
    "print(\"Sensibilidad de proyección en el vértice {0:}: {1:,.0f}\".format(vertice, (vp_ibor_up - vp_ibor_down) / 2))"
   ]
  }
 ],
 "metadata": {
  "hide_input": false,
  "kernelspec": {
   "display_name": "Python 3",
   "language": "python",
   "name": "python3"
  },
  "language_info": {
   "codemirror_mode": {
    "name": "ipython",
    "version": 3
   },
   "file_extension": ".py",
   "mimetype": "text/x-python",
   "name": "python",
   "nbconvert_exporter": "python",
   "pygments_lexer": "ipython3",
   "version": "3.7.4"
  },
  "toc": {
   "base_numbering": 1,
   "nav_menu": {},
   "number_sections": true,
   "sideBar": true,
   "skip_h1_title": true,
   "title_cell": "Table of Contents",
   "title_sidebar": "Contenidos",
   "toc_cell": false,
   "toc_position": {
    "height": "calc(100% - 180px)",
    "left": "10px",
    "top": "150px",
    "width": "249px"
   },
   "toc_section_display": true,
   "toc_window_display": true
  },
  "varInspector": {
   "cols": {
    "lenName": 16,
    "lenType": 16,
    "lenVar": 40
   },
   "kernels_config": {
    "python": {
     "delete_cmd_postfix": "",
     "delete_cmd_prefix": "del ",
     "library": "var_list.py",
     "varRefreshCmd": "print(var_dic_list())"
    },
    "r": {
     "delete_cmd_postfix": ") ",
     "delete_cmd_prefix": "rm(",
     "library": "var_list.r",
     "varRefreshCmd": "cat(var_dic_list()) "
    }
   },
   "types_to_exclude": [
    "module",
    "function",
    "builtin_function_or_method",
    "instance",
    "_Feature"
   ],
   "window_display": false
  }
 },
 "nbformat": 4,
 "nbformat_minor": 2
}
